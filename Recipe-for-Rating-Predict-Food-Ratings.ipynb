{
 "cells": [
  {
   "cell_type": "markdown",
   "id": "c028960c",
   "metadata": {
    "papermill": {
     "duration": 0.029994,
     "end_time": "2024-04-10T11:44:21.380438",
     "exception": false,
     "start_time": "2024-04-10T11:44:21.350444",
     "status": "completed"
    },
    "tags": []
   },
   "source": [
    "# Old Trials"
   ]
  },
  {
   "cell_type": "code",
   "execution_count": 1,
   "id": "3f978057",
   "metadata": {
    "execution": {
     "iopub.execute_input": "2024-04-10T11:44:21.440231Z",
     "iopub.status.busy": "2024-04-10T11:44:21.439608Z",
     "iopub.status.idle": "2024-04-10T11:44:22.322749Z",
     "shell.execute_reply": "2024-04-10T11:44:22.321895Z"
    },
    "papermill": {
     "duration": 0.91591,
     "end_time": "2024-04-10T11:44:22.325223",
     "exception": false,
     "start_time": "2024-04-10T11:44:21.409313",
     "status": "completed"
    },
    "tags": []
   },
   "outputs": [],
   "source": [
    "import pandas as pd\n",
    "import numpy as np"
   ]
  },
  {
   "cell_type": "code",
   "execution_count": 2,
   "id": "5a088e8f",
   "metadata": {
    "execution": {
     "iopub.execute_input": "2024-04-10T11:44:22.384754Z",
     "iopub.status.busy": "2024-04-10T11:44:22.384016Z",
     "iopub.status.idle": "2024-04-10T11:44:22.605939Z",
     "shell.execute_reply": "2024-04-10T11:44:22.604717Z"
    },
    "papermill": {
     "duration": 0.254775,
     "end_time": "2024-04-10T11:44:22.608716",
     "exception": false,
     "start_time": "2024-04-10T11:44:22.353941",
     "status": "completed"
    },
    "tags": []
   },
   "outputs": [],
   "source": [
    "test_data = pd.read_csv('/kaggle/input/recipe-for-rating-predict-food-ratings-using-ml/test.csv')\n",
    "train_data = pd.read_csv('/kaggle/input/recipe-for-rating-predict-food-ratings-using-ml/train.csv')"
   ]
  },
  {
   "cell_type": "code",
   "execution_count": 3,
   "id": "d16b55f6",
   "metadata": {
    "execution": {
     "iopub.execute_input": "2024-04-10T11:44:22.668867Z",
     "iopub.status.busy": "2024-04-10T11:44:22.667825Z",
     "iopub.status.idle": "2024-04-10T11:44:22.674603Z",
     "shell.execute_reply": "2024-04-10T11:44:22.673904Z"
    },
    "papermill": {
     "duration": 0.039591,
     "end_time": "2024-04-10T11:44:22.676623",
     "exception": false,
     "start_time": "2024-04-10T11:44:22.637032",
     "status": "completed"
    },
    "tags": []
   },
   "outputs": [
    {
     "data": {
      "text/plain": [
       "(13636, 15)"
      ]
     },
     "execution_count": 3,
     "metadata": {},
     "output_type": "execute_result"
    }
   ],
   "source": [
    "train_data.shape"
   ]
  },
  {
   "cell_type": "code",
   "execution_count": 4,
   "id": "a7a6126f",
   "metadata": {
    "execution": {
     "iopub.execute_input": "2024-04-10T11:44:22.735899Z",
     "iopub.status.busy": "2024-04-10T11:44:22.735272Z",
     "iopub.status.idle": "2024-04-10T11:44:22.754598Z",
     "shell.execute_reply": "2024-04-10T11:44:22.753807Z"
    },
    "papermill": {
     "duration": 0.051298,
     "end_time": "2024-04-10T11:44:22.756681",
     "exception": false,
     "start_time": "2024-04-10T11:44:22.705383",
     "status": "completed"
    },
    "tags": []
   },
   "outputs": [
    {
     "data": {
      "text/html": [
       "<div>\n",
       "<style scoped>\n",
       "    .dataframe tbody tr th:only-of-type {\n",
       "        vertical-align: middle;\n",
       "    }\n",
       "\n",
       "    .dataframe tbody tr th {\n",
       "        vertical-align: top;\n",
       "    }\n",
       "\n",
       "    .dataframe thead th {\n",
       "        text-align: right;\n",
       "    }\n",
       "</style>\n",
       "<table border=\"1\" class=\"dataframe\">\n",
       "  <thead>\n",
       "    <tr style=\"text-align: right;\">\n",
       "      <th></th>\n",
       "      <th>ID</th>\n",
       "      <th>RecipeNumber</th>\n",
       "      <th>RecipeCode</th>\n",
       "      <th>RecipeName</th>\n",
       "      <th>CommentID</th>\n",
       "      <th>UserID</th>\n",
       "      <th>UserName</th>\n",
       "      <th>UserReputation</th>\n",
       "      <th>CreationTimestamp</th>\n",
       "      <th>ReplyCount</th>\n",
       "      <th>ThumbsUpCount</th>\n",
       "      <th>ThumbsDownCount</th>\n",
       "      <th>Rating</th>\n",
       "      <th>BestScore</th>\n",
       "      <th>Recipe_Review</th>\n",
       "    </tr>\n",
       "  </thead>\n",
       "  <tbody>\n",
       "    <tr>\n",
       "      <th>0</th>\n",
       "      <td>70</td>\n",
       "      <td>71</td>\n",
       "      <td>12259</td>\n",
       "      <td>Banana Bars with Cream Cheese Frosting</td>\n",
       "      <td>sp_aUSaElGf_12259_c_149978</td>\n",
       "      <td>u_1oKVaBmiEKwAFyiHrDLoWpbel0J</td>\n",
       "      <td>misscoffeepot</td>\n",
       "      <td>20</td>\n",
       "      <td>1622717078</td>\n",
       "      <td>0</td>\n",
       "      <td>0</td>\n",
       "      <td>0</td>\n",
       "      <td>5</td>\n",
       "      <td>100</td>\n",
       "      <td>great recipe! I have made them just as written...</td>\n",
       "    </tr>\n",
       "    <tr>\n",
       "      <th>1</th>\n",
       "      <td>72</td>\n",
       "      <td>88</td>\n",
       "      <td>8202</td>\n",
       "      <td>Simple Taco Soup</td>\n",
       "      <td>sp_aUSaElGf_8202_c_310332</td>\n",
       "      <td>u_1oKZeRIXYzGNhGW8OMR3O4lX1ih</td>\n",
       "      <td>MichelleMalone</td>\n",
       "      <td>1</td>\n",
       "      <td>1622717852</td>\n",
       "      <td>0</td>\n",
       "      <td>0</td>\n",
       "      <td>1</td>\n",
       "      <td>5</td>\n",
       "      <td>100</td>\n",
       "      <td>This is an easy and quick recipe that is great...</td>\n",
       "    </tr>\n",
       "    <tr>\n",
       "      <th>2</th>\n",
       "      <td>458</td>\n",
       "      <td>3</td>\n",
       "      <td>2832</td>\n",
       "      <td>Cheeseburger Soup</td>\n",
       "      <td>sp_aUSaElGf_2832_c_206522</td>\n",
       "      <td>u_1oKYHUtdaD48KJCDYq5wfpAUxWz</td>\n",
       "      <td>jeannem32</td>\n",
       "      <td>1</td>\n",
       "      <td>1622717357</td>\n",
       "      <td>0</td>\n",
       "      <td>0</td>\n",
       "      <td>0</td>\n",
       "      <td>3</td>\n",
       "      <td>100</td>\n",
       "      <td>I think I was looking for something extra spec...</td>\n",
       "    </tr>\n",
       "    <tr>\n",
       "      <th>3</th>\n",
       "      <td>7</td>\n",
       "      <td>50</td>\n",
       "      <td>100276</td>\n",
       "      <td>Grilled Huli Huli Chicken</td>\n",
       "      <td>sp_aUSaElGf_100276_c_434088</td>\n",
       "      <td>u_1oKZCQcKQZdQhDVBS7oISc216VA</td>\n",
       "      <td>ds422</td>\n",
       "      <td>1</td>\n",
       "      <td>1622648899</td>\n",
       "      <td>0</td>\n",
       "      <td>0</td>\n",
       "      <td>0</td>\n",
       "      <td>5</td>\n",
       "      <td>100</td>\n",
       "      <td>This is our favorite grilled chicken recipe.  ...</td>\n",
       "    </tr>\n",
       "    <tr>\n",
       "      <th>4</th>\n",
       "      <td>60</td>\n",
       "      <td>12</td>\n",
       "      <td>19731</td>\n",
       "      <td>Cauliflower Soup</td>\n",
       "      <td>sp_aUSaElGf_19731_c_387011</td>\n",
       "      <td>u_1oKd4sudZQPgu6YALiC7bW7mKMs</td>\n",
       "      <td>SusanHoward</td>\n",
       "      <td>1</td>\n",
       "      <td>1622718260</td>\n",
       "      <td>0</td>\n",
       "      <td>0</td>\n",
       "      <td>0</td>\n",
       "      <td>4</td>\n",
       "      <td>100</td>\n",
       "      <td>Great basic recipe. I added 2 teaspoons Tuscan...</td>\n",
       "    </tr>\n",
       "  </tbody>\n",
       "</table>\n",
       "</div>"
      ],
      "text/plain": [
       "    ID  RecipeNumber  RecipeCode                              RecipeName  \\\n",
       "0   70            71       12259  Banana Bars with Cream Cheese Frosting   \n",
       "1   72            88        8202                        Simple Taco Soup   \n",
       "2  458             3        2832                       Cheeseburger Soup   \n",
       "3    7            50      100276               Grilled Huli Huli Chicken   \n",
       "4   60            12       19731                        Cauliflower Soup   \n",
       "\n",
       "                     CommentID                         UserID        UserName  \\\n",
       "0   sp_aUSaElGf_12259_c_149978  u_1oKVaBmiEKwAFyiHrDLoWpbel0J   misscoffeepot   \n",
       "1    sp_aUSaElGf_8202_c_310332  u_1oKZeRIXYzGNhGW8OMR3O4lX1ih  MichelleMalone   \n",
       "2    sp_aUSaElGf_2832_c_206522  u_1oKYHUtdaD48KJCDYq5wfpAUxWz       jeannem32   \n",
       "3  sp_aUSaElGf_100276_c_434088  u_1oKZCQcKQZdQhDVBS7oISc216VA           ds422   \n",
       "4   sp_aUSaElGf_19731_c_387011  u_1oKd4sudZQPgu6YALiC7bW7mKMs     SusanHoward   \n",
       "\n",
       "   UserReputation  CreationTimestamp  ReplyCount  ThumbsUpCount  \\\n",
       "0              20         1622717078           0              0   \n",
       "1               1         1622717852           0              0   \n",
       "2               1         1622717357           0              0   \n",
       "3               1         1622648899           0              0   \n",
       "4               1         1622718260           0              0   \n",
       "\n",
       "   ThumbsDownCount  Rating  BestScore  \\\n",
       "0                0       5        100   \n",
       "1                1       5        100   \n",
       "2                0       3        100   \n",
       "3                0       5        100   \n",
       "4                0       4        100   \n",
       "\n",
       "                                       Recipe_Review  \n",
       "0  great recipe! I have made them just as written...  \n",
       "1  This is an easy and quick recipe that is great...  \n",
       "2  I think I was looking for something extra spec...  \n",
       "3  This is our favorite grilled chicken recipe.  ...  \n",
       "4  Great basic recipe. I added 2 teaspoons Tuscan...  "
      ]
     },
     "execution_count": 4,
     "metadata": {},
     "output_type": "execute_result"
    }
   ],
   "source": [
    "train_data.head()"
   ]
  },
  {
   "cell_type": "code",
   "execution_count": 5,
   "id": "89ebce6d",
   "metadata": {
    "execution": {
     "iopub.execute_input": "2024-04-10T11:44:22.818002Z",
     "iopub.status.busy": "2024-04-10T11:44:22.817601Z",
     "iopub.status.idle": "2024-04-10T11:44:22.829505Z",
     "shell.execute_reply": "2024-04-10T11:44:22.827766Z"
    },
    "papermill": {
     "duration": 0.04527,
     "end_time": "2024-04-10T11:44:22.831989",
     "exception": false,
     "start_time": "2024-04-10T11:44:22.786719",
     "status": "completed"
    },
    "tags": []
   },
   "outputs": [
    {
     "name": "stdout",
     "output_type": "stream",
     "text": [
      "{0: 1272, 1: 210, 2: 174, 3: 368, 4: 1241, 5: 10371}\n"
     ]
    }
   ],
   "source": [
    "counts = {value: np.sum(train_data['Rating'] == value) for value in np.unique(train_data['Rating'])}\n",
    "print(counts)"
   ]
  },
  {
   "cell_type": "code",
   "execution_count": 6,
   "id": "5f4dcff8",
   "metadata": {
    "execution": {
     "iopub.execute_input": "2024-04-10T11:44:22.952506Z",
     "iopub.status.busy": "2024-04-10T11:44:22.952116Z",
     "iopub.status.idle": "2024-04-10T11:44:22.963675Z",
     "shell.execute_reply": "2024-04-10T11:44:22.962657Z"
    },
    "papermill": {
     "duration": 0.104636,
     "end_time": "2024-04-10T11:44:22.966158",
     "exception": false,
     "start_time": "2024-04-10T11:44:22.861522",
     "status": "completed"
    },
    "tags": []
   },
   "outputs": [],
   "source": [
    "columns_to_drop = ['ID', 'RecipeNumber', 'CommentID', 'UserID', 'CreationTimestamp','RecipeCode','UserName','RecipeName'] #, 'BestScore'\n",
    "train_data = train_data.drop(columns=columns_to_drop)\n",
    "test_data = test_data.drop(columns=columns_to_drop)"
   ]
  },
  {
   "cell_type": "code",
   "execution_count": 7,
   "id": "b56b6186",
   "metadata": {
    "execution": {
     "iopub.execute_input": "2024-04-10T11:44:23.027504Z",
     "iopub.status.busy": "2024-04-10T11:44:23.026642Z",
     "iopub.status.idle": "2024-04-10T11:44:23.038108Z",
     "shell.execute_reply": "2024-04-10T11:44:23.037000Z"
    },
    "papermill": {
     "duration": 0.044645,
     "end_time": "2024-04-10T11:44:23.040172",
     "exception": false,
     "start_time": "2024-04-10T11:44:22.995527",
     "status": "completed"
    },
    "tags": []
   },
   "outputs": [
    {
     "data": {
      "text/plain": [
       "UserReputation     0\n",
       "ReplyCount         0\n",
       "ThumbsUpCount      0\n",
       "ThumbsDownCount    0\n",
       "Rating             0\n",
       "BestScore          0\n",
       "Recipe_Review      2\n",
       "dtype: int64"
      ]
     },
     "execution_count": 7,
     "metadata": {},
     "output_type": "execute_result"
    }
   ],
   "source": [
    "train_data.isnull().sum()"
   ]
  },
  {
   "cell_type": "code",
   "execution_count": 8,
   "id": "1bffea83",
   "metadata": {
    "execution": {
     "iopub.execute_input": "2024-04-10T11:44:23.103660Z",
     "iopub.status.busy": "2024-04-10T11:44:23.102874Z",
     "iopub.status.idle": "2024-04-10T11:44:23.110792Z",
     "shell.execute_reply": "2024-04-10T11:44:23.110013Z"
    },
    "papermill": {
     "duration": 0.042103,
     "end_time": "2024-04-10T11:44:23.112890",
     "exception": false,
     "start_time": "2024-04-10T11:44:23.070787",
     "status": "completed"
    },
    "tags": []
   },
   "outputs": [
    {
     "data": {
      "text/plain": [
       "UserReputation     0\n",
       "ReplyCount         0\n",
       "ThumbsUpCount      0\n",
       "ThumbsDownCount    0\n",
       "BestScore          0\n",
       "Recipe_Review      0\n",
       "dtype: int64"
      ]
     },
     "execution_count": 8,
     "metadata": {},
     "output_type": "execute_result"
    }
   ],
   "source": [
    "test_data.isnull().sum()"
   ]
  },
  {
   "cell_type": "code",
   "execution_count": 9,
   "id": "5c7254f7",
   "metadata": {
    "execution": {
     "iopub.execute_input": "2024-04-10T11:44:23.175148Z",
     "iopub.status.busy": "2024-04-10T11:44:23.174409Z",
     "iopub.status.idle": "2024-04-10T11:44:24.435862Z",
     "shell.execute_reply": "2024-04-10T11:44:24.434713Z"
    },
    "papermill": {
     "duration": 1.295009,
     "end_time": "2024-04-10T11:44:24.438536",
     "exception": false,
     "start_time": "2024-04-10T11:44:23.143527",
     "status": "completed"
    },
    "tags": []
   },
   "outputs": [],
   "source": [
    "from sklearn.model_selection import train_test_split"
   ]
  },
  {
   "cell_type": "code",
   "execution_count": 10,
   "id": "2f663468",
   "metadata": {
    "execution": {
     "iopub.execute_input": "2024-04-10T11:44:24.499494Z",
     "iopub.status.busy": "2024-04-10T11:44:24.499110Z",
     "iopub.status.idle": "2024-04-10T11:44:24.503653Z",
     "shell.execute_reply": "2024-04-10T11:44:24.502623Z"
    },
    "papermill": {
     "duration": 0.037632,
     "end_time": "2024-04-10T11:44:24.505821",
     "exception": false,
     "start_time": "2024-04-10T11:44:24.468189",
     "status": "completed"
    },
    "tags": []
   },
   "outputs": [],
   "source": [
    "X=train_data"
   ]
  },
  {
   "cell_type": "code",
   "execution_count": 11,
   "id": "3b5a03b5",
   "metadata": {
    "execution": {
     "iopub.execute_input": "2024-04-10T11:44:24.567072Z",
     "iopub.status.busy": "2024-04-10T11:44:24.566672Z",
     "iopub.status.idle": "2024-04-10T11:44:24.572214Z",
     "shell.execute_reply": "2024-04-10T11:44:24.571136Z"
    },
    "papermill": {
     "duration": 0.038951,
     "end_time": "2024-04-10T11:44:24.574412",
     "exception": false,
     "start_time": "2024-04-10T11:44:24.535461",
     "status": "completed"
    },
    "tags": []
   },
   "outputs": [],
   "source": [
    "y=X.pop('Rating')"
   ]
  },
  {
   "cell_type": "code",
   "execution_count": 12,
   "id": "e491c794",
   "metadata": {
    "execution": {
     "iopub.execute_input": "2024-04-10T11:44:24.635072Z",
     "iopub.status.busy": "2024-04-10T11:44:24.634664Z",
     "iopub.status.idle": "2024-04-10T11:44:24.656119Z",
     "shell.execute_reply": "2024-04-10T11:44:24.655090Z"
    },
    "papermill": {
     "duration": 0.054032,
     "end_time": "2024-04-10T11:44:24.658213",
     "exception": false,
     "start_time": "2024-04-10T11:44:24.604181",
     "status": "completed"
    },
    "tags": []
   },
   "outputs": [
    {
     "name": "stdout",
     "output_type": "stream",
     "text": [
      "<class 'pandas.core.frame.DataFrame'>\n",
      "RangeIndex: 13636 entries, 0 to 13635\n",
      "Data columns (total 6 columns):\n",
      " #   Column           Non-Null Count  Dtype \n",
      "---  ------           --------------  ----- \n",
      " 0   UserReputation   13636 non-null  int64 \n",
      " 1   ReplyCount       13636 non-null  int64 \n",
      " 2   ThumbsUpCount    13636 non-null  int64 \n",
      " 3   ThumbsDownCount  13636 non-null  int64 \n",
      " 4   BestScore        13636 non-null  int64 \n",
      " 5   Recipe_Review    13634 non-null  object\n",
      "dtypes: int64(5), object(1)\n",
      "memory usage: 639.3+ KB\n"
     ]
    }
   ],
   "source": [
    "X.info()"
   ]
  },
  {
   "cell_type": "code",
   "execution_count": 13,
   "id": "2f67e950",
   "metadata": {
    "execution": {
     "iopub.execute_input": "2024-04-10T11:44:24.719580Z",
     "iopub.status.busy": "2024-04-10T11:44:24.719220Z",
     "iopub.status.idle": "2024-04-10T11:44:24.748510Z",
     "shell.execute_reply": "2024-04-10T11:44:24.747416Z"
    },
    "papermill": {
     "duration": 0.062834,
     "end_time": "2024-04-10T11:44:24.751091",
     "exception": false,
     "start_time": "2024-04-10T11:44:24.688257",
     "status": "completed"
    },
    "tags": []
   },
   "outputs": [
    {
     "data": {
      "text/html": [
       "<div>\n",
       "<style scoped>\n",
       "    .dataframe tbody tr th:only-of-type {\n",
       "        vertical-align: middle;\n",
       "    }\n",
       "\n",
       "    .dataframe tbody tr th {\n",
       "        vertical-align: top;\n",
       "    }\n",
       "\n",
       "    .dataframe thead th {\n",
       "        text-align: right;\n",
       "    }\n",
       "</style>\n",
       "<table border=\"1\" class=\"dataframe\">\n",
       "  <thead>\n",
       "    <tr style=\"text-align: right;\">\n",
       "      <th></th>\n",
       "      <th>UserReputation</th>\n",
       "      <th>ReplyCount</th>\n",
       "      <th>ThumbsUpCount</th>\n",
       "      <th>ThumbsDownCount</th>\n",
       "      <th>BestScore</th>\n",
       "    </tr>\n",
       "  </thead>\n",
       "  <tbody>\n",
       "    <tr>\n",
       "      <th>count</th>\n",
       "      <td>13636.000000</td>\n",
       "      <td>13636.000000</td>\n",
       "      <td>13636.000000</td>\n",
       "      <td>13636.000000</td>\n",
       "      <td>13636.000000</td>\n",
       "    </tr>\n",
       "    <tr>\n",
       "      <th>mean</th>\n",
       "      <td>2.160311</td>\n",
       "      <td>0.014520</td>\n",
       "      <td>1.098269</td>\n",
       "      <td>0.543708</td>\n",
       "      <td>153.127897</td>\n",
       "    </tr>\n",
       "    <tr>\n",
       "      <th>std</th>\n",
       "      <td>10.086424</td>\n",
       "      <td>0.137323</td>\n",
       "      <td>4.166487</td>\n",
       "      <td>3.265660</td>\n",
       "      <td>140.986908</td>\n",
       "    </tr>\n",
       "    <tr>\n",
       "      <th>min</th>\n",
       "      <td>0.000000</td>\n",
       "      <td>0.000000</td>\n",
       "      <td>0.000000</td>\n",
       "      <td>0.000000</td>\n",
       "      <td>0.000000</td>\n",
       "    </tr>\n",
       "    <tr>\n",
       "      <th>25%</th>\n",
       "      <td>1.000000</td>\n",
       "      <td>0.000000</td>\n",
       "      <td>0.000000</td>\n",
       "      <td>0.000000</td>\n",
       "      <td>100.000000</td>\n",
       "    </tr>\n",
       "    <tr>\n",
       "      <th>50%</th>\n",
       "      <td>1.000000</td>\n",
       "      <td>0.000000</td>\n",
       "      <td>0.000000</td>\n",
       "      <td>0.000000</td>\n",
       "      <td>100.000000</td>\n",
       "    </tr>\n",
       "    <tr>\n",
       "      <th>75%</th>\n",
       "      <td>1.000000</td>\n",
       "      <td>0.000000</td>\n",
       "      <td>0.000000</td>\n",
       "      <td>0.000000</td>\n",
       "      <td>100.000000</td>\n",
       "    </tr>\n",
       "    <tr>\n",
       "      <th>max</th>\n",
       "      <td>510.000000</td>\n",
       "      <td>3.000000</td>\n",
       "      <td>80.000000</td>\n",
       "      <td>126.000000</td>\n",
       "      <td>946.000000</td>\n",
       "    </tr>\n",
       "  </tbody>\n",
       "</table>\n",
       "</div>"
      ],
      "text/plain": [
       "       UserReputation    ReplyCount  ThumbsUpCount  ThumbsDownCount  \\\n",
       "count    13636.000000  13636.000000   13636.000000     13636.000000   \n",
       "mean         2.160311      0.014520       1.098269         0.543708   \n",
       "std         10.086424      0.137323       4.166487         3.265660   \n",
       "min          0.000000      0.000000       0.000000         0.000000   \n",
       "25%          1.000000      0.000000       0.000000         0.000000   \n",
       "50%          1.000000      0.000000       0.000000         0.000000   \n",
       "75%          1.000000      0.000000       0.000000         0.000000   \n",
       "max        510.000000      3.000000      80.000000       126.000000   \n",
       "\n",
       "          BestScore  \n",
       "count  13636.000000  \n",
       "mean     153.127897  \n",
       "std      140.986908  \n",
       "min        0.000000  \n",
       "25%      100.000000  \n",
       "50%      100.000000  \n",
       "75%      100.000000  \n",
       "max      946.000000  "
      ]
     },
     "execution_count": 13,
     "metadata": {},
     "output_type": "execute_result"
    }
   ],
   "source": [
    "X.describe()"
   ]
  },
  {
   "cell_type": "code",
   "execution_count": 14,
   "id": "79a2be07",
   "metadata": {
    "execution": {
     "iopub.execute_input": "2024-04-10T11:44:24.813397Z",
     "iopub.status.busy": "2024-04-10T11:44:24.813062Z",
     "iopub.status.idle": "2024-04-10T11:44:24.822823Z",
     "shell.execute_reply": "2024-04-10T11:44:24.821756Z"
    },
    "papermill": {
     "duration": 0.043388,
     "end_time": "2024-04-10T11:44:24.824934",
     "exception": false,
     "start_time": "2024-04-10T11:44:24.781546",
     "status": "completed"
    },
    "tags": []
   },
   "outputs": [
    {
     "data": {
      "text/plain": [
       "UserReputation\n",
       "1      12708\n",
       "10       478\n",
       "20       217\n",
       "0        118\n",
       "30        54\n",
       "50        16\n",
       "40        12\n",
       "90         7\n",
       "80         4\n",
       "60         4\n",
       "110        3\n",
       "510        3\n",
       "100        3\n",
       "140        2\n",
       "70         2\n",
       "220        1\n",
       "160        1\n",
       "130        1\n",
       "150        1\n",
       "300        1\n",
       "Name: count, dtype: int64"
      ]
     },
     "execution_count": 14,
     "metadata": {},
     "output_type": "execute_result"
    }
   ],
   "source": [
    "X['UserReputation'].value_counts()"
   ]
  },
  {
   "cell_type": "code",
   "execution_count": 15,
   "id": "265e4d07",
   "metadata": {
    "execution": {
     "iopub.execute_input": "2024-04-10T11:44:24.888165Z",
     "iopub.status.busy": "2024-04-10T11:44:24.887543Z",
     "iopub.status.idle": "2024-04-10T11:44:24.895385Z",
     "shell.execute_reply": "2024-04-10T11:44:24.894377Z"
    },
    "papermill": {
     "duration": 0.041375,
     "end_time": "2024-04-10T11:44:24.897383",
     "exception": false,
     "start_time": "2024-04-10T11:44:24.856008",
     "status": "completed"
    },
    "tags": []
   },
   "outputs": [
    {
     "data": {
      "text/plain": [
       "ReplyCount\n",
       "0    13464\n",
       "1      151\n",
       "2       16\n",
       "3        5\n",
       "Name: count, dtype: int64"
      ]
     },
     "execution_count": 15,
     "metadata": {},
     "output_type": "execute_result"
    }
   ],
   "source": [
    "X['ReplyCount'].value_counts()"
   ]
  },
  {
   "cell_type": "code",
   "execution_count": 16,
   "id": "10928f88",
   "metadata": {
    "execution": {
     "iopub.execute_input": "2024-04-10T11:44:24.962388Z",
     "iopub.status.busy": "2024-04-10T11:44:24.961975Z",
     "iopub.status.idle": "2024-04-10T11:44:24.970451Z",
     "shell.execute_reply": "2024-04-10T11:44:24.969539Z"
    },
    "papermill": {
     "duration": 0.044801,
     "end_time": "2024-04-10T11:44:24.972653",
     "exception": false,
     "start_time": "2024-04-10T11:44:24.927852",
     "status": "completed"
    },
    "tags": []
   },
   "outputs": [
    {
     "data": {
      "text/plain": [
       "ThumbsUpCount\n",
       "0     10582\n",
       "1      1290\n",
       "2       478\n",
       "3       279\n",
       "4       155\n",
       "6       117\n",
       "5       110\n",
       "7        77\n",
       "8        58\n",
       "9        56\n",
       "12       49\n",
       "10       44\n",
       "13       34\n",
       "11       33\n",
       "16       29\n",
       "15       28\n",
       "18       23\n",
       "17       20\n",
       "14       19\n",
       "21       17\n",
       "20       12\n",
       "19       11\n",
       "24       11\n",
       "23        9\n",
       "22        9\n",
       "25        8\n",
       "31        6\n",
       "33        6\n",
       "27        6\n",
       "26        5\n",
       "35        4\n",
       "36        4\n",
       "42        4\n",
       "39        3\n",
       "28        3\n",
       "45        3\n",
       "29        3\n",
       "30        2\n",
       "76        2\n",
       "47        2\n",
       "43        2\n",
       "37        2\n",
       "32        2\n",
       "57        2\n",
       "44        2\n",
       "40        2\n",
       "55        2\n",
       "41        2\n",
       "73        1\n",
       "80        1\n",
       "69        1\n",
       "79        1\n",
       "46        1\n",
       "50        1\n",
       "68        1\n",
       "34        1\n",
       "48        1\n",
       "Name: count, dtype: int64"
      ]
     },
     "execution_count": 16,
     "metadata": {},
     "output_type": "execute_result"
    }
   ],
   "source": [
    "X['ThumbsUpCount'].value_counts()"
   ]
  },
  {
   "cell_type": "code",
   "execution_count": 17,
   "id": "79447eb2",
   "metadata": {
    "execution": {
     "iopub.execute_input": "2024-04-10T11:44:25.036001Z",
     "iopub.status.busy": "2024-04-10T11:44:25.035611Z",
     "iopub.status.idle": "2024-04-10T11:44:25.043973Z",
     "shell.execute_reply": "2024-04-10T11:44:25.042902Z"
    },
    "papermill": {
     "duration": 0.042738,
     "end_time": "2024-04-10T11:44:25.046203",
     "exception": false,
     "start_time": "2024-04-10T11:44:25.003465",
     "status": "completed"
    },
    "tags": []
   },
   "outputs": [
    {
     "data": {
      "text/plain": [
       "ThumbsDownCount\n",
       "0      11816\n",
       "1        912\n",
       "2        292\n",
       "3        143\n",
       "5         80\n",
       "4         78\n",
       "6         52\n",
       "7         36\n",
       "9         25\n",
       "10        24\n",
       "8         23\n",
       "13        19\n",
       "11        17\n",
       "15        15\n",
       "12        14\n",
       "14        12\n",
       "21        10\n",
       "16         8\n",
       "17         6\n",
       "19         4\n",
       "18         3\n",
       "39         3\n",
       "20         3\n",
       "31         3\n",
       "26         3\n",
       "32         2\n",
       "46         2\n",
       "24         2\n",
       "25         2\n",
       "22         2\n",
       "37         2\n",
       "65         2\n",
       "23         2\n",
       "30         2\n",
       "61         1\n",
       "27         1\n",
       "87         1\n",
       "70         1\n",
       "42         1\n",
       "104        1\n",
       "62         1\n",
       "63         1\n",
       "126        1\n",
       "40         1\n",
       "29         1\n",
       "78         1\n",
       "49         1\n",
       "71         1\n",
       "41         1\n",
       "55         1\n",
       "38         1\n",
       "Name: count, dtype: int64"
      ]
     },
     "execution_count": 17,
     "metadata": {},
     "output_type": "execute_result"
    }
   ],
   "source": [
    "X['ThumbsDownCount'].value_counts()"
   ]
  },
  {
   "cell_type": "code",
   "execution_count": 18,
   "id": "6cee589a",
   "metadata": {
    "execution": {
     "iopub.execute_input": "2024-04-10T11:44:25.109599Z",
     "iopub.status.busy": "2024-04-10T11:44:25.109211Z",
     "iopub.status.idle": "2024-04-10T11:44:25.119382Z",
     "shell.execute_reply": "2024-04-10T11:44:25.118369Z"
    },
    "papermill": {
     "duration": 0.044332,
     "end_time": "2024-04-10T11:44:25.121464",
     "exception": false,
     "start_time": "2024-04-10T11:44:25.077132",
     "status": "completed"
    },
    "tags": []
   },
   "outputs": [
    {
     "data": {
      "text/plain": [
       "BestScore\n",
       "100    10506\n",
       "193     1074\n",
       "253      292\n",
       "142      147\n",
       "297      124\n",
       "       ...  \n",
       "908        1\n",
       "529        1\n",
       "119        1\n",
       "226        1\n",
       "754        1\n",
       "Name: count, Length: 525, dtype: int64"
      ]
     },
     "execution_count": 18,
     "metadata": {},
     "output_type": "execute_result"
    }
   ],
   "source": [
    "X['BestScore'].value_counts()"
   ]
  },
  {
   "cell_type": "code",
   "execution_count": 19,
   "id": "92ff5d65",
   "metadata": {
    "execution": {
     "iopub.execute_input": "2024-04-10T11:44:25.186367Z",
     "iopub.status.busy": "2024-04-10T11:44:25.185297Z",
     "iopub.status.idle": "2024-04-10T11:44:25.251769Z",
     "shell.execute_reply": "2024-04-10T11:44:25.250712Z"
    },
    "papermill": {
     "duration": 0.101852,
     "end_time": "2024-04-10T11:44:25.254313",
     "exception": false,
     "start_time": "2024-04-10T11:44:25.152461",
     "status": "completed"
    },
    "tags": []
   },
   "outputs": [
    {
     "data": {
      "text/html": [
       "<div>\n",
       "<style scoped>\n",
       "    .dataframe tbody tr th:only-of-type {\n",
       "        vertical-align: middle;\n",
       "    }\n",
       "\n",
       "    .dataframe tbody tr th {\n",
       "        vertical-align: top;\n",
       "    }\n",
       "\n",
       "    .dataframe thead th {\n",
       "        text-align: right;\n",
       "    }\n",
       "</style>\n",
       "<table border=\"1\" class=\"dataframe\">\n",
       "  <thead>\n",
       "    <tr style=\"text-align: right;\">\n",
       "      <th></th>\n",
       "      <th>UserReputation</th>\n",
       "      <th>ReplyCount</th>\n",
       "      <th>ThumbsUpCount</th>\n",
       "      <th>ThumbsDownCount</th>\n",
       "      <th>BestScore</th>\n",
       "      <th>Recipe_Review</th>\n",
       "    </tr>\n",
       "  </thead>\n",
       "  <tbody>\n",
       "    <tr>\n",
       "      <th>count</th>\n",
       "      <td>13636.000000</td>\n",
       "      <td>13636.000000</td>\n",
       "      <td>13636.000000</td>\n",
       "      <td>13636.000000</td>\n",
       "      <td>13636.000000</td>\n",
       "      <td>13636.000000</td>\n",
       "    </tr>\n",
       "    <tr>\n",
       "      <th>mean</th>\n",
       "      <td>2.160311</td>\n",
       "      <td>0.014520</td>\n",
       "      <td>1.098269</td>\n",
       "      <td>0.543708</td>\n",
       "      <td>153.127897</td>\n",
       "      <td>6676.584042</td>\n",
       "    </tr>\n",
       "    <tr>\n",
       "      <th>std</th>\n",
       "      <td>10.086424</td>\n",
       "      <td>0.137323</td>\n",
       "      <td>4.166487</td>\n",
       "      <td>3.265660</td>\n",
       "      <td>140.986908</td>\n",
       "      <td>3871.826727</td>\n",
       "    </tr>\n",
       "    <tr>\n",
       "      <th>min</th>\n",
       "      <td>0.000000</td>\n",
       "      <td>0.000000</td>\n",
       "      <td>0.000000</td>\n",
       "      <td>0.000000</td>\n",
       "      <td>0.000000</td>\n",
       "      <td>0.000000</td>\n",
       "    </tr>\n",
       "    <tr>\n",
       "      <th>25%</th>\n",
       "      <td>1.000000</td>\n",
       "      <td>0.000000</td>\n",
       "      <td>0.000000</td>\n",
       "      <td>0.000000</td>\n",
       "      <td>100.000000</td>\n",
       "      <td>3316.750000</td>\n",
       "    </tr>\n",
       "    <tr>\n",
       "      <th>50%</th>\n",
       "      <td>1.000000</td>\n",
       "      <td>0.000000</td>\n",
       "      <td>0.000000</td>\n",
       "      <td>0.000000</td>\n",
       "      <td>100.000000</td>\n",
       "      <td>6673.500000</td>\n",
       "    </tr>\n",
       "    <tr>\n",
       "      <th>75%</th>\n",
       "      <td>1.000000</td>\n",
       "      <td>0.000000</td>\n",
       "      <td>0.000000</td>\n",
       "      <td>0.000000</td>\n",
       "      <td>100.000000</td>\n",
       "      <td>10030.250000</td>\n",
       "    </tr>\n",
       "    <tr>\n",
       "      <th>max</th>\n",
       "      <td>510.000000</td>\n",
       "      <td>3.000000</td>\n",
       "      <td>80.000000</td>\n",
       "      <td>126.000000</td>\n",
       "      <td>946.000000</td>\n",
       "      <td>13370.000000</td>\n",
       "    </tr>\n",
       "  </tbody>\n",
       "</table>\n",
       "</div>"
      ],
      "text/plain": [
       "       UserReputation    ReplyCount  ThumbsUpCount  ThumbsDownCount  \\\n",
       "count    13636.000000  13636.000000   13636.000000     13636.000000   \n",
       "mean         2.160311      0.014520       1.098269         0.543708   \n",
       "std         10.086424      0.137323       4.166487         3.265660   \n",
       "min          0.000000      0.000000       0.000000         0.000000   \n",
       "25%          1.000000      0.000000       0.000000         0.000000   \n",
       "50%          1.000000      0.000000       0.000000         0.000000   \n",
       "75%          1.000000      0.000000       0.000000         0.000000   \n",
       "max        510.000000      3.000000      80.000000       126.000000   \n",
       "\n",
       "          BestScore  Recipe_Review  \n",
       "count  13636.000000   13636.000000  \n",
       "mean     153.127897    6676.584042  \n",
       "std      140.986908    3871.826727  \n",
       "min        0.000000       0.000000  \n",
       "25%      100.000000    3316.750000  \n",
       "50%      100.000000    6673.500000  \n",
       "75%      100.000000   10030.250000  \n",
       "max      946.000000   13370.000000  "
      ]
     },
     "execution_count": 19,
     "metadata": {},
     "output_type": "execute_result"
    }
   ],
   "source": [
    "from sklearn.preprocessing import LabelEncoder\n",
    "\n",
    "# Convert object columns to numerical using label encoding\n",
    "label_encoder = LabelEncoder()\n",
    "X_encoded = X.copy()  # Create a copy of X to avoid modifying the original DataFrame\n",
    "\n",
    "# Iterate over each column in X\n",
    "for column in X_encoded.columns:\n",
    "    if X_encoded[column].dtype == 'object':\n",
    "        X_encoded[column] = label_encoder.fit_transform(X_encoded[column])\n",
    "\n",
    "# Print the encoded DataFrame\n",
    "X_encoded.describe()"
   ]
  },
  {
   "cell_type": "code",
   "execution_count": 20,
   "id": "c7a844ef",
   "metadata": {
    "execution": {
     "iopub.execute_input": "2024-04-10T11:44:25.318472Z",
     "iopub.status.busy": "2024-04-10T11:44:25.318108Z",
     "iopub.status.idle": "2024-04-10T11:44:25.328540Z",
     "shell.execute_reply": "2024-04-10T11:44:25.327281Z"
    },
    "papermill": {
     "duration": 0.045117,
     "end_time": "2024-04-10T11:44:25.330621",
     "exception": false,
     "start_time": "2024-04-10T11:44:25.285504",
     "status": "completed"
    },
    "tags": []
   },
   "outputs": [
    {
     "name": "stdout",
     "output_type": "stream",
     "text": [
      "<class 'pandas.core.frame.DataFrame'>\n",
      "RangeIndex: 13636 entries, 0 to 13635\n",
      "Data columns (total 6 columns):\n",
      " #   Column           Non-Null Count  Dtype\n",
      "---  ------           --------------  -----\n",
      " 0   UserReputation   13636 non-null  int64\n",
      " 1   ReplyCount       13636 non-null  int64\n",
      " 2   ThumbsUpCount    13636 non-null  int64\n",
      " 3   ThumbsDownCount  13636 non-null  int64\n",
      " 4   BestScore        13636 non-null  int64\n",
      " 5   Recipe_Review    13636 non-null  int64\n",
      "dtypes: int64(6)\n",
      "memory usage: 639.3 KB\n"
     ]
    }
   ],
   "source": [
    "X_encoded.info()"
   ]
  },
  {
   "cell_type": "code",
   "execution_count": 21,
   "id": "9d97ca35",
   "metadata": {
    "execution": {
     "iopub.execute_input": "2024-04-10T11:44:25.395671Z",
     "iopub.status.busy": "2024-04-10T11:44:25.394931Z",
     "iopub.status.idle": "2024-04-10T11:44:25.428592Z",
     "shell.execute_reply": "2024-04-10T11:44:25.427554Z"
    },
    "papermill": {
     "duration": 0.068658,
     "end_time": "2024-04-10T11:44:25.430773",
     "exception": false,
     "start_time": "2024-04-10T11:44:25.362115",
     "status": "completed"
    },
    "tags": []
   },
   "outputs": [
    {
     "data": {
      "text/html": [
       "<div>\n",
       "<style scoped>\n",
       "    .dataframe tbody tr th:only-of-type {\n",
       "        vertical-align: middle;\n",
       "    }\n",
       "\n",
       "    .dataframe tbody tr th {\n",
       "        vertical-align: top;\n",
       "    }\n",
       "\n",
       "    .dataframe thead th {\n",
       "        text-align: right;\n",
       "    }\n",
       "</style>\n",
       "<table border=\"1\" class=\"dataframe\">\n",
       "  <thead>\n",
       "    <tr style=\"text-align: right;\">\n",
       "      <th></th>\n",
       "      <th>UserReputation</th>\n",
       "      <th>ReplyCount</th>\n",
       "      <th>ThumbsUpCount</th>\n",
       "      <th>ThumbsDownCount</th>\n",
       "      <th>BestScore</th>\n",
       "      <th>Recipe_Review</th>\n",
       "    </tr>\n",
       "  </thead>\n",
       "  <tbody>\n",
       "    <tr>\n",
       "      <th>count</th>\n",
       "      <td>13636.000000</td>\n",
       "      <td>13636.000000</td>\n",
       "      <td>13636.000000</td>\n",
       "      <td>13636.000000</td>\n",
       "      <td>13636.000000</td>\n",
       "      <td>13636.000000</td>\n",
       "    </tr>\n",
       "    <tr>\n",
       "      <th>mean</th>\n",
       "      <td>0.004236</td>\n",
       "      <td>0.004840</td>\n",
       "      <td>0.013728</td>\n",
       "      <td>0.004315</td>\n",
       "      <td>0.161869</td>\n",
       "      <td>6676.584042</td>\n",
       "    </tr>\n",
       "    <tr>\n",
       "      <th>std</th>\n",
       "      <td>0.019777</td>\n",
       "      <td>0.045774</td>\n",
       "      <td>0.052081</td>\n",
       "      <td>0.025918</td>\n",
       "      <td>0.149035</td>\n",
       "      <td>3871.826727</td>\n",
       "    </tr>\n",
       "    <tr>\n",
       "      <th>min</th>\n",
       "      <td>0.000000</td>\n",
       "      <td>0.000000</td>\n",
       "      <td>0.000000</td>\n",
       "      <td>0.000000</td>\n",
       "      <td>0.000000</td>\n",
       "      <td>0.000000</td>\n",
       "    </tr>\n",
       "    <tr>\n",
       "      <th>25%</th>\n",
       "      <td>0.001961</td>\n",
       "      <td>0.000000</td>\n",
       "      <td>0.000000</td>\n",
       "      <td>0.000000</td>\n",
       "      <td>0.105708</td>\n",
       "      <td>3316.750000</td>\n",
       "    </tr>\n",
       "    <tr>\n",
       "      <th>50%</th>\n",
       "      <td>0.001961</td>\n",
       "      <td>0.000000</td>\n",
       "      <td>0.000000</td>\n",
       "      <td>0.000000</td>\n",
       "      <td>0.105708</td>\n",
       "      <td>6673.500000</td>\n",
       "    </tr>\n",
       "    <tr>\n",
       "      <th>75%</th>\n",
       "      <td>0.001961</td>\n",
       "      <td>0.000000</td>\n",
       "      <td>0.000000</td>\n",
       "      <td>0.000000</td>\n",
       "      <td>0.105708</td>\n",
       "      <td>10030.250000</td>\n",
       "    </tr>\n",
       "    <tr>\n",
       "      <th>max</th>\n",
       "      <td>1.000000</td>\n",
       "      <td>1.000000</td>\n",
       "      <td>1.000000</td>\n",
       "      <td>1.000000</td>\n",
       "      <td>1.000000</td>\n",
       "      <td>13370.000000</td>\n",
       "    </tr>\n",
       "  </tbody>\n",
       "</table>\n",
       "</div>"
      ],
      "text/plain": [
       "       UserReputation    ReplyCount  ThumbsUpCount  ThumbsDownCount  \\\n",
       "count    13636.000000  13636.000000   13636.000000     13636.000000   \n",
       "mean         0.004236      0.004840       0.013728         0.004315   \n",
       "std          0.019777      0.045774       0.052081         0.025918   \n",
       "min          0.000000      0.000000       0.000000         0.000000   \n",
       "25%          0.001961      0.000000       0.000000         0.000000   \n",
       "50%          0.001961      0.000000       0.000000         0.000000   \n",
       "75%          0.001961      0.000000       0.000000         0.000000   \n",
       "max          1.000000      1.000000       1.000000         1.000000   \n",
       "\n",
       "          BestScore  Recipe_Review  \n",
       "count  13636.000000   13636.000000  \n",
       "mean       0.161869    6676.584042  \n",
       "std        0.149035    3871.826727  \n",
       "min        0.000000       0.000000  \n",
       "25%        0.105708    3316.750000  \n",
       "50%        0.105708    6673.500000  \n",
       "75%        0.105708   10030.250000  \n",
       "max        1.000000   13370.000000  "
      ]
     },
     "execution_count": 21,
     "metadata": {},
     "output_type": "execute_result"
    }
   ],
   "source": [
    "from sklearn.preprocessing import MinMaxScaler\n",
    "\n",
    "# Select numerical columns for scaling\n",
    "numerical_columns = ['UserReputation', 'ReplyCount', 'ThumbsUpCount', 'ThumbsDownCount','BestScore']\n",
    "\n",
    "# Initialize MinMaxScaler\n",
    "scaler = MinMaxScaler()\n",
    "\n",
    "X_encoded_scaled = X_encoded\n",
    "\n",
    "# Fit and transform the selected columns\n",
    "X_encoded_scaled[numerical_columns] = scaler.fit_transform(X_encoded[numerical_columns])\n",
    "\n",
    "# Print the scaled DataFrame\n",
    "X_encoded_scaled.describe()"
   ]
  },
  {
   "cell_type": "markdown",
   "id": "9c04d283",
   "metadata": {
    "execution": {
     "iopub.execute_input": "2024-04-07T22:02:48.461549Z",
     "iopub.status.busy": "2024-04-07T22:02:48.461102Z",
     "iopub.status.idle": "2024-04-07T22:02:48.469750Z",
     "shell.execute_reply": "2024-04-07T22:02:48.468332Z",
     "shell.execute_reply.started": "2024-04-07T22:02:48.461517Z"
    },
    "papermill": {
     "duration": 0.031577,
     "end_time": "2024-04-10T11:44:25.494002",
     "exception": false,
     "start_time": "2024-04-10T11:44:25.462425",
     "status": "completed"
    },
    "tags": []
   },
   "source": [
    "**Split train_data into train and validation set**"
   ]
  },
  {
   "cell_type": "code",
   "execution_count": 22,
   "id": "cdef755f",
   "metadata": {
    "execution": {
     "iopub.execute_input": "2024-04-10T11:44:25.558845Z",
     "iopub.status.busy": "2024-04-10T11:44:25.558343Z",
     "iopub.status.idle": "2024-04-10T11:44:25.572296Z",
     "shell.execute_reply": "2024-04-10T11:44:25.571096Z"
    },
    "papermill": {
     "duration": 0.049678,
     "end_time": "2024-04-10T11:44:25.574923",
     "exception": false,
     "start_time": "2024-04-10T11:44:25.525245",
     "status": "completed"
    },
    "tags": []
   },
   "outputs": [
    {
     "name": "stdout",
     "output_type": "stream",
     "text": [
      "Training set shape (X, y): (10908, 6) (10908,)\n",
      "Validation set shape (X, y): (2728, 6) (2728,)\n"
     ]
    }
   ],
   "source": [
    "X_train, X_val, y_train, y_val = train_test_split(X_encoded_scaled, y, test_size=0.2, random_state=42)\n",
    "\n",
    "# Print the shapes of the training and validation sets to verify the split\n",
    "print(\"Training set shape (X, y):\", X_train.shape, y_train.shape)\n",
    "print(\"Validation set shape (X, y):\", X_val.shape, y_val.shape)"
   ]
  },
  {
   "cell_type": "markdown",
   "id": "ed99abf6",
   "metadata": {
    "papermill": {
     "duration": 0.031764,
     "end_time": "2024-04-10T11:44:25.639575",
     "exception": false,
     "start_time": "2024-04-10T11:44:25.607811",
     "status": "completed"
    },
    "tags": []
   },
   "source": [
    "**Model Creation**"
   ]
  },
  {
   "cell_type": "markdown",
   "id": "819f12b6",
   "metadata": {
    "papermill": {
     "duration": 0.031242,
     "end_time": "2024-04-10T11:44:25.702740",
     "exception": false,
     "start_time": "2024-04-10T11:44:25.671498",
     "status": "completed"
    },
    "tags": []
   },
   "source": [
    "### Linear Regression"
   ]
  },
  {
   "cell_type": "code",
   "execution_count": 23,
   "id": "c2d75ba4",
   "metadata": {
    "execution": {
     "iopub.execute_input": "2024-04-10T11:44:25.768651Z",
     "iopub.status.busy": "2024-04-10T11:44:25.767682Z",
     "iopub.status.idle": "2024-04-10T11:44:25.909842Z",
     "shell.execute_reply": "2024-04-10T11:44:25.907833Z"
    },
    "papermill": {
     "duration": 0.182345,
     "end_time": "2024-04-10T11:44:25.916639",
     "exception": false,
     "start_time": "2024-04-10T11:44:25.734294",
     "status": "completed"
    },
    "tags": []
   },
   "outputs": [
    {
     "name": "stdout",
     "output_type": "stream",
     "text": [
      "Baseline Model Evaluation:\n",
      "Mean Squared Error (MSE): 2.327487261595235\n",
      "R-squared (R2) Score: 0.031062829935669112\n"
     ]
    }
   ],
   "source": [
    "from sklearn.linear_model import LinearRegression\n",
    "from sklearn.metrics import mean_squared_error, r2_score\n",
    "\n",
    "# Initialize the Linear Regression model\n",
    "baseline_model = LinearRegression()\n",
    "\n",
    "# Train the model on the training data\n",
    "baseline_model.fit(X_train, y_train)\n",
    "\n",
    "# Make predictions on the validation set\n",
    "y_pred = baseline_model.predict(X_val)\n",
    "\n",
    "# Evaluate the model\n",
    "mse = mean_squared_error(y_val, y_pred)\n",
    "r2 = r2_score(y_val, y_pred)\n",
    "\n",
    "print(\"Baseline Model Evaluation:\")\n",
    "print(\"Mean Squared Error (MSE):\", mse)\n",
    "print(\"R-squared (R2) Score:\", r2)"
   ]
  },
  {
   "cell_type": "markdown",
   "id": "7e69e790",
   "metadata": {
    "papermill": {
     "duration": 0.031327,
     "end_time": "2024-04-10T11:44:26.050627",
     "exception": false,
     "start_time": "2024-04-10T11:44:26.019300",
     "status": "completed"
    },
    "tags": []
   },
   "source": [
    "### Logistic Regression"
   ]
  },
  {
   "cell_type": "code",
   "execution_count": 24,
   "id": "2a77218a",
   "metadata": {
    "execution": {
     "iopub.execute_input": "2024-04-10T11:44:26.128174Z",
     "iopub.status.busy": "2024-04-10T11:44:26.126783Z",
     "iopub.status.idle": "2024-04-10T11:44:26.135398Z",
     "shell.execute_reply": "2024-04-10T11:44:26.133804Z"
    },
    "papermill": {
     "duration": 0.051622,
     "end_time": "2024-04-10T11:44:26.138756",
     "exception": false,
     "start_time": "2024-04-10T11:44:26.087134",
     "status": "completed"
    },
    "tags": []
   },
   "outputs": [
    {
     "data": {
      "text/plain": [
       "'from sklearn.linear_model import LogisticRegression\\nfrom sklearn.model_selection import cross_val_score\\n\\n# Initialize the Logistic Regression model\\nlog_reg_model = LogisticRegression(max_iter=2000)\\n\\n# Perform cross-validation\\ncv_scores = cross_val_score(log_reg_model, X_train, y_train, cv=5, scoring=\\'neg_mean_squared_error\\')\\n\\n# Convert the negative mean squared error to positive\\ncv_scores = -cv_scores\\n\\n# Print the cross-validation scores\\nprint(\"Cross-validation scores:\", cv_scores)\\nprint(\"Mean CV Score:\", cv_scores.mean())'"
      ]
     },
     "execution_count": 24,
     "metadata": {},
     "output_type": "execute_result"
    }
   ],
   "source": [
    "\"\"\"from sklearn.linear_model import LogisticRegression\n",
    "from sklearn.model_selection import cross_val_score\n",
    "\n",
    "# Initialize the Logistic Regression model\n",
    "log_reg_model = LogisticRegression(max_iter=2000)\n",
    "\n",
    "# Perform cross-validation\n",
    "cv_scores = cross_val_score(log_reg_model, X_train, y_train, cv=5, scoring='neg_mean_squared_error')\n",
    "\n",
    "# Convert the negative mean squared error to positive\n",
    "cv_scores = -cv_scores\n",
    "\n",
    "# Print the cross-validation scores\n",
    "print(\"Cross-validation scores:\", cv_scores)\n",
    "print(\"Mean CV Score:\", cv_scores.mean())\"\"\""
   ]
  },
  {
   "cell_type": "code",
   "execution_count": 25,
   "id": "96dbd985",
   "metadata": {
    "execution": {
     "iopub.execute_input": "2024-04-10T11:44:26.209046Z",
     "iopub.status.busy": "2024-04-10T11:44:26.207877Z",
     "iopub.status.idle": "2024-04-10T11:44:26.215728Z",
     "shell.execute_reply": "2024-04-10T11:44:26.214682Z"
    },
    "papermill": {
     "duration": 0.04346,
     "end_time": "2024-04-10T11:44:26.217728",
     "exception": false,
     "start_time": "2024-04-10T11:44:26.174268",
     "status": "completed"
    },
    "tags": []
   },
   "outputs": [
    {
     "data": {
      "text/plain": [
       "\"import matplotlib.pyplot as plt\\nfrom sklearn.linear_model import LogisticRegression\\nfrom sklearn.model_selection import cross_val_score\\n\\n# Initialize lists to store mean scores and number of folds\\nmean_scores = []\\nnum_folds = list(range(2, 30))\\n\\n# Iterate over different number of folds\\nfor folds in num_folds:\\n    # Initialize the Logistic Regression model\\n    logistic_model = LogisticRegression(max_iter=2000)\\n    \\n    # Perform cross-validation\\n    scores = cross_val_score(logistic_model, X_train, y_train, cv=folds, scoring='neg_mean_squared_error')\\n    \\n    # Convert the negative mean squared error to positive\\n    scores = -scores\\n    \\n    # Calculate mean score and append to list\\n    mean_scores.append(scores.mean())\\n\\n# Plot the graph\\nplt.plot(num_folds, mean_scores, marker='o')\\nplt.title('Cross-Validation Score vs. Number of Folds')\\nplt.xlabel('Number of Folds')\\nplt.ylabel('Mean Squared Error')\\nplt.grid(True)\\nplt.show()\""
      ]
     },
     "execution_count": 25,
     "metadata": {},
     "output_type": "execute_result"
    }
   ],
   "source": [
    "\"\"\"import matplotlib.pyplot as plt\n",
    "from sklearn.linear_model import LogisticRegression\n",
    "from sklearn.model_selection import cross_val_score\n",
    "\n",
    "# Initialize lists to store mean scores and number of folds\n",
    "mean_scores = []\n",
    "num_folds = list(range(2, 30))\n",
    "\n",
    "# Iterate over different number of folds\n",
    "for folds in num_folds:\n",
    "    # Initialize the Logistic Regression model\n",
    "    logistic_model = LogisticRegression(max_iter=2000)\n",
    "    \n",
    "    # Perform cross-validation\n",
    "    scores = cross_val_score(logistic_model, X_train, y_train, cv=folds, scoring='neg_mean_squared_error')\n",
    "    \n",
    "    # Convert the negative mean squared error to positive\n",
    "    scores = -scores\n",
    "    \n",
    "    # Calculate mean score and append to list\n",
    "    mean_scores.append(scores.mean())\n",
    "\n",
    "# Plot the graph\n",
    "plt.plot(num_folds, mean_scores, marker='o')\n",
    "plt.title('Cross-Validation Score vs. Number of Folds')\n",
    "plt.xlabel('Number of Folds')\n",
    "plt.ylabel('Mean Squared Error')\n",
    "plt.grid(True)\n",
    "plt.show()\"\"\""
   ]
  },
  {
   "cell_type": "code",
   "execution_count": 26,
   "id": "34dfd059",
   "metadata": {
    "execution": {
     "iopub.execute_input": "2024-04-10T11:44:26.285415Z",
     "iopub.status.busy": "2024-04-10T11:44:26.284359Z",
     "iopub.status.idle": "2024-04-10T11:44:26.291318Z",
     "shell.execute_reply": "2024-04-10T11:44:26.290325Z"
    },
    "papermill": {
     "duration": 0.042542,
     "end_time": "2024-04-10T11:44:26.293673",
     "exception": false,
     "start_time": "2024-04-10T11:44:26.251131",
     "status": "completed"
    },
    "tags": []
   },
   "outputs": [
    {
     "data": {
      "text/plain": [
       "'from sklearn.linear_model import LogisticRegression\\nfrom sklearn.model_selection import cross_val_score\\n\\n# Initialize the Logistic Regression model\\nlog_reg_model = LogisticRegression(max_iter=2000)\\n\\n# Perform cross-validation\\ncv_scores = cross_val_score(log_reg_model, X_train, y_train, cv=10, scoring=\\'neg_mean_squared_error\\')\\n\\n# Convert the negative mean squared error to positive\\ncv_scores = -cv_scores\\n\\n# Print the cross-validation scores\\nprint(\"Cross-validation scores:\", cv_scores)\\nprint(\"Mean CV Score:\", cv_scores.mean())'"
      ]
     },
     "execution_count": 26,
     "metadata": {},
     "output_type": "execute_result"
    }
   ],
   "source": [
    "\"\"\"from sklearn.linear_model import LogisticRegression\n",
    "from sklearn.model_selection import cross_val_score\n",
    "\n",
    "# Initialize the Logistic Regression model\n",
    "log_reg_model = LogisticRegression(max_iter=2000)\n",
    "\n",
    "# Perform cross-validation\n",
    "cv_scores = cross_val_score(log_reg_model, X_train, y_train, cv=10, scoring='neg_mean_squared_error')\n",
    "\n",
    "# Convert the negative mean squared error to positive\n",
    "cv_scores = -cv_scores\n",
    "\n",
    "# Print the cross-validation scores\n",
    "print(\"Cross-validation scores:\", cv_scores)\n",
    "print(\"Mean CV Score:\", cv_scores.mean())\"\"\""
   ]
  },
  {
   "cell_type": "code",
   "execution_count": 27,
   "id": "9013a11f",
   "metadata": {
    "execution": {
     "iopub.execute_input": "2024-04-10T11:44:26.363942Z",
     "iopub.status.busy": "2024-04-10T11:44:26.363013Z",
     "iopub.status.idle": "2024-04-10T11:44:26.369728Z",
     "shell.execute_reply": "2024-04-10T11:44:26.369010Z"
    },
    "papermill": {
     "duration": 0.046011,
     "end_time": "2024-04-10T11:44:26.372552",
     "exception": false,
     "start_time": "2024-04-10T11:44:26.326541",
     "status": "completed"
    },
    "tags": []
   },
   "outputs": [
    {
     "data": {
      "text/plain": [
       "'from sklearn.model_selection import GridSearchCV\\nfrom sklearn.linear_model import LogisticRegression\\n\\n# Define the hyperparameters grid\\nparam_grid = {\\n    \\'C\\': [0.01, 0.1, 1, 10, 100, 1000],  # Regularization parameter\\n    \\'penalty\\': [\\'l1\\',\\'l2\\'],  \\n    \\'solver\\': [\\'liblinear\\'],  # Choose compatible solvers\\n    \\'max_iter\\': [150,175,200,225,250,300],  # Reduce maximum iterations\\n    \\'class_weight\\': [None, \\'balanced\\']\\n}\\n\\n# Initialize the Logistic Regression model\\nlogistic_model = LogisticRegression()\\n\\n# Initialize GridSearchCV with n-fold cross-validation\\ngrid_search = GridSearchCV(logistic_model, param_grid, cv=10, scoring=\\'neg_mean_squared_error\\')\\n\\n# Perform grid search to find the best hyperparameters\\ngrid_search.fit(X_train, y_train)\\n\\n# Print the best hyperparameters found\\nprint(\"Best Hyperparameters:\", grid_search.best_params_)\\n\\n# Get the best model\\nbest_model = grid_search.best_estimator_\\n\\n# Evaluate the best model on the validation set\\ny_pred = best_model.predict(X_val)\\n\\n# Calculate the mean squared error\\nmse = mean_squared_error(y_val, y_pred)\\nprint(\"Mean Squared Error on Validation Set:\", mse)'"
      ]
     },
     "execution_count": 27,
     "metadata": {},
     "output_type": "execute_result"
    }
   ],
   "source": [
    "\"\"\"from sklearn.model_selection import GridSearchCV\n",
    "from sklearn.linear_model import LogisticRegression\n",
    "\n",
    "# Define the hyperparameters grid\n",
    "param_grid = {\n",
    "    'C': [0.01, 0.1, 1, 10, 100, 1000],  # Regularization parameter\n",
    "    'penalty': ['l1','l2'],  \n",
    "    'solver': ['liblinear'],  # Choose compatible solvers\n",
    "    'max_iter': [150,175,200,225,250,300],  # Reduce maximum iterations\n",
    "    'class_weight': [None, 'balanced']\n",
    "}\n",
    "\n",
    "# Initialize the Logistic Regression model\n",
    "logistic_model = LogisticRegression()\n",
    "\n",
    "# Initialize GridSearchCV with n-fold cross-validation\n",
    "grid_search = GridSearchCV(logistic_model, param_grid, cv=10, scoring='neg_mean_squared_error')\n",
    "\n",
    "# Perform grid search to find the best hyperparameters\n",
    "grid_search.fit(X_train, y_train)\n",
    "\n",
    "# Print the best hyperparameters found\n",
    "print(\"Best Hyperparameters:\", grid_search.best_params_)\n",
    "\n",
    "# Get the best model\n",
    "best_model = grid_search.best_estimator_\n",
    "\n",
    "# Evaluate the best model on the validation set\n",
    "y_pred = best_model.predict(X_val)\n",
    "\n",
    "# Calculate the mean squared error\n",
    "mse = mean_squared_error(y_val, y_pred)\n",
    "print(\"Mean Squared Error on Validation Set:\", mse)\"\"\""
   ]
  },
  {
   "cell_type": "code",
   "execution_count": 28,
   "id": "6f8b79b1",
   "metadata": {
    "execution": {
     "iopub.execute_input": "2024-04-10T11:44:26.445981Z",
     "iopub.status.busy": "2024-04-10T11:44:26.445579Z",
     "iopub.status.idle": "2024-04-10T11:44:26.451264Z",
     "shell.execute_reply": "2024-04-10T11:44:26.450521Z"
    },
    "papermill": {
     "duration": 0.043596,
     "end_time": "2024-04-10T11:44:26.453210",
     "exception": false,
     "start_time": "2024-04-10T11:44:26.409614",
     "status": "completed"
    },
    "tags": []
   },
   "outputs": [
    {
     "data": {
      "text/plain": [
       "'from sklearn.linear_model import LogisticRegression\\nfrom sklearn.metrics import f1_score\\n\\n# Initialize the Logistic Regression model with selected hyperparameters\\nlog_reg_model = LogisticRegression(C=1000, penalty=\\'l1\\', solver=\\'liblinear\\', max_iter=150, class_weight=\\'balanced\\')\\n\\n# Train the model on the training data\\nlog_reg_model.fit(X_train, y_train)\\n\\n# Make predictions on the validation set\\ny_pred = log_reg_model.predict(X_val)\\n\\n# Calculate the F1 score\\nf1 = f1_score(y_val, y_pred, average=\\'weighted\\')  # You can choose the averaging method based on your requirements\\n\\n# Print the F1 score\\nprint(\"F1 Score:\", f1)'"
      ]
     },
     "execution_count": 28,
     "metadata": {},
     "output_type": "execute_result"
    }
   ],
   "source": [
    "\"\"\"from sklearn.linear_model import LogisticRegression\n",
    "from sklearn.metrics import f1_score\n",
    "\n",
    "# Initialize the Logistic Regression model with selected hyperparameters\n",
    "log_reg_model = LogisticRegression(C=1000, penalty='l1', solver='liblinear', max_iter=150, class_weight='balanced')\n",
    "\n",
    "# Train the model on the training data\n",
    "log_reg_model.fit(X_train, y_train)\n",
    "\n",
    "# Make predictions on the validation set\n",
    "y_pred = log_reg_model.predict(X_val)\n",
    "\n",
    "# Calculate the F1 score\n",
    "f1 = f1_score(y_val, y_pred, average='weighted')  # You can choose the averaging method based on your requirements\n",
    "\n",
    "# Print the F1 score\n",
    "print(\"F1 Score:\", f1)\"\"\""
   ]
  },
  {
   "cell_type": "code",
   "execution_count": 29,
   "id": "35be154e",
   "metadata": {
    "execution": {
     "iopub.execute_input": "2024-04-10T11:44:26.520839Z",
     "iopub.status.busy": "2024-04-10T11:44:26.520139Z",
     "iopub.status.idle": "2024-04-10T11:44:26.525733Z",
     "shell.execute_reply": "2024-04-10T11:44:26.525010Z"
    },
    "papermill": {
     "duration": 0.041445,
     "end_time": "2024-04-10T11:44:26.527681",
     "exception": false,
     "start_time": "2024-04-10T11:44:26.486236",
     "status": "completed"
    },
    "tags": []
   },
   "outputs": [
    {
     "data": {
      "text/plain": [
       "'from sklearn.linear_model import LogisticRegression\\nfrom sklearn.model_selection import cross_val_score\\n\\n# Initialize the Logistic Regression model with selected hyperparameters\\nlog_reg_model = LogisticRegression(C=1000, penalty=\\'l1\\', solver=\\'liblinear\\', max_iter=150, class_weight=\\'balanced\\')\\n\\n# Perform cross-validation\\ncv_scores = cross_val_score(log_reg_model, X_train, y_train, cv=10, scoring=\\'neg_mean_squared_error\\')\\n\\n# Convert the negative mean squared error to positive\\ncv_scores = -cv_scores\\n\\n# Print the cross-validation scores\\nprint(\"Cross-validation scores:\", cv_scores)\\nprint(\"Mean CV Score:\", cv_scores.mean())'"
      ]
     },
     "execution_count": 29,
     "metadata": {},
     "output_type": "execute_result"
    }
   ],
   "source": [
    "\"\"\"from sklearn.linear_model import LogisticRegression\n",
    "from sklearn.model_selection import cross_val_score\n",
    "\n",
    "# Initialize the Logistic Regression model with selected hyperparameters\n",
    "log_reg_model = LogisticRegression(C=1000, penalty='l1', solver='liblinear', max_iter=150, class_weight='balanced')\n",
    "\n",
    "# Perform cross-validation\n",
    "cv_scores = cross_val_score(log_reg_model, X_train, y_train, cv=10, scoring='neg_mean_squared_error')\n",
    "\n",
    "# Convert the negative mean squared error to positive\n",
    "cv_scores = -cv_scores\n",
    "\n",
    "# Print the cross-validation scores\n",
    "print(\"Cross-validation scores:\", cv_scores)\n",
    "print(\"Mean CV Score:\", cv_scores.mean())\"\"\""
   ]
  },
  {
   "cell_type": "code",
   "execution_count": 30,
   "id": "ac734ff1",
   "metadata": {
    "execution": {
     "iopub.execute_input": "2024-04-10T11:44:26.597508Z",
     "iopub.status.busy": "2024-04-10T11:44:26.596740Z",
     "iopub.status.idle": "2024-04-10T11:44:26.603262Z",
     "shell.execute_reply": "2024-04-10T11:44:26.602186Z"
    },
    "papermill": {
     "duration": 0.044377,
     "end_time": "2024-04-10T11:44:26.605365",
     "exception": false,
     "start_time": "2024-04-10T11:44:26.560988",
     "status": "completed"
    },
    "tags": []
   },
   "outputs": [
    {
     "data": {
      "text/plain": [
       "\"from sklearn.linear_model import LogisticRegression\\n\\n# Initialize the Logistic Regression model with selected hyperparameters\\nlog_reg_model = LogisticRegression(C=100, penalty='l1', solver='liblinear', max_iter=200)\\n\\n# Train the model on the training data\\nlog_reg_model.fit(X_train, y_train)\""
      ]
     },
     "execution_count": 30,
     "metadata": {},
     "output_type": "execute_result"
    }
   ],
   "source": [
    "\"\"\"from sklearn.linear_model import LogisticRegression\n",
    "\n",
    "# Initialize the Logistic Regression model with selected hyperparameters\n",
    "log_reg_model = LogisticRegression(C=100, penalty='l1', solver='liblinear', max_iter=200)\n",
    "\n",
    "# Train the model on the training data\n",
    "log_reg_model.fit(X_train, y_train)\"\"\""
   ]
  },
  {
   "cell_type": "markdown",
   "id": "90f38876",
   "metadata": {
    "execution": {
     "iopub.execute_input": "2024-04-07T22:02:49.474269Z",
     "iopub.status.busy": "2024-04-07T22:02:49.473208Z",
     "iopub.status.idle": "2024-04-07T22:02:49.481287Z",
     "shell.execute_reply": "2024-04-07T22:02:49.480031Z",
     "shell.execute_reply.started": "2024-04-07T22:02:49.474232Z"
    },
    "papermill": {
     "duration": 0.033175,
     "end_time": "2024-04-10T11:44:26.671826",
     "exception": false,
     "start_time": "2024-04-10T11:44:26.638651",
     "status": "completed"
    },
    "tags": []
   },
   "source": [
    "**Converting object data type to numeric data type - Lable Encoding**"
   ]
  },
  {
   "cell_type": "code",
   "execution_count": 31,
   "id": "782d009f",
   "metadata": {
    "execution": {
     "iopub.execute_input": "2024-04-10T11:44:26.739472Z",
     "iopub.status.busy": "2024-04-10T11:44:26.739064Z",
     "iopub.status.idle": "2024-04-10T11:44:26.778282Z",
     "shell.execute_reply": "2024-04-10T11:44:26.777502Z"
    },
    "papermill": {
     "duration": 0.075301,
     "end_time": "2024-04-10T11:44:26.780300",
     "exception": false,
     "start_time": "2024-04-10T11:44:26.704999",
     "status": "completed"
    },
    "tags": []
   },
   "outputs": [
    {
     "data": {
      "text/html": [
       "<div>\n",
       "<style scoped>\n",
       "    .dataframe tbody tr th:only-of-type {\n",
       "        vertical-align: middle;\n",
       "    }\n",
       "\n",
       "    .dataframe tbody tr th {\n",
       "        vertical-align: top;\n",
       "    }\n",
       "\n",
       "    .dataframe thead th {\n",
       "        text-align: right;\n",
       "    }\n",
       "</style>\n",
       "<table border=\"1\" class=\"dataframe\">\n",
       "  <thead>\n",
       "    <tr style=\"text-align: right;\">\n",
       "      <th></th>\n",
       "      <th>UserReputation</th>\n",
       "      <th>ReplyCount</th>\n",
       "      <th>ThumbsUpCount</th>\n",
       "      <th>ThumbsDownCount</th>\n",
       "      <th>BestScore</th>\n",
       "      <th>Recipe_Review</th>\n",
       "    </tr>\n",
       "  </thead>\n",
       "  <tbody>\n",
       "    <tr>\n",
       "      <th>count</th>\n",
       "      <td>4546.000000</td>\n",
       "      <td>4546.000000</td>\n",
       "      <td>4546.000000</td>\n",
       "      <td>4546.000000</td>\n",
       "      <td>4546.000000</td>\n",
       "      <td>4546.000000</td>\n",
       "    </tr>\n",
       "    <tr>\n",
       "      <th>mean</th>\n",
       "      <td>2.157501</td>\n",
       "      <td>0.014958</td>\n",
       "      <td>1.062253</td>\n",
       "      <td>0.566212</td>\n",
       "      <td>153.264848</td>\n",
       "      <td>2254.262209</td>\n",
       "    </tr>\n",
       "    <tr>\n",
       "      <th>std</th>\n",
       "      <td>9.797366</td>\n",
       "      <td>0.139922</td>\n",
       "      <td>4.303231</td>\n",
       "      <td>4.021903</td>\n",
       "      <td>141.355650</td>\n",
       "      <td>1303.040601</td>\n",
       "    </tr>\n",
       "    <tr>\n",
       "      <th>min</th>\n",
       "      <td>0.000000</td>\n",
       "      <td>0.000000</td>\n",
       "      <td>0.000000</td>\n",
       "      <td>0.000000</td>\n",
       "      <td>12.000000</td>\n",
       "      <td>0.000000</td>\n",
       "    </tr>\n",
       "    <tr>\n",
       "      <th>25%</th>\n",
       "      <td>1.000000</td>\n",
       "      <td>0.000000</td>\n",
       "      <td>0.000000</td>\n",
       "      <td>0.000000</td>\n",
       "      <td>100.000000</td>\n",
       "      <td>1125.250000</td>\n",
       "    </tr>\n",
       "    <tr>\n",
       "      <th>50%</th>\n",
       "      <td>1.000000</td>\n",
       "      <td>0.000000</td>\n",
       "      <td>0.000000</td>\n",
       "      <td>0.000000</td>\n",
       "      <td>100.000000</td>\n",
       "      <td>2256.500000</td>\n",
       "    </tr>\n",
       "    <tr>\n",
       "      <th>75%</th>\n",
       "      <td>1.000000</td>\n",
       "      <td>0.000000</td>\n",
       "      <td>0.000000</td>\n",
       "      <td>0.000000</td>\n",
       "      <td>100.000000</td>\n",
       "      <td>3383.750000</td>\n",
       "    </tr>\n",
       "    <tr>\n",
       "      <th>max</th>\n",
       "      <td>520.000000</td>\n",
       "      <td>3.000000</td>\n",
       "      <td>106.000000</td>\n",
       "      <td>122.000000</td>\n",
       "      <td>931.000000</td>\n",
       "      <td>4509.000000</td>\n",
       "    </tr>\n",
       "  </tbody>\n",
       "</table>\n",
       "</div>"
      ],
      "text/plain": [
       "       UserReputation   ReplyCount  ThumbsUpCount  ThumbsDownCount  \\\n",
       "count     4546.000000  4546.000000    4546.000000      4546.000000   \n",
       "mean         2.157501     0.014958       1.062253         0.566212   \n",
       "std          9.797366     0.139922       4.303231         4.021903   \n",
       "min          0.000000     0.000000       0.000000         0.000000   \n",
       "25%          1.000000     0.000000       0.000000         0.000000   \n",
       "50%          1.000000     0.000000       0.000000         0.000000   \n",
       "75%          1.000000     0.000000       0.000000         0.000000   \n",
       "max        520.000000     3.000000     106.000000       122.000000   \n",
       "\n",
       "         BestScore  Recipe_Review  \n",
       "count  4546.000000    4546.000000  \n",
       "mean    153.264848    2254.262209  \n",
       "std     141.355650    1303.040601  \n",
       "min      12.000000       0.000000  \n",
       "25%     100.000000    1125.250000  \n",
       "50%     100.000000    2256.500000  \n",
       "75%     100.000000    3383.750000  \n",
       "max     931.000000    4509.000000  "
      ]
     },
     "execution_count": 31,
     "metadata": {},
     "output_type": "execute_result"
    }
   ],
   "source": [
    "from sklearn.preprocessing import LabelEncoder\n",
    "\n",
    "# Convert object columns to numerical using label encoding\n",
    "label_encoder = LabelEncoder()\n",
    "X_test_encoded = test_data.copy()  # Create a copy of X to avoid modifying the original DataFrame\n",
    "\n",
    "# Iterate over each column in X\n",
    "for column in X_test_encoded.columns:\n",
    "    if X_test_encoded[column].dtype == 'object':\n",
    "        X_test_encoded[column] = label_encoder.fit_transform(X_test_encoded[column])\n",
    "\n",
    "# Print the encoded DataFrame\n",
    "X_test_encoded.describe()"
   ]
  },
  {
   "cell_type": "code",
   "execution_count": 32,
   "id": "4948d8dd",
   "metadata": {
    "execution": {
     "iopub.execute_input": "2024-04-10T11:44:26.849857Z",
     "iopub.status.busy": "2024-04-10T11:44:26.849201Z",
     "iopub.status.idle": "2024-04-10T11:44:26.859285Z",
     "shell.execute_reply": "2024-04-10T11:44:26.858000Z"
    },
    "papermill": {
     "duration": 0.047739,
     "end_time": "2024-04-10T11:44:26.861449",
     "exception": false,
     "start_time": "2024-04-10T11:44:26.813710",
     "status": "completed"
    },
    "tags": []
   },
   "outputs": [
    {
     "name": "stdout",
     "output_type": "stream",
     "text": [
      "<class 'pandas.core.frame.DataFrame'>\n",
      "RangeIndex: 4546 entries, 0 to 4545\n",
      "Data columns (total 6 columns):\n",
      " #   Column           Non-Null Count  Dtype\n",
      "---  ------           --------------  -----\n",
      " 0   UserReputation   4546 non-null   int64\n",
      " 1   ReplyCount       4546 non-null   int64\n",
      " 2   ThumbsUpCount    4546 non-null   int64\n",
      " 3   ThumbsDownCount  4546 non-null   int64\n",
      " 4   BestScore        4546 non-null   int64\n",
      " 5   Recipe_Review    4546 non-null   int64\n",
      "dtypes: int64(6)\n",
      "memory usage: 213.2 KB\n"
     ]
    }
   ],
   "source": [
    "X_test_encoded.info()"
   ]
  },
  {
   "cell_type": "markdown",
   "id": "e1b67ae4",
   "metadata": {
    "execution": {
     "iopub.execute_input": "2024-04-07T22:02:49.631353Z",
     "iopub.status.busy": "2024-04-07T22:02:49.630183Z",
     "iopub.status.idle": "2024-04-07T22:02:49.638966Z",
     "shell.execute_reply": "2024-04-07T22:02:49.638088Z",
     "shell.execute_reply.started": "2024-04-07T22:02:49.631298Z"
    },
    "papermill": {
     "duration": 0.033208,
     "end_time": "2024-04-10T11:44:26.928062",
     "exception": false,
     "start_time": "2024-04-10T11:44:26.894854",
     "status": "completed"
    },
    "tags": []
   },
   "source": [
    "**Scaling data - MinMaxScalar**"
   ]
  },
  {
   "cell_type": "code",
   "execution_count": 33,
   "id": "a60d9da0",
   "metadata": {
    "execution": {
     "iopub.execute_input": "2024-04-10T11:44:26.999596Z",
     "iopub.status.busy": "2024-04-10T11:44:26.999003Z",
     "iopub.status.idle": "2024-04-10T11:44:27.030407Z",
     "shell.execute_reply": "2024-04-10T11:44:27.029383Z"
    },
    "papermill": {
     "duration": 0.06828,
     "end_time": "2024-04-10T11:44:27.032501",
     "exception": false,
     "start_time": "2024-04-10T11:44:26.964221",
     "status": "completed"
    },
    "tags": []
   },
   "outputs": [
    {
     "data": {
      "text/html": [
       "<div>\n",
       "<style scoped>\n",
       "    .dataframe tbody tr th:only-of-type {\n",
       "        vertical-align: middle;\n",
       "    }\n",
       "\n",
       "    .dataframe tbody tr th {\n",
       "        vertical-align: top;\n",
       "    }\n",
       "\n",
       "    .dataframe thead th {\n",
       "        text-align: right;\n",
       "    }\n",
       "</style>\n",
       "<table border=\"1\" class=\"dataframe\">\n",
       "  <thead>\n",
       "    <tr style=\"text-align: right;\">\n",
       "      <th></th>\n",
       "      <th>UserReputation</th>\n",
       "      <th>ReplyCount</th>\n",
       "      <th>ThumbsUpCount</th>\n",
       "      <th>ThumbsDownCount</th>\n",
       "      <th>BestScore</th>\n",
       "      <th>Recipe_Review</th>\n",
       "    </tr>\n",
       "  </thead>\n",
       "  <tbody>\n",
       "    <tr>\n",
       "      <th>count</th>\n",
       "      <td>4546.000000</td>\n",
       "      <td>4546.000000</td>\n",
       "      <td>4546.000000</td>\n",
       "      <td>4546.000000</td>\n",
       "      <td>4546.000000</td>\n",
       "      <td>4546.000000</td>\n",
       "    </tr>\n",
       "    <tr>\n",
       "      <th>mean</th>\n",
       "      <td>0.004149</td>\n",
       "      <td>0.004986</td>\n",
       "      <td>0.010021</td>\n",
       "      <td>0.004641</td>\n",
       "      <td>0.153716</td>\n",
       "      <td>2254.262209</td>\n",
       "    </tr>\n",
       "    <tr>\n",
       "      <th>std</th>\n",
       "      <td>0.018841</td>\n",
       "      <td>0.046641</td>\n",
       "      <td>0.040597</td>\n",
       "      <td>0.032966</td>\n",
       "      <td>0.153815</td>\n",
       "      <td>1303.040601</td>\n",
       "    </tr>\n",
       "    <tr>\n",
       "      <th>min</th>\n",
       "      <td>0.000000</td>\n",
       "      <td>0.000000</td>\n",
       "      <td>0.000000</td>\n",
       "      <td>0.000000</td>\n",
       "      <td>0.000000</td>\n",
       "      <td>0.000000</td>\n",
       "    </tr>\n",
       "    <tr>\n",
       "      <th>25%</th>\n",
       "      <td>0.001923</td>\n",
       "      <td>0.000000</td>\n",
       "      <td>0.000000</td>\n",
       "      <td>0.000000</td>\n",
       "      <td>0.095756</td>\n",
       "      <td>1125.250000</td>\n",
       "    </tr>\n",
       "    <tr>\n",
       "      <th>50%</th>\n",
       "      <td>0.001923</td>\n",
       "      <td>0.000000</td>\n",
       "      <td>0.000000</td>\n",
       "      <td>0.000000</td>\n",
       "      <td>0.095756</td>\n",
       "      <td>2256.500000</td>\n",
       "    </tr>\n",
       "    <tr>\n",
       "      <th>75%</th>\n",
       "      <td>0.001923</td>\n",
       "      <td>0.000000</td>\n",
       "      <td>0.000000</td>\n",
       "      <td>0.000000</td>\n",
       "      <td>0.095756</td>\n",
       "      <td>3383.750000</td>\n",
       "    </tr>\n",
       "    <tr>\n",
       "      <th>max</th>\n",
       "      <td>1.000000</td>\n",
       "      <td>1.000000</td>\n",
       "      <td>1.000000</td>\n",
       "      <td>1.000000</td>\n",
       "      <td>1.000000</td>\n",
       "      <td>4509.000000</td>\n",
       "    </tr>\n",
       "  </tbody>\n",
       "</table>\n",
       "</div>"
      ],
      "text/plain": [
       "       UserReputation   ReplyCount  ThumbsUpCount  ThumbsDownCount  \\\n",
       "count     4546.000000  4546.000000    4546.000000      4546.000000   \n",
       "mean         0.004149     0.004986       0.010021         0.004641   \n",
       "std          0.018841     0.046641       0.040597         0.032966   \n",
       "min          0.000000     0.000000       0.000000         0.000000   \n",
       "25%          0.001923     0.000000       0.000000         0.000000   \n",
       "50%          0.001923     0.000000       0.000000         0.000000   \n",
       "75%          0.001923     0.000000       0.000000         0.000000   \n",
       "max          1.000000     1.000000       1.000000         1.000000   \n",
       "\n",
       "         BestScore  Recipe_Review  \n",
       "count  4546.000000    4546.000000  \n",
       "mean      0.153716    2254.262209  \n",
       "std       0.153815    1303.040601  \n",
       "min       0.000000       0.000000  \n",
       "25%       0.095756    1125.250000  \n",
       "50%       0.095756    2256.500000  \n",
       "75%       0.095756    3383.750000  \n",
       "max       1.000000    4509.000000  "
      ]
     },
     "execution_count": 33,
     "metadata": {},
     "output_type": "execute_result"
    }
   ],
   "source": [
    "from sklearn.preprocessing import MinMaxScaler\n",
    "\n",
    "# Select numerical columns for scaling\n",
    "numerical_columns = ['UserReputation', 'ReplyCount', 'ThumbsUpCount', 'ThumbsDownCount','BestScore']\n",
    "\n",
    "# Initialize MinMaxScaler\n",
    "scaler = MinMaxScaler()\n",
    "\n",
    "X_test_encoded_scaled = X_test_encoded\n",
    "\n",
    "# Fit and transform the selected columns\n",
    "X_test_encoded_scaled[numerical_columns] = scaler.fit_transform(X_test_encoded[numerical_columns])\n",
    "\n",
    "# Print the scaled DataFrame\n",
    "X_test_encoded_scaled.describe()"
   ]
  },
  {
   "cell_type": "code",
   "execution_count": 34,
   "id": "6abcba9a",
   "metadata": {
    "execution": {
     "iopub.execute_input": "2024-04-10T11:44:27.103026Z",
     "iopub.status.busy": "2024-04-10T11:44:27.102384Z",
     "iopub.status.idle": "2024-04-10T11:44:27.107937Z",
     "shell.execute_reply": "2024-04-10T11:44:27.106990Z"
    },
    "papermill": {
     "duration": 0.043459,
     "end_time": "2024-04-10T11:44:27.109942",
     "exception": false,
     "start_time": "2024-04-10T11:44:27.066483",
     "status": "completed"
    },
    "tags": []
   },
   "outputs": [
    {
     "data": {
      "text/plain": [
       "'counts = {value: np.sum(y_test_pred == value) for value in np.unique(y_test_pred)}\\nprint(counts)'"
      ]
     },
     "execution_count": 34,
     "metadata": {},
     "output_type": "execute_result"
    }
   ],
   "source": [
    "\"\"\"y_test_pred = log_reg_model.predict(X_test_encoded_scaled)\"\"\"\n",
    "\n",
    "\"\"\"print(np.unique(y_test_pred))\"\"\"\n",
    "\n",
    "\"\"\"counts = {value: np.sum(y_test_pred == value) for value in np.unique(y_test_pred)}\n",
    "print(counts)\"\"\""
   ]
  },
  {
   "cell_type": "code",
   "execution_count": 35,
   "id": "0327a796",
   "metadata": {
    "execution": {
     "iopub.execute_input": "2024-04-10T11:44:27.179833Z",
     "iopub.status.busy": "2024-04-10T11:44:27.179449Z",
     "iopub.status.idle": "2024-04-10T11:44:27.184347Z",
     "shell.execute_reply": "2024-04-10T11:44:27.183308Z"
    },
    "papermill": {
     "duration": 0.042141,
     "end_time": "2024-04-10T11:44:27.186325",
     "exception": false,
     "start_time": "2024-04-10T11:44:27.144184",
     "status": "completed"
    },
    "tags": []
   },
   "outputs": [],
   "source": [
    "# Create a DataFrame for submissions\n",
    "#submissions_df = pd.DataFrame(columns=['ID','Rating'])\n",
    "\n",
    "#submissions_df['ID'] = X_test_encoded['ID']\n",
    "#submissions_df['Rating'] = y_test_pred\n",
    "\n",
    "# Save the DataFrame to a CSV file\n",
    "#submissions_df.to_csv('submission.csv', index=False)\n",
    "\n",
    "#print(X_test_encoded)\n",
    "\n",
    "#duplicates = submissions_df[submissions_df.duplicated(subset=['ID'], keep=False)]\n",
    "#print(duplicates)\n",
    "\n",
    "#value_counts = submissions_df['ID'].value_counts()\n",
    "\n",
    "# Filter out values that appear more than once (i.e., duplicates)\n",
    "#duplicates = value_counts[value_counts > 1]\n",
    "#print(duplicates)\n",
    "\n",
    "#submissions_df = submissions_df.drop_duplicates(subset=['ID'])\n",
    "\n",
    "# Create a DataFrame for submissions\n",
    "#submissions_df = pd.DataFrame(columns=['ID','Rating'])\n",
    "\n",
    "#submissions_df['ID'] = range(1,4547)\n",
    "#submissions_df['Rating'] = y_test_pred\n",
    "\n",
    "# Save the DataFrame to a CSV file\n",
    "#submissions_df.to_csv('submission.csv', index=False)"
   ]
  },
  {
   "cell_type": "code",
   "execution_count": 36,
   "id": "786c4ed6",
   "metadata": {
    "execution": {
     "iopub.execute_input": "2024-04-10T11:44:27.257795Z",
     "iopub.status.busy": "2024-04-10T11:44:27.256749Z",
     "iopub.status.idle": "2024-04-10T11:44:27.262922Z",
     "shell.execute_reply": "2024-04-10T11:44:27.261995Z"
    },
    "papermill": {
     "duration": 0.044289,
     "end_time": "2024-04-10T11:44:27.264866",
     "exception": false,
     "start_time": "2024-04-10T11:44:27.220577",
     "status": "completed"
    },
    "tags": []
   },
   "outputs": [
    {
     "data": {
      "text/plain": [
       "'submission = pd.DataFrame({\\n    \"ID\": range(1,4547),\\n    \"Rating\":y_test_pred\\n})\\nsubmission.to_csv(\\'submission.csv\\',index=False)'"
      ]
     },
     "execution_count": 36,
     "metadata": {},
     "output_type": "execute_result"
    }
   ],
   "source": [
    "\"\"\"submission = pd.DataFrame({\n",
    "    \"ID\": range(1,4547),\n",
    "    \"Rating\":y_test_pred\n",
    "})\n",
    "submission.to_csv('submission.csv',index=False)\"\"\""
   ]
  },
  {
   "cell_type": "markdown",
   "id": "80c7c2df",
   "metadata": {
    "papermill": {
     "duration": 0.034505,
     "end_time": "2024-04-10T11:44:27.333341",
     "exception": false,
     "start_time": "2024-04-10T11:44:27.298836",
     "status": "completed"
    },
    "tags": []
   },
   "source": [
    "### KNN"
   ]
  },
  {
   "cell_type": "code",
   "execution_count": 37,
   "id": "a1faef81",
   "metadata": {
    "execution": {
     "iopub.execute_input": "2024-04-10T11:44:27.404647Z",
     "iopub.status.busy": "2024-04-10T11:44:27.403642Z",
     "iopub.status.idle": "2024-04-10T11:44:27.410171Z",
     "shell.execute_reply": "2024-04-10T11:44:27.409269Z"
    },
    "papermill": {
     "duration": 0.044796,
     "end_time": "2024-04-10T11:44:27.412251",
     "exception": false,
     "start_time": "2024-04-10T11:44:27.367455",
     "status": "completed"
    },
    "tags": []
   },
   "outputs": [
    {
     "data": {
      "text/plain": [
       "'from sklearn.neighbors import KNeighborsClassifier\\nfrom sklearn.metrics import accuracy_score, f1_score\\n\\n# Initialize the KNN model\\nknn_model = KNeighborsClassifier()\\n\\n# Train the model on the training data\\nknn_model.fit(X_train, y_train)\\n\\n# Make predictions on the validation set\\ny_pred = knn_model.predict(X_val)\\n\\n# Calculate the accuracy and F1 score\\naccuracy = accuracy_score(y_val, y_pred)\\nf1 = f1_score(y_val, y_pred, average=\\'weighted\\')\\n\\n# Print the evaluation metrics\\nprint(\"Accuracy:\", accuracy)\\nprint(\"F1 Score:\", f1)'"
      ]
     },
     "execution_count": 37,
     "metadata": {},
     "output_type": "execute_result"
    }
   ],
   "source": [
    "\"\"\"from sklearn.neighbors import KNeighborsClassifier\n",
    "from sklearn.metrics import accuracy_score, f1_score\n",
    "\n",
    "# Initialize the KNN model\n",
    "knn_model = KNeighborsClassifier()\n",
    "\n",
    "# Train the model on the training data\n",
    "knn_model.fit(X_train, y_train)\n",
    "\n",
    "# Make predictions on the validation set\n",
    "y_pred = knn_model.predict(X_val)\n",
    "\n",
    "# Calculate the accuracy and F1 score\n",
    "accuracy = accuracy_score(y_val, y_pred)\n",
    "f1 = f1_score(y_val, y_pred, average='weighted')\n",
    "\n",
    "# Print the evaluation metrics\n",
    "print(\"Accuracy:\", accuracy)\n",
    "print(\"F1 Score:\", f1)\"\"\""
   ]
  },
  {
   "cell_type": "code",
   "execution_count": 38,
   "id": "9cdea763",
   "metadata": {
    "execution": {
     "iopub.execute_input": "2024-04-10T11:44:27.483169Z",
     "iopub.status.busy": "2024-04-10T11:44:27.482450Z",
     "iopub.status.idle": "2024-04-10T11:44:27.489617Z",
     "shell.execute_reply": "2024-04-10T11:44:27.488606Z"
    },
    "papermill": {
     "duration": 0.044508,
     "end_time": "2024-04-10T11:44:27.491557",
     "exception": false,
     "start_time": "2024-04-10T11:44:27.447049",
     "status": "completed"
    },
    "tags": []
   },
   "outputs": [
    {
     "data": {
      "text/plain": [
       "'from sklearn.model_selection import GridSearchCV\\nfrom sklearn.neighbors import KNeighborsClassifier\\n\\n# Define the hyperparameters grid\\nparam_grid = {\\n    \\'n_neighbors\\': [5,8,10,12,15,17,20],  # Number of neighbors\\n    \\'weights\\': [\\'uniform\\', \\'distance\\'],  # Weight function used in prediction\\n    \\'algorithm\\': [\\'auto\\', \\'ball_tree\\', \\'kd_tree\\', \\'brute\\'],  # Algorithm used to compute the nearest neighbors\\n    #\\'metric\\': [\\'euclidean\\', \\'manhattan\\', \\'chebyshev\\', \\'minkowski\\', \\'cosine\\', \\'hamming\\']\\n}\\n\\n# Initialize the KNN model\\nknn_model = KNeighborsClassifier()\\n\\n# Initialize GridSearchCV with n-fold cross-validation\\ngrid_search = GridSearchCV(knn_model, param_grid, cv=5, scoring=\\'f1_micro\\')\\n\\n# Perform grid search to find the best hyperparameters\\ngrid_search.fit(X_train, y_train)\\n\\n# Print the best hyperparameters found\\nprint(\"Best Hyperparameters:\", grid_search.best_params_)\\n\\n# Get the best model\\nbest_knn_model = grid_search.best_estimator_\\n\\n# Evaluate the best model on the validation set\\ny_pred = best_knn_model.predict(X_val)\\n\\n# Calculate the F1 score\\nf1 = f1_score(y_val, y_pred, average=\\'micro\\')\\n\\nprint(\"F1 Score:\", f1)'"
      ]
     },
     "execution_count": 38,
     "metadata": {},
     "output_type": "execute_result"
    }
   ],
   "source": [
    "\"\"\"from sklearn.model_selection import GridSearchCV\n",
    "from sklearn.neighbors import KNeighborsClassifier\n",
    "\n",
    "# Define the hyperparameters grid\n",
    "param_grid = {\n",
    "    'n_neighbors': [5,8,10,12,15,17,20],  # Number of neighbors\n",
    "    'weights': ['uniform', 'distance'],  # Weight function used in prediction\n",
    "    'algorithm': ['auto', 'ball_tree', 'kd_tree', 'brute'],  # Algorithm used to compute the nearest neighbors\n",
    "    #'metric': ['euclidean', 'manhattan', 'chebyshev', 'minkowski', 'cosine', 'hamming']\n",
    "}\n",
    "\n",
    "# Initialize the KNN model\n",
    "knn_model = KNeighborsClassifier()\n",
    "\n",
    "# Initialize GridSearchCV with n-fold cross-validation\n",
    "grid_search = GridSearchCV(knn_model, param_grid, cv=5, scoring='f1_micro')\n",
    "\n",
    "# Perform grid search to find the best hyperparameters\n",
    "grid_search.fit(X_train, y_train)\n",
    "\n",
    "# Print the best hyperparameters found\n",
    "print(\"Best Hyperparameters:\", grid_search.best_params_)\n",
    "\n",
    "# Get the best model\n",
    "best_knn_model = grid_search.best_estimator_\n",
    "\n",
    "# Evaluate the best model on the validation set\n",
    "y_pred = best_knn_model.predict(X_val)\n",
    "\n",
    "# Calculate the F1 score\n",
    "f1 = f1_score(y_val, y_pred, average='micro')\n",
    "\n",
    "print(\"F1 Score:\", f1)\"\"\""
   ]
  },
  {
   "cell_type": "code",
   "execution_count": 39,
   "id": "894911e5",
   "metadata": {
    "execution": {
     "iopub.execute_input": "2024-04-10T11:44:27.564507Z",
     "iopub.status.busy": "2024-04-10T11:44:27.564090Z",
     "iopub.status.idle": "2024-04-10T11:44:27.570554Z",
     "shell.execute_reply": "2024-04-10T11:44:27.569579Z"
    },
    "papermill": {
     "duration": 0.047051,
     "end_time": "2024-04-10T11:44:27.573091",
     "exception": false,
     "start_time": "2024-04-10T11:44:27.526040",
     "status": "completed"
    },
    "tags": []
   },
   "outputs": [
    {
     "data": {
      "text/plain": [
       "'from sklearn.neighbors import KNeighborsClassifier\\n\\n# Initialize KNN classifier with best hyperparameters\\nknn_model = KNeighborsClassifier(n_neighbors=12, weights=\\'distance\\', algorithm=\\'auto\\')\\n\\n# Train the model on the training data\\nknn_model.fit(X_train, y_train)\\n\\n# Make predictions on the validation set\\ny_pred = knn_model.predict(X_val)\\n\\n# Evaluate the model\\nf1 = f1_score(y_val, y_pred, average=\\'weighted\\')  # Calculate F1 score\\nprint(\"F1 Score:\", f1)'"
      ]
     },
     "execution_count": 39,
     "metadata": {},
     "output_type": "execute_result"
    }
   ],
   "source": [
    "\"\"\"from sklearn.neighbors import KNeighborsClassifier\n",
    "\n",
    "# Initialize KNN classifier with best hyperparameters\n",
    "knn_model = KNeighborsClassifier(n_neighbors=12, weights='distance', algorithm='auto')\n",
    "\n",
    "# Train the model on the training data\n",
    "knn_model.fit(X_train, y_train)\n",
    "\n",
    "# Make predictions on the validation set\n",
    "y_pred = knn_model.predict(X_val)\n",
    "\n",
    "# Evaluate the model\n",
    "f1 = f1_score(y_val, y_pred, average='weighted')  # Calculate F1 score\n",
    "print(\"F1 Score:\", f1)\"\"\""
   ]
  },
  {
   "cell_type": "code",
   "execution_count": 40,
   "id": "710d20b4",
   "metadata": {
    "execution": {
     "iopub.execute_input": "2024-04-10T11:44:27.646019Z",
     "iopub.status.busy": "2024-04-10T11:44:27.644886Z",
     "iopub.status.idle": "2024-04-10T11:44:27.651562Z",
     "shell.execute_reply": "2024-04-10T11:44:27.650535Z"
    },
    "papermill": {
     "duration": 0.045242,
     "end_time": "2024-04-10T11:44:27.653825",
     "exception": false,
     "start_time": "2024-04-10T11:44:27.608583",
     "status": "completed"
    },
    "tags": []
   },
   "outputs": [
    {
     "data": {
      "text/plain": [
       "'y_test_pred_knn = knn_model.predict(X_test_encoded_scaled)'"
      ]
     },
     "execution_count": 40,
     "metadata": {},
     "output_type": "execute_result"
    }
   ],
   "source": [
    "\"\"\"y_test_pred_knn = knn_model.predict(X_test_encoded_scaled)\"\"\""
   ]
  },
  {
   "cell_type": "code",
   "execution_count": 41,
   "id": "de1b9551",
   "metadata": {
    "execution": {
     "iopub.execute_input": "2024-04-10T11:44:27.726322Z",
     "iopub.status.busy": "2024-04-10T11:44:27.725937Z",
     "iopub.status.idle": "2024-04-10T11:44:27.732379Z",
     "shell.execute_reply": "2024-04-10T11:44:27.731235Z"
    },
    "papermill": {
     "duration": 0.045207,
     "end_time": "2024-04-10T11:44:27.734484",
     "exception": false,
     "start_time": "2024-04-10T11:44:27.689277",
     "status": "completed"
    },
    "tags": []
   },
   "outputs": [
    {
     "data": {
      "text/plain": [
       "'print(np.unique(y_test_pred_knn))'"
      ]
     },
     "execution_count": 41,
     "metadata": {},
     "output_type": "execute_result"
    }
   ],
   "source": [
    "\"\"\"print(np.unique(y_test_pred_knn))\"\"\""
   ]
  },
  {
   "cell_type": "code",
   "execution_count": 42,
   "id": "b19b21eb",
   "metadata": {
    "execution": {
     "iopub.execute_input": "2024-04-10T11:44:27.809288Z",
     "iopub.status.busy": "2024-04-10T11:44:27.808555Z",
     "iopub.status.idle": "2024-04-10T11:44:27.814916Z",
     "shell.execute_reply": "2024-04-10T11:44:27.813846Z"
    },
    "papermill": {
     "duration": 0.045341,
     "end_time": "2024-04-10T11:44:27.817002",
     "exception": false,
     "start_time": "2024-04-10T11:44:27.771661",
     "status": "completed"
    },
    "tags": []
   },
   "outputs": [
    {
     "data": {
      "text/plain": [
       "'counts = {value: np.sum(y_test_pred_knn == value) for value in np.unique(y_test_pred_knn)}\\nprint(counts)'"
      ]
     },
     "execution_count": 42,
     "metadata": {},
     "output_type": "execute_result"
    }
   ],
   "source": [
    "\"\"\"counts = {value: np.sum(y_test_pred_knn == value) for value in np.unique(y_test_pred_knn)}\n",
    "print(counts)\"\"\""
   ]
  },
  {
   "cell_type": "code",
   "execution_count": 43,
   "id": "89ed6f2f",
   "metadata": {
    "execution": {
     "iopub.execute_input": "2024-04-10T11:44:27.888591Z",
     "iopub.status.busy": "2024-04-10T11:44:27.888236Z",
     "iopub.status.idle": "2024-04-10T11:44:27.894318Z",
     "shell.execute_reply": "2024-04-10T11:44:27.893292Z"
    },
    "papermill": {
     "duration": 0.044519,
     "end_time": "2024-04-10T11:44:27.896457",
     "exception": false,
     "start_time": "2024-04-10T11:44:27.851938",
     "status": "completed"
    },
    "tags": []
   },
   "outputs": [
    {
     "data": {
      "text/plain": [
       "'submission = pd.DataFrame({\\n    \"ID\": range(1,4547),\\n    \"Rating\":y_test_pred_knn\\n})\\nsubmission.to_csv(\\'submission.csv\\',index=False)'"
      ]
     },
     "execution_count": 43,
     "metadata": {},
     "output_type": "execute_result"
    }
   ],
   "source": [
    "\"\"\"submission = pd.DataFrame({\n",
    "    \"ID\": range(1,4547),\n",
    "    \"Rating\":y_test_pred_knn\n",
    "})\n",
    "submission.to_csv('submission.csv',index=False)\"\"\""
   ]
  },
  {
   "cell_type": "markdown",
   "id": "14317332",
   "metadata": {
    "papermill": {
     "duration": 0.03813,
     "end_time": "2024-04-10T11:44:27.969668",
     "exception": false,
     "start_time": "2024-04-10T11:44:27.931538",
     "status": "completed"
    },
    "tags": []
   },
   "source": [
    "### SVM"
   ]
  },
  {
   "cell_type": "code",
   "execution_count": 44,
   "id": "cc68f5fd",
   "metadata": {
    "execution": {
     "iopub.execute_input": "2024-04-10T11:44:28.042547Z",
     "iopub.status.busy": "2024-04-10T11:44:28.041774Z",
     "iopub.status.idle": "2024-04-10T11:44:28.048535Z",
     "shell.execute_reply": "2024-04-10T11:44:28.047551Z"
    },
    "papermill": {
     "duration": 0.045629,
     "end_time": "2024-04-10T11:44:28.050821",
     "exception": false,
     "start_time": "2024-04-10T11:44:28.005192",
     "status": "completed"
    },
    "tags": []
   },
   "outputs": [
    {
     "data": {
      "text/plain": [
       "'from sklearn.svm import SVC\\nfrom sklearn.metrics import f1_score\\n\\n# Initialize the SVM model\\nsvm_model = SVC()\\n\\n# Train the model on the training data\\nsvm_model.fit(X_train, y_train)\\n\\n# Make predictions on the validation set\\ny_pred = svm_model.predict(X_val)\\n\\n# Calculate the F1 score\\nf1 = f1_score(y_val, y_pred, average=\\'weighted\\')  # You can choose the averaging method based on your requirements\\n\\n# Print the F1 score\\nprint(\"F1 Score:\", f1)'"
      ]
     },
     "execution_count": 44,
     "metadata": {},
     "output_type": "execute_result"
    }
   ],
   "source": [
    "\"\"\"from sklearn.svm import SVC\n",
    "from sklearn.metrics import f1_score\n",
    "\n",
    "# Initialize the SVM model\n",
    "svm_model = SVC()\n",
    "\n",
    "# Train the model on the training data\n",
    "svm_model.fit(X_train, y_train)\n",
    "\n",
    "# Make predictions on the validation set\n",
    "y_pred = svm_model.predict(X_val)\n",
    "\n",
    "# Calculate the F1 score\n",
    "f1 = f1_score(y_val, y_pred, average='weighted')  # You can choose the averaging method based on your requirements\n",
    "\n",
    "# Print the F1 score\n",
    "print(\"F1 Score:\", f1)\"\"\""
   ]
  },
  {
   "cell_type": "code",
   "execution_count": 45,
   "id": "0c115587",
   "metadata": {
    "execution": {
     "iopub.execute_input": "2024-04-10T11:44:28.124750Z",
     "iopub.status.busy": "2024-04-10T11:44:28.124396Z",
     "iopub.status.idle": "2024-04-10T11:44:28.131074Z",
     "shell.execute_reply": "2024-04-10T11:44:28.129923Z"
    },
    "papermill": {
     "duration": 0.046205,
     "end_time": "2024-04-10T11:44:28.133364",
     "exception": false,
     "start_time": "2024-04-10T11:44:28.087159",
     "status": "completed"
    },
    "tags": []
   },
   "outputs": [
    {
     "data": {
      "text/plain": [
       "'from sklearn.model_selection import GridSearchCV\\nfrom sklearn.svm import SVC\\n\\n# Define the hyperparameters grid\\nparam_grid = {\\n    \\'C\\': [0.1, 1, 10],  # Regularization parameter\\n    \\'kernel\\': [\\'linear\\', \\'rbf\\'],  # Kernel type\\n    \\'gamma\\': [\\'scale\\', \\'auto\\']  # Kernel coefficient for \\'rbf\\' kernel\\n}\\n\\n# Initialize the SVM model\\nsvm_model = SVC()\\n\\n# Initialize GridSearchCV with 5-fold cross-validation\\ngrid_search = GridSearchCV(svm_model, param_grid, cv=5, scoring=\\'f1_weighted\\')\\n\\n# Perform grid search to find the best hyperparameters\\ngrid_search.fit(X_train, y_train)\\n\\n# Print the best hyperparameters found\\nprint(\"Best Hyperparameters:\", grid_search.best_params_)\\n\\n# Get the best model\\nbest_svm_model = grid_search.best_estimator_\\n\\n# Evaluate the best model on the validation set\\ny_pred = best_svm_model.predict(X_val)\\n\\n# Calculate the F1 score\\nf1 = f1_score(y_val, y_pred, average=\\'weighted\\')\\n\\n# Print the F1 score\\nprint(\"F1 Score:\", f1)'"
      ]
     },
     "execution_count": 45,
     "metadata": {},
     "output_type": "execute_result"
    }
   ],
   "source": [
    "\"\"\"from sklearn.model_selection import GridSearchCV\n",
    "from sklearn.svm import SVC\n",
    "\n",
    "# Define the hyperparameters grid\n",
    "param_grid = {\n",
    "    'C': [0.1, 1, 10],  # Regularization parameter\n",
    "    'kernel': ['linear', 'rbf'],  # Kernel type\n",
    "    'gamma': ['scale', 'auto']  # Kernel coefficient for 'rbf' kernel\n",
    "}\n",
    "\n",
    "# Initialize the SVM model\n",
    "svm_model = SVC()\n",
    "\n",
    "# Initialize GridSearchCV with 5-fold cross-validation\n",
    "grid_search = GridSearchCV(svm_model, param_grid, cv=5, scoring='f1_weighted')\n",
    "\n",
    "# Perform grid search to find the best hyperparameters\n",
    "grid_search.fit(X_train, y_train)\n",
    "\n",
    "# Print the best hyperparameters found\n",
    "print(\"Best Hyperparameters:\", grid_search.best_params_)\n",
    "\n",
    "# Get the best model\n",
    "best_svm_model = grid_search.best_estimator_\n",
    "\n",
    "# Evaluate the best model on the validation set\n",
    "y_pred = best_svm_model.predict(X_val)\n",
    "\n",
    "# Calculate the F1 score\n",
    "f1 = f1_score(y_val, y_pred, average='weighted')\n",
    "\n",
    "# Print the F1 score\n",
    "print(\"F1 Score:\", f1)\"\"\""
   ]
  },
  {
   "cell_type": "markdown",
   "id": "410a9bae",
   "metadata": {
    "papermill": {
     "duration": 0.035699,
     "end_time": "2024-04-10T11:44:28.205166",
     "exception": false,
     "start_time": "2024-04-10T11:44:28.169467",
     "status": "completed"
    },
    "tags": []
   },
   "source": [
    "### Decision Tree"
   ]
  },
  {
   "cell_type": "code",
   "execution_count": 46,
   "id": "4a2776cc",
   "metadata": {
    "execution": {
     "iopub.execute_input": "2024-04-10T11:44:28.278048Z",
     "iopub.status.busy": "2024-04-10T11:44:28.277633Z",
     "iopub.status.idle": "2024-04-10T11:44:28.283993Z",
     "shell.execute_reply": "2024-04-10T11:44:28.282919Z"
    },
    "papermill": {
     "duration": 0.045289,
     "end_time": "2024-04-10T11:44:28.286121",
     "exception": false,
     "start_time": "2024-04-10T11:44:28.240832",
     "status": "completed"
    },
    "tags": []
   },
   "outputs": [
    {
     "data": {
      "text/plain": [
       "'from sklearn.tree import DecisionTreeClassifier\\nfrom sklearn.metrics import f1_score\\n\\n# Initialize the Decision Tree model\\ndt_classifier = DecisionTreeClassifier()\\n\\n# Train the model on the training data\\ndt_classifier.fit(X_train, y_train)\\n\\n# Make predictions on the validation set\\ny_pred = dt_classifier.predict(X_val)\\n\\n# Calculate the F1 score\\nf1 = f1_score(y_val, y_pred, average=\\'weighted\\')  # You can choose the averaging method based on your requirements\\n\\n# Print the F1 score\\nprint(\"F1 Score:\", f1)'"
      ]
     },
     "execution_count": 46,
     "metadata": {},
     "output_type": "execute_result"
    }
   ],
   "source": [
    "\"\"\"from sklearn.tree import DecisionTreeClassifier\n",
    "from sklearn.metrics import f1_score\n",
    "\n",
    "# Initialize the Decision Tree model\n",
    "dt_classifier = DecisionTreeClassifier()\n",
    "\n",
    "# Train the model on the training data\n",
    "dt_classifier.fit(X_train, y_train)\n",
    "\n",
    "# Make predictions on the validation set\n",
    "y_pred = dt_classifier.predict(X_val)\n",
    "\n",
    "# Calculate the F1 score\n",
    "f1 = f1_score(y_val, y_pred, average='weighted')  # You can choose the averaging method based on your requirements\n",
    "\n",
    "# Print the F1 score\n",
    "print(\"F1 Score:\", f1)\"\"\""
   ]
  },
  {
   "cell_type": "code",
   "execution_count": 47,
   "id": "fb112cb7",
   "metadata": {
    "execution": {
     "iopub.execute_input": "2024-04-10T11:44:28.359669Z",
     "iopub.status.busy": "2024-04-10T11:44:28.358694Z",
     "iopub.status.idle": "2024-04-10T11:44:28.366869Z",
     "shell.execute_reply": "2024-04-10T11:44:28.365860Z"
    },
    "papermill": {
     "duration": 0.04723,
     "end_time": "2024-04-10T11:44:28.368964",
     "exception": false,
     "start_time": "2024-04-10T11:44:28.321734",
     "status": "completed"
    },
    "tags": []
   },
   "outputs": [
    {
     "data": {
      "text/plain": [
       "'from sklearn.tree import DecisionTreeClassifier\\nfrom sklearn.model_selection import GridSearchCV\\n\\n# Define the parameter grid\\nparam_grid = {\\n    \\'criterion\\': [\\'gini\\', \\'entropy\\'],\\n    \\'splitter\\': [\\'best\\', \\'random\\'],  # New parameter \\'splitter\\'\\n    \\'max_depth\\': [10, 15, 20, 25, 30, None],\\n    \\'min_samples_split\\': [2, 5, 10, 20, 30, 40, 50],  # Adjusted values for \\'min_samples_split\\'\\n    \\'min_samples_leaf\\': [1, 5, 10, 15, 20],  # Adjusted values for \\'min_samples_leaf\\'\\n    \\'max_features\\': [\\'sqrt\\', \\'log2\\', None],\\n    \\'max_leaf_nodes\\': [None, 10, 20, 30, 40],  # New parameter \\'max_leaf_nodes\\'\\n    \\'min_impurity_decrease\\': [0.0, 0.1, 0.2, 0.3],  # New parameter \\'min_impurity_decrease\\'\\n    \\'ccp_alpha\\': [0.0, 0.1, 0.2, 0.3]  # New parameter \\'ccp_alpha\\'\\n}\\n\\n# Initialize the Decision Tree Classifier\\ndt_classifier = DecisionTreeClassifier()\\n\\n# Initialize GridSearchCV with 5-fold cross-validation\\ngrid_search = GridSearchCV(estimator=dt_classifier,\\n                           param_grid=param_grid,\\n                           cv=5,\\n                           n_jobs=-1,  # Use all available CPU cores\\n                           scoring=\\'f1_weighted\\')  # You can choose other scoring metrics\\n\\n# Fit the grid search to the training data\\ngrid_search.fit(X_train, y_train)\\n\\n# Print the best hyperparameters found\\nprint(\"Best Hyperparameters:\", grid_search.best_params_)\\n\\n# Get the best model\\nbest_dt_model = grid_search.best_estimator_\\n\\n# Evaluate the best model on the validation set\\ny_pred = best_dt_model.predict(X_val)\\n\\n# Calculate the F1 score\\nf1 = f1_score(y_val, y_pred, average=\\'weighted\\')\\n\\n# Print the F1 score\\nprint(\"F1 Score:\", f1)'"
      ]
     },
     "execution_count": 47,
     "metadata": {},
     "output_type": "execute_result"
    }
   ],
   "source": [
    "\"\"\"from sklearn.tree import DecisionTreeClassifier\n",
    "from sklearn.model_selection import GridSearchCV\n",
    "\n",
    "# Define the parameter grid\n",
    "param_grid = {\n",
    "    'criterion': ['gini', 'entropy'],\n",
    "    'splitter': ['best', 'random'],  # New parameter 'splitter'\n",
    "    'max_depth': [10, 15, 20, 25, 30, None],\n",
    "    'min_samples_split': [2, 5, 10, 20, 30, 40, 50],  # Adjusted values for 'min_samples_split'\n",
    "    'min_samples_leaf': [1, 5, 10, 15, 20],  # Adjusted values for 'min_samples_leaf'\n",
    "    'max_features': ['sqrt', 'log2', None],\n",
    "    'max_leaf_nodes': [None, 10, 20, 30, 40],  # New parameter 'max_leaf_nodes'\n",
    "    'min_impurity_decrease': [0.0, 0.1, 0.2, 0.3],  # New parameter 'min_impurity_decrease'\n",
    "    'ccp_alpha': [0.0, 0.1, 0.2, 0.3]  # New parameter 'ccp_alpha'\n",
    "}\n",
    "\n",
    "# Initialize the Decision Tree Classifier\n",
    "dt_classifier = DecisionTreeClassifier()\n",
    "\n",
    "# Initialize GridSearchCV with 5-fold cross-validation\n",
    "grid_search = GridSearchCV(estimator=dt_classifier,\n",
    "                           param_grid=param_grid,\n",
    "                           cv=5,\n",
    "                           n_jobs=-1,  # Use all available CPU cores\n",
    "                           scoring='f1_weighted')  # You can choose other scoring metrics\n",
    "\n",
    "# Fit the grid search to the training data\n",
    "grid_search.fit(X_train, y_train)\n",
    "\n",
    "# Print the best hyperparameters found\n",
    "print(\"Best Hyperparameters:\", grid_search.best_params_)\n",
    "\n",
    "# Get the best model\n",
    "best_dt_model = grid_search.best_estimator_\n",
    "\n",
    "# Evaluate the best model on the validation set\n",
    "y_pred = best_dt_model.predict(X_val)\n",
    "\n",
    "# Calculate the F1 score\n",
    "f1 = f1_score(y_val, y_pred, average='weighted')\n",
    "\n",
    "# Print the F1 score\n",
    "print(\"F1 Score:\", f1)\"\"\""
   ]
  },
  {
   "cell_type": "code",
   "execution_count": 48,
   "id": "0c984ebd",
   "metadata": {
    "execution": {
     "iopub.execute_input": "2024-04-10T11:44:28.442310Z",
     "iopub.status.busy": "2024-04-10T11:44:28.441628Z",
     "iopub.status.idle": "2024-04-10T11:44:28.447939Z",
     "shell.execute_reply": "2024-04-10T11:44:28.447217Z"
    },
    "papermill": {
     "duration": 0.045084,
     "end_time": "2024-04-10T11:44:28.449785",
     "exception": false,
     "start_time": "2024-04-10T11:44:28.404701",
     "status": "completed"
    },
    "tags": []
   },
   "outputs": [
    {
     "data": {
      "text/plain": [
       "'from sklearn.tree import DecisionTreeClassifier\\nfrom sklearn.model_selection import GridSearchCV\\nfrom sklearn.metrics import accuracy_score\\n\\n# Define the best hyperparameters\\nbest_hyperparameters = {\\n    \\'ccp_alpha\\': 0.0,\\n    \\'criterion\\': \\'entropy\\',\\n    \\'max_depth\\': 20,\\n    \\'max_features\\': None,\\n    \\'max_leaf_nodes\\': None,\\n    \\'min_impurity_decrease\\': 0.0,\\n    \\'min_samples_leaf\\': 10,\\n    \\'min_samples_split\\': 2,\\n    \\'splitter\\': \\'best\\'\\n}\\n\\n# Initialize the DecisionTreeClassifier with the best hyperparameters\\ndt_classifier = DecisionTreeClassifier(**best_hyperparameters)\\n\\n# Assuming you have your training data X_train and corresponding labels y_train\\n# Replace X_train and y_train with your actual training data and labels\\n\\n# Train the DecisionTreeClassifier\\ndt_classifier.fit(X_train, y_train)\\n\\n\\ny_pred_dt = dt_classifier.predict(X_test_encoded_scaled)\\n\\n# Evaluate the model\\n# Assuming you have your test data X_test and corresponding labels y_test\\n# Replace X_test and y_test with your actual test data and labels\\n\\n# Calculate accuracy\\n# y_pred = dt_classifier.predict(X_test)\\n# accuracy = accuracy_score(y_test, y_pred)\\n# print(\"Accuracy:\", accuracy)\\n'"
      ]
     },
     "execution_count": 48,
     "metadata": {},
     "output_type": "execute_result"
    }
   ],
   "source": [
    "\"\"\"from sklearn.tree import DecisionTreeClassifier\n",
    "from sklearn.model_selection import GridSearchCV\n",
    "from sklearn.metrics import accuracy_score\n",
    "\n",
    "# Define the best hyperparameters\n",
    "best_hyperparameters = {\n",
    "    'ccp_alpha': 0.0,\n",
    "    'criterion': 'entropy',\n",
    "    'max_depth': 20,\n",
    "    'max_features': None,\n",
    "    'max_leaf_nodes': None,\n",
    "    'min_impurity_decrease': 0.0,\n",
    "    'min_samples_leaf': 10,\n",
    "    'min_samples_split': 2,\n",
    "    'splitter': 'best'\n",
    "}\n",
    "\n",
    "# Initialize the DecisionTreeClassifier with the best hyperparameters\n",
    "dt_classifier = DecisionTreeClassifier(**best_hyperparameters)\n",
    "\n",
    "# Assuming you have your training data X_train and corresponding labels y_train\n",
    "# Replace X_train and y_train with your actual training data and labels\n",
    "\n",
    "# Train the DecisionTreeClassifier\n",
    "dt_classifier.fit(X_train, y_train)\n",
    "\n",
    "\n",
    "y_pred_dt = dt_classifier.predict(X_test_encoded_scaled)\n",
    "\n",
    "# Evaluate the model\n",
    "# Assuming you have your test data X_test and corresponding labels y_test\n",
    "# Replace X_test and y_test with your actual test data and labels\n",
    "\n",
    "# Calculate accuracy\n",
    "# y_pred = dt_classifier.predict(X_test)\n",
    "# accuracy = accuracy_score(y_test, y_pred)\n",
    "# print(\"Accuracy:\", accuracy)\n",
    "\"\"\""
   ]
  },
  {
   "cell_type": "code",
   "execution_count": 49,
   "id": "fab89845",
   "metadata": {
    "execution": {
     "iopub.execute_input": "2024-04-10T11:44:28.522972Z",
     "iopub.status.busy": "2024-04-10T11:44:28.522576Z",
     "iopub.status.idle": "2024-04-10T11:44:28.528091Z",
     "shell.execute_reply": "2024-04-10T11:44:28.527300Z"
    },
    "papermill": {
     "duration": 0.044364,
     "end_time": "2024-04-10T11:44:28.529996",
     "exception": false,
     "start_time": "2024-04-10T11:44:28.485632",
     "status": "completed"
    },
    "tags": []
   },
   "outputs": [
    {
     "data": {
      "text/plain": [
       "'print(np.unique(y_pred_dt))'"
      ]
     },
     "execution_count": 49,
     "metadata": {},
     "output_type": "execute_result"
    }
   ],
   "source": [
    "\"\"\"print(np.unique(y_pred_dt))\"\"\""
   ]
  },
  {
   "cell_type": "code",
   "execution_count": 50,
   "id": "9c1c742a",
   "metadata": {
    "execution": {
     "iopub.execute_input": "2024-04-10T11:44:28.604986Z",
     "iopub.status.busy": "2024-04-10T11:44:28.604359Z",
     "iopub.status.idle": "2024-04-10T11:44:28.609220Z",
     "shell.execute_reply": "2024-04-10T11:44:28.608533Z"
    },
    "papermill": {
     "duration": 0.045219,
     "end_time": "2024-04-10T11:44:28.611081",
     "exception": false,
     "start_time": "2024-04-10T11:44:28.565862",
     "status": "completed"
    },
    "tags": []
   },
   "outputs": [
    {
     "data": {
      "text/plain": [
       "'counts = {value: np.sum(y_pred_dt == value) for value in np.unique(y_pred_dt)}\\nprint(counts)'"
      ]
     },
     "execution_count": 50,
     "metadata": {},
     "output_type": "execute_result"
    }
   ],
   "source": [
    "\"\"\"counts = {value: np.sum(y_pred_dt == value) for value in np.unique(y_pred_dt)}\n",
    "print(counts)\"\"\""
   ]
  },
  {
   "cell_type": "code",
   "execution_count": 51,
   "id": "f318fdbd",
   "metadata": {
    "execution": {
     "iopub.execute_input": "2024-04-10T11:44:28.686891Z",
     "iopub.status.busy": "2024-04-10T11:44:28.686212Z",
     "iopub.status.idle": "2024-04-10T11:44:28.691919Z",
     "shell.execute_reply": "2024-04-10T11:44:28.690975Z"
    },
    "papermill": {
     "duration": 0.046436,
     "end_time": "2024-04-10T11:44:28.693999",
     "exception": false,
     "start_time": "2024-04-10T11:44:28.647563",
     "status": "completed"
    },
    "tags": []
   },
   "outputs": [
    {
     "data": {
      "text/plain": [
       "'submission = pd.DataFrame({\\n    \"ID\": range(1,4547),\\n    \"Rating\":y_pred_dt\\n})\\nsubmission.to_csv(\\'submission.csv\\',index=False)'"
      ]
     },
     "execution_count": 51,
     "metadata": {},
     "output_type": "execute_result"
    }
   ],
   "source": [
    "\"\"\"submission = pd.DataFrame({\n",
    "    \"ID\": range(1,4547),\n",
    "    \"Rating\":y_pred_dt\n",
    "})\n",
    "submission.to_csv('submission.csv',index=False)\"\"\""
   ]
  },
  {
   "cell_type": "markdown",
   "id": "ba8cb5d1",
   "metadata": {
    "papermill": {
     "duration": 0.038215,
     "end_time": "2024-04-10T11:44:28.768759",
     "exception": false,
     "start_time": "2024-04-10T11:44:28.730544",
     "status": "completed"
    },
    "tags": []
   },
   "source": [
    "### Bagging Algorithm - Random Forest"
   ]
  },
  {
   "cell_type": "code",
   "execution_count": 52,
   "id": "7e7e3fe8",
   "metadata": {
    "execution": {
     "iopub.execute_input": "2024-04-10T11:44:28.845805Z",
     "iopub.status.busy": "2024-04-10T11:44:28.845396Z",
     "iopub.status.idle": "2024-04-10T11:44:28.851430Z",
     "shell.execute_reply": "2024-04-10T11:44:28.850703Z"
    },
    "papermill": {
     "duration": 0.046777,
     "end_time": "2024-04-10T11:44:28.853472",
     "exception": false,
     "start_time": "2024-04-10T11:44:28.806695",
     "status": "completed"
    },
    "tags": []
   },
   "outputs": [
    {
     "data": {
      "text/plain": [
       "'from sklearn.ensemble import RandomForestClassifier\\nfrom sklearn.metrics import f1_score\\n\\n# Initialize the Random Forest Classifier\\nrf_classifier = RandomForestClassifier()\\n\\n# Train the model on the training data\\nrf_classifier.fit(X_train, y_train)\\n\\n# Make predictions on the validation set\\ny_pred = rf_classifier.predict(X_val)\\n\\n# Calculate the F1 score\\nf1 = f1_score(y_val, y_pred, average=\\'weighted\\')\\n\\n# Print the F1 score\\nprint(\"F1 Score:\", f1)'"
      ]
     },
     "execution_count": 52,
     "metadata": {},
     "output_type": "execute_result"
    }
   ],
   "source": [
    "\"\"\"from sklearn.ensemble import RandomForestClassifier\n",
    "from sklearn.metrics import f1_score\n",
    "\n",
    "# Initialize the Random Forest Classifier\n",
    "rf_classifier = RandomForestClassifier()\n",
    "\n",
    "# Train the model on the training data\n",
    "rf_classifier.fit(X_train, y_train)\n",
    "\n",
    "# Make predictions on the validation set\n",
    "y_pred = rf_classifier.predict(X_val)\n",
    "\n",
    "# Calculate the F1 score\n",
    "f1 = f1_score(y_val, y_pred, average='weighted')\n",
    "\n",
    "# Print the F1 score\n",
    "print(\"F1 Score:\", f1)\"\"\""
   ]
  },
  {
   "cell_type": "code",
   "execution_count": 53,
   "id": "0e6652a0",
   "metadata": {
    "execution": {
     "iopub.execute_input": "2024-04-10T11:44:28.928937Z",
     "iopub.status.busy": "2024-04-10T11:44:28.927930Z",
     "iopub.status.idle": "2024-04-10T11:44:28.935140Z",
     "shell.execute_reply": "2024-04-10T11:44:28.934359Z"
    },
    "papermill": {
     "duration": 0.047169,
     "end_time": "2024-04-10T11:44:28.937040",
     "exception": false,
     "start_time": "2024-04-10T11:44:28.889871",
     "status": "completed"
    },
    "tags": []
   },
   "outputs": [
    {
     "data": {
      "text/plain": [
       "'from sklearn.ensemble import RandomForestClassifier\\nfrom sklearn.model_selection import GridSearchCV\\n\\n# Define the parameter grid\\nparam_grid = {\\n    \\'n_estimators\\': [300, 350, 400, 450, 500],\\n    \\'max_depth\\': [2, 5, None],\\n    \\'min_samples_split\\': [5, 10, 15],\\n    \\'min_samples_leaf\\': [1, 2, 4],\\n    \\'max_features\\': [\\'sqrt\\', \\'log2\\', None]\\n}\\n\\n# Initialize the Random Forest Classifier\\nrf_classifier = RandomForestClassifier()\\n\\n# Initialize GridSearchCV with 5-fold cross-validation\\ngrid_search = GridSearchCV(estimator=rf_classifier,\\n                           param_grid=param_grid,\\n                           cv=5,\\n                           n_jobs=-1,  # Use all available CPU cores\\n                           scoring=\\'f1_weighted\\')\\n\\n# Fit the grid search to the training data\\ngrid_search.fit(X_train, y_train)\\n\\n# Print the best hyperparameters found\\nprint(\"Best Hyperparameters:\", grid_search.best_params_)\\n\\n# Get the best model\\nbest_rf_model = grid_search.best_estimator_\\n\\n# Evaluate the best model on the validation set\\ny_pred = best_rf_model.predict(X_val)\\n\\n# Calculate the F1 score\\nf1 = f1_score(y_val, y_pred, average=\\'weighted\\')\\n\\n# Print the F1 score\\nprint(\"F1 Score:\", f1)'"
      ]
     },
     "execution_count": 53,
     "metadata": {},
     "output_type": "execute_result"
    }
   ],
   "source": [
    "\"\"\"from sklearn.ensemble import RandomForestClassifier\n",
    "from sklearn.model_selection import GridSearchCV\n",
    "\n",
    "# Define the parameter grid\n",
    "param_grid = {\n",
    "    'n_estimators': [300, 350, 400, 450, 500],\n",
    "    'max_depth': [2, 5, None],\n",
    "    'min_samples_split': [5, 10, 15],\n",
    "    'min_samples_leaf': [1, 2, 4],\n",
    "    'max_features': ['sqrt', 'log2', None]\n",
    "}\n",
    "\n",
    "# Initialize the Random Forest Classifier\n",
    "rf_classifier = RandomForestClassifier()\n",
    "\n",
    "# Initialize GridSearchCV with 5-fold cross-validation\n",
    "grid_search = GridSearchCV(estimator=rf_classifier,\n",
    "                           param_grid=param_grid,\n",
    "                           cv=5,\n",
    "                           n_jobs=-1,  # Use all available CPU cores\n",
    "                           scoring='f1_weighted')\n",
    "\n",
    "# Fit the grid search to the training data\n",
    "grid_search.fit(X_train, y_train)\n",
    "\n",
    "# Print the best hyperparameters found\n",
    "print(\"Best Hyperparameters:\", grid_search.best_params_)\n",
    "\n",
    "# Get the best model\n",
    "best_rf_model = grid_search.best_estimator_\n",
    "\n",
    "# Evaluate the best model on the validation set\n",
    "y_pred = best_rf_model.predict(X_val)\n",
    "\n",
    "# Calculate the F1 score\n",
    "f1 = f1_score(y_val, y_pred, average='weighted')\n",
    "\n",
    "# Print the F1 score\n",
    "print(\"F1 Score:\", f1)\"\"\""
   ]
  },
  {
   "cell_type": "code",
   "execution_count": 54,
   "id": "b4dedbb2",
   "metadata": {
    "execution": {
     "iopub.execute_input": "2024-04-10T11:44:29.013546Z",
     "iopub.status.busy": "2024-04-10T11:44:29.012472Z",
     "iopub.status.idle": "2024-04-10T11:44:29.018894Z",
     "shell.execute_reply": "2024-04-10T11:44:29.017899Z"
    },
    "papermill": {
     "duration": 0.046292,
     "end_time": "2024-04-10T11:44:29.020897",
     "exception": false,
     "start_time": "2024-04-10T11:44:28.974605",
     "status": "completed"
    },
    "tags": []
   },
   "outputs": [
    {
     "data": {
      "text/plain": [
       "\"from sklearn.ensemble import RandomForestClassifier\\nfrom sklearn.metrics import f1_score\\nfrom sklearn.model_selection import train_test_split\\n\\n# Define the best hyperparameters\\nbest_hyperparameters = {\\n    'max_depth': None,\\n    'max_features': None,\\n    'min_samples_leaf': 4,\\n    'min_samples_split': 10,\\n    'n_estimators': 350\\n}\\n\\n# Initialize the RandomForestClassifier with the best hyperparameters\\nrf_classifier = RandomForestClassifier(**best_hyperparameters)\\n\\n# Train the RandomForestClassifier\\nrf_classifier.fit(X_train, y_train)\\n\\n\\ny_pred_rf = rf_classifier.predict(X_test_encoded_scaled)\\n\""
      ]
     },
     "execution_count": 54,
     "metadata": {},
     "output_type": "execute_result"
    }
   ],
   "source": [
    "\"\"\"from sklearn.ensemble import RandomForestClassifier\n",
    "from sklearn.metrics import f1_score\n",
    "from sklearn.model_selection import train_test_split\n",
    "\n",
    "# Define the best hyperparameters\n",
    "best_hyperparameters = {\n",
    "    'max_depth': None,\n",
    "    'max_features': None,\n",
    "    'min_samples_leaf': 4,\n",
    "    'min_samples_split': 10,\n",
    "    'n_estimators': 350\n",
    "}\n",
    "\n",
    "# Initialize the RandomForestClassifier with the best hyperparameters\n",
    "rf_classifier = RandomForestClassifier(**best_hyperparameters)\n",
    "\n",
    "# Train the RandomForestClassifier\n",
    "rf_classifier.fit(X_train, y_train)\n",
    "\n",
    "\n",
    "y_pred_rf = rf_classifier.predict(X_test_encoded_scaled)\n",
    "\"\"\""
   ]
  },
  {
   "cell_type": "code",
   "execution_count": 55,
   "id": "ec53efdd",
   "metadata": {
    "execution": {
     "iopub.execute_input": "2024-04-10T11:44:29.097343Z",
     "iopub.status.busy": "2024-04-10T11:44:29.096177Z",
     "iopub.status.idle": "2024-04-10T11:44:29.102822Z",
     "shell.execute_reply": "2024-04-10T11:44:29.102007Z"
    },
    "papermill": {
     "duration": 0.046836,
     "end_time": "2024-04-10T11:44:29.104886",
     "exception": false,
     "start_time": "2024-04-10T11:44:29.058050",
     "status": "completed"
    },
    "tags": []
   },
   "outputs": [
    {
     "data": {
      "text/plain": [
       "'print(np.unique(y_pred_rf))'"
      ]
     },
     "execution_count": 55,
     "metadata": {},
     "output_type": "execute_result"
    }
   ],
   "source": [
    "\"\"\"print(np.unique(y_pred_rf))\"\"\""
   ]
  },
  {
   "cell_type": "code",
   "execution_count": 56,
   "id": "c9d0b8c1",
   "metadata": {
    "execution": {
     "iopub.execute_input": "2024-04-10T11:44:29.181678Z",
     "iopub.status.busy": "2024-04-10T11:44:29.180908Z",
     "iopub.status.idle": "2024-04-10T11:44:29.187199Z",
     "shell.execute_reply": "2024-04-10T11:44:29.186308Z"
    },
    "papermill": {
     "duration": 0.04681,
     "end_time": "2024-04-10T11:44:29.189209",
     "exception": false,
     "start_time": "2024-04-10T11:44:29.142399",
     "status": "completed"
    },
    "tags": []
   },
   "outputs": [
    {
     "data": {
      "text/plain": [
       "'counts = {value: np.sum(y_pred_rf == value) for value in np.unique(y_pred_rf)}\\nprint(counts)'"
      ]
     },
     "execution_count": 56,
     "metadata": {},
     "output_type": "execute_result"
    }
   ],
   "source": [
    "\"\"\"counts = {value: np.sum(y_pred_rf == value) for value in np.unique(y_pred_rf)}\n",
    "print(counts)\"\"\""
   ]
  },
  {
   "cell_type": "code",
   "execution_count": 57,
   "id": "211e0746",
   "metadata": {
    "execution": {
     "iopub.execute_input": "2024-04-10T11:44:29.266154Z",
     "iopub.status.busy": "2024-04-10T11:44:29.265407Z",
     "iopub.status.idle": "2024-04-10T11:44:29.271705Z",
     "shell.execute_reply": "2024-04-10T11:44:29.270861Z"
    },
    "papermill": {
     "duration": 0.046994,
     "end_time": "2024-04-10T11:44:29.273764",
     "exception": false,
     "start_time": "2024-04-10T11:44:29.226770",
     "status": "completed"
    },
    "tags": []
   },
   "outputs": [
    {
     "data": {
      "text/plain": [
       "'submission = pd.DataFrame({\\n    \"ID\": range(1,4547),\\n    \"Rating\":y_pred_rf\\n})\\nsubmission.to_csv(\\'submission.csv\\',index=False)'"
      ]
     },
     "execution_count": 57,
     "metadata": {},
     "output_type": "execute_result"
    }
   ],
   "source": [
    "\"\"\"submission = pd.DataFrame({\n",
    "    \"ID\": range(1,4547),\n",
    "    \"Rating\":y_pred_rf\n",
    "})\n",
    "submission.to_csv('submission.csv',index=False)\"\"\""
   ]
  },
  {
   "cell_type": "markdown",
   "id": "fa6cb0e6",
   "metadata": {
    "papermill": {
     "duration": 0.037893,
     "end_time": "2024-04-10T11:44:29.348982",
     "exception": false,
     "start_time": "2024-04-10T11:44:29.311089",
     "status": "completed"
    },
    "tags": []
   },
   "source": [
    "### Boosting Algorithm - AdaBoost"
   ]
  },
  {
   "cell_type": "code",
   "execution_count": 58,
   "id": "1831ed3c",
   "metadata": {
    "execution": {
     "iopub.execute_input": "2024-04-10T11:44:29.426428Z",
     "iopub.status.busy": "2024-04-10T11:44:29.426074Z",
     "iopub.status.idle": "2024-04-10T11:44:29.432341Z",
     "shell.execute_reply": "2024-04-10T11:44:29.431278Z"
    },
    "papermill": {
     "duration": 0.047395,
     "end_time": "2024-04-10T11:44:29.434428",
     "exception": false,
     "start_time": "2024-04-10T11:44:29.387033",
     "status": "completed"
    },
    "tags": []
   },
   "outputs": [
    {
     "data": {
      "text/plain": [
       "'from sklearn.ensemble import AdaBoostClassifier\\nfrom sklearn.metrics import f1_score\\n\\n# Initialize the AdaBoost Classifier\\nada_classifier = AdaBoostClassifier()\\n\\n# Train the model on the training data\\nada_classifier.fit(X_train, y_train)\\n\\n# Make predictions on the validation set\\ny_pred = ada_classifier.predict(X_val)\\n\\n# Calculate the F1 score\\nf1 = f1_score(y_val, y_pred, average=\\'weighted\\')\\n\\n# Print the F1 score\\nprint(\"F1 Score:\", f1)'"
      ]
     },
     "execution_count": 58,
     "metadata": {},
     "output_type": "execute_result"
    }
   ],
   "source": [
    "\"\"\"from sklearn.ensemble import AdaBoostClassifier\n",
    "from sklearn.metrics import f1_score\n",
    "\n",
    "# Initialize the AdaBoost Classifier\n",
    "ada_classifier = AdaBoostClassifier()\n",
    "\n",
    "# Train the model on the training data\n",
    "ada_classifier.fit(X_train, y_train)\n",
    "\n",
    "# Make predictions on the validation set\n",
    "y_pred = ada_classifier.predict(X_val)\n",
    "\n",
    "# Calculate the F1 score\n",
    "f1 = f1_score(y_val, y_pred, average='weighted')\n",
    "\n",
    "# Print the F1 score\n",
    "print(\"F1 Score:\", f1)\"\"\""
   ]
  },
  {
   "cell_type": "code",
   "execution_count": 59,
   "id": "b5b78e00",
   "metadata": {
    "execution": {
     "iopub.execute_input": "2024-04-10T11:44:29.510900Z",
     "iopub.status.busy": "2024-04-10T11:44:29.510550Z",
     "iopub.status.idle": "2024-04-10T11:44:29.517040Z",
     "shell.execute_reply": "2024-04-10T11:44:29.516034Z"
    },
    "papermill": {
     "duration": 0.047454,
     "end_time": "2024-04-10T11:44:29.519351",
     "exception": false,
     "start_time": "2024-04-10T11:44:29.471897",
     "status": "completed"
    },
    "tags": []
   },
   "outputs": [
    {
     "data": {
      "text/plain": [
       "'from sklearn.ensemble import AdaBoostClassifier\\nfrom sklearn.model_selection import GridSearchCV\\n\\n# Define the parameter grid\\nparam_grid = {\\n    \\'n_estimators\\': [50, 100, 150, 200],\\n    \\'learning_rate\\': [0.01, 0.1, 0.5, 1.0],\\n    \\'algorithm\\': [\\'SAMME\\', \\'SAMME.R\\'],\\n}\\n\\n# Initialize the AdaBoost Classifier\\nada_classifier = AdaBoostClassifier()\\n\\n# Initialize GridSearchCV with 5-fold cross-validation\\ngrid_search = GridSearchCV(estimator=ada_classifier,\\n                           param_grid=param_grid,\\n                           cv=5,\\n                           n_jobs=-1,  # Use all available CPU cores\\n                           scoring=\\'f1_weighted\\')\\n\\n# Fit the grid search to the training data\\ngrid_search.fit(X_train, y_train)\\n\\n# Print the best hyperparameters found\\nprint(\"Best Hyperparameters:\", grid_search.best_params_)\\n\\n# Get the best model\\nbest_ada_model = grid_search.best_estimator_\\n\\n# Evaluate the best model on the validation set\\ny_pred = best_ada_model.predict(X_val)\\n\\n# Calculate the F1 score\\nf1 = f1_score(y_val, y_pred, average=\\'weighted\\')\\n\\n# Print the F1 score\\nprint(\"F1 Score:\", f1)'"
      ]
     },
     "execution_count": 59,
     "metadata": {},
     "output_type": "execute_result"
    }
   ],
   "source": [
    "\"\"\"from sklearn.ensemble import AdaBoostClassifier\n",
    "from sklearn.model_selection import GridSearchCV\n",
    "\n",
    "# Define the parameter grid\n",
    "param_grid = {\n",
    "    'n_estimators': [50, 100, 150, 200],\n",
    "    'learning_rate': [0.01, 0.1, 0.5, 1.0],\n",
    "    'algorithm': ['SAMME', 'SAMME.R'],\n",
    "}\n",
    "\n",
    "# Initialize the AdaBoost Classifier\n",
    "ada_classifier = AdaBoostClassifier()\n",
    "\n",
    "# Initialize GridSearchCV with 5-fold cross-validation\n",
    "grid_search = GridSearchCV(estimator=ada_classifier,\n",
    "                           param_grid=param_grid,\n",
    "                           cv=5,\n",
    "                           n_jobs=-1,  # Use all available CPU cores\n",
    "                           scoring='f1_weighted')\n",
    "\n",
    "# Fit the grid search to the training data\n",
    "grid_search.fit(X_train, y_train)\n",
    "\n",
    "# Print the best hyperparameters found\n",
    "print(\"Best Hyperparameters:\", grid_search.best_params_)\n",
    "\n",
    "# Get the best model\n",
    "best_ada_model = grid_search.best_estimator_\n",
    "\n",
    "# Evaluate the best model on the validation set\n",
    "y_pred = best_ada_model.predict(X_val)\n",
    "\n",
    "# Calculate the F1 score\n",
    "f1 = f1_score(y_val, y_pred, average='weighted')\n",
    "\n",
    "# Print the F1 score\n",
    "print(\"F1 Score:\", f1)\"\"\""
   ]
  },
  {
   "cell_type": "markdown",
   "id": "1530dcfe",
   "metadata": {
    "papermill": {
     "duration": 0.037824,
     "end_time": "2024-04-10T11:44:29.595328",
     "exception": false,
     "start_time": "2024-04-10T11:44:29.557504",
     "status": "completed"
    },
    "tags": []
   },
   "source": [
    "### Multi-Layer Perceptron"
   ]
  },
  {
   "cell_type": "code",
   "execution_count": 60,
   "id": "036aee2c",
   "metadata": {
    "execution": {
     "iopub.execute_input": "2024-04-10T11:44:29.674850Z",
     "iopub.status.busy": "2024-04-10T11:44:29.674511Z",
     "iopub.status.idle": "2024-04-10T11:44:29.680793Z",
     "shell.execute_reply": "2024-04-10T11:44:29.679805Z"
    },
    "papermill": {
     "duration": 0.048557,
     "end_time": "2024-04-10T11:44:29.682714",
     "exception": false,
     "start_time": "2024-04-10T11:44:29.634157",
     "status": "completed"
    },
    "tags": []
   },
   "outputs": [
    {
     "data": {
      "text/plain": [
       "'from sklearn.neural_network import MLPClassifier\\nfrom sklearn.metrics import f1_score\\n\\n# Initialize the MLP Classifier\\nmlp_classifier = MLPClassifier()\\n\\n# Train the model on the training data\\nmlp_classifier.fit(X_train, y_train)\\n\\n# Make predictions on the validation set\\ny_pred = mlp_classifier.predict(X_val)\\n\\n# Calculate the F1 score\\nf1 = f1_score(y_val, y_pred, average=\\'weighted\\')\\n\\n# Print the F1 score\\nprint(\"F1 Score:\", f1)'"
      ]
     },
     "execution_count": 60,
     "metadata": {},
     "output_type": "execute_result"
    }
   ],
   "source": [
    "\"\"\"from sklearn.neural_network import MLPClassifier\n",
    "from sklearn.metrics import f1_score\n",
    "\n",
    "# Initialize the MLP Classifier\n",
    "mlp_classifier = MLPClassifier()\n",
    "\n",
    "# Train the model on the training data\n",
    "mlp_classifier.fit(X_train, y_train)\n",
    "\n",
    "# Make predictions on the validation set\n",
    "y_pred = mlp_classifier.predict(X_val)\n",
    "\n",
    "# Calculate the F1 score\n",
    "f1 = f1_score(y_val, y_pred, average='weighted')\n",
    "\n",
    "# Print the F1 score\n",
    "print(\"F1 Score:\", f1)\"\"\""
   ]
  },
  {
   "cell_type": "code",
   "execution_count": 61,
   "id": "ba016c43",
   "metadata": {
    "execution": {
     "iopub.execute_input": "2024-04-10T11:44:29.760206Z",
     "iopub.status.busy": "2024-04-10T11:44:29.759848Z",
     "iopub.status.idle": "2024-04-10T11:44:29.765992Z",
     "shell.execute_reply": "2024-04-10T11:44:29.765252Z"
    },
    "papermill": {
     "duration": 0.047096,
     "end_time": "2024-04-10T11:44:29.767961",
     "exception": false,
     "start_time": "2024-04-10T11:44:29.720865",
     "status": "completed"
    },
    "tags": []
   },
   "outputs": [
    {
     "data": {
      "text/plain": [
       "'from sklearn.neural_network import MLPClassifier\\nfrom sklearn.model_selection import GridSearchCV\\n\\n# Define the parameter grid\\nparam_grid = {\\n    \\'hidden_layer_sizes\\': [(100,), (200,), (100, 50), (200, 100)],\\n    \\'activation\\': [\\'relu\\', \\'tanh\\', \\'logistic\\'],\\n    \\'solver\\': [\\'adam\\', \\'sgd\\'],\\n    \\'alpha\\': [0.0001, 0.001, 0.01],\\n    \\'learning_rate\\': [\\'constant\\', \\'adaptive\\']\\n}\\n\\n# Initialize the MLP Classifier\\nmlp_classifier = MLPClassifier()\\n\\n# Initialize GridSearchCV with 5-fold cross-validation\\ngrid_search = GridSearchCV(estimator=mlp_classifier,\\n                           param_grid=param_grid,\\n                           cv=5,\\n                           n_jobs=-1,  # Use all available CPU cores\\n                           scoring=\\'f1_weighted\\')\\n\\n# Fit the grid search to the training data\\ngrid_search.fit(X_train, y_train)\\n\\n# Print the best hyperparameters found\\nprint(\"Best Hyperparameters:\", grid_search.best_params_)\\n\\n# Get the best model\\nbest_mlp_model = grid_search.best_estimator_\\n\\n# Evaluate the best model on the validation set\\ny_pred = best_mlp_model.predict(X_val)\\n\\n# Calculate the F1 score\\nf1 = f1_score(y_val, y_pred, average=\\'weighted\\')\\n\\n# Print the F1 score\\nprint(\"F1 Score:\", f1)'"
      ]
     },
     "execution_count": 61,
     "metadata": {},
     "output_type": "execute_result"
    }
   ],
   "source": [
    "\"\"\"from sklearn.neural_network import MLPClassifier\n",
    "from sklearn.model_selection import GridSearchCV\n",
    "\n",
    "# Define the parameter grid\n",
    "param_grid = {\n",
    "    'hidden_layer_sizes': [(100,), (200,), (100, 50), (200, 100)],\n",
    "    'activation': ['relu', 'tanh', 'logistic'],\n",
    "    'solver': ['adam', 'sgd'],\n",
    "    'alpha': [0.0001, 0.001, 0.01],\n",
    "    'learning_rate': ['constant', 'adaptive']\n",
    "}\n",
    "\n",
    "# Initialize the MLP Classifier\n",
    "mlp_classifier = MLPClassifier()\n",
    "\n",
    "# Initialize GridSearchCV with 5-fold cross-validation\n",
    "grid_search = GridSearchCV(estimator=mlp_classifier,\n",
    "                           param_grid=param_grid,\n",
    "                           cv=5,\n",
    "                           n_jobs=-1,  # Use all available CPU cores\n",
    "                           scoring='f1_weighted')\n",
    "\n",
    "# Fit the grid search to the training data\n",
    "grid_search.fit(X_train, y_train)\n",
    "\n",
    "# Print the best hyperparameters found\n",
    "print(\"Best Hyperparameters:\", grid_search.best_params_)\n",
    "\n",
    "# Get the best model\n",
    "best_mlp_model = grid_search.best_estimator_\n",
    "\n",
    "# Evaluate the best model on the validation set\n",
    "y_pred = best_mlp_model.predict(X_val)\n",
    "\n",
    "# Calculate the F1 score\n",
    "f1 = f1_score(y_val, y_pred, average='weighted')\n",
    "\n",
    "# Print the F1 score\n",
    "print(\"F1 Score:\", f1)\"\"\""
   ]
  },
  {
   "cell_type": "code",
   "execution_count": 62,
   "id": "a66cd4b8",
   "metadata": {
    "execution": {
     "iopub.execute_input": "2024-04-10T11:44:29.848780Z",
     "iopub.status.busy": "2024-04-10T11:44:29.848422Z",
     "iopub.status.idle": "2024-04-10T11:44:29.854394Z",
     "shell.execute_reply": "2024-04-10T11:44:29.853363Z"
    },
    "papermill": {
     "duration": 0.049664,
     "end_time": "2024-04-10T11:44:29.856655",
     "exception": false,
     "start_time": "2024-04-10T11:44:29.806991",
     "status": "completed"
    },
    "tags": []
   },
   "outputs": [
    {
     "data": {
      "text/plain": [
       "'Import necessary libraries\\nimport pandas as pd\\nimport numpy as np\\nfrom sklearn.linear_model import LogisticRegression\\nfrom sklearn.preprocessing import StandardScaler, OneHotEncoder\\nfrom sklearn.feature_extraction.text import TfidfVectorizer\\nfrom sklearn.model_selection import train_test_split, GridSearchCV\\nfrom sklearn.pipeline import Pipeline\\nfrom sklearn.metrics import f1_score, make_scorer'"
      ]
     },
     "execution_count": 62,
     "metadata": {},
     "output_type": "execute_result"
    }
   ],
   "source": [
    "\"\"\"Import necessary libraries\n",
    "import pandas as pd\n",
    "import numpy as np\n",
    "from sklearn.linear_model import LogisticRegression\n",
    "from sklearn.preprocessing import StandardScaler, OneHotEncoder\n",
    "from sklearn.feature_extraction.text import TfidfVectorizer\n",
    "from sklearn.model_selection import train_test_split, GridSearchCV\n",
    "from sklearn.pipeline import Pipeline\n",
    "from sklearn.metrics import f1_score, make_scorer\"\"\""
   ]
  },
  {
   "cell_type": "code",
   "execution_count": 63,
   "id": "5f72f179",
   "metadata": {
    "execution": {
     "iopub.execute_input": "2024-04-10T11:44:29.934324Z",
     "iopub.status.busy": "2024-04-10T11:44:29.933961Z",
     "iopub.status.idle": "2024-04-10T11:44:29.939829Z",
     "shell.execute_reply": "2024-04-10T11:44:29.938865Z"
    },
    "papermill": {
     "duration": 0.047338,
     "end_time": "2024-04-10T11:44:29.942043",
     "exception": false,
     "start_time": "2024-04-10T11:44:29.894705",
     "status": "completed"
    },
    "tags": []
   },
   "outputs": [
    {
     "data": {
      "text/plain": [
       "\"# Load the data\\ntrain_data = pd.read_csv('/kaggle/input/recipe-for-rating-predict-food-ratings-using-ml/train.csv')\\ntest_data = pd.read_csv('/kaggle/input/recipe-for-rating-predict-food-ratings-using-ml/test.csv')\""
      ]
     },
     "execution_count": 63,
     "metadata": {},
     "output_type": "execute_result"
    }
   ],
   "source": [
    "\"\"\"# Load the data\n",
    "train_data = pd.read_csv('/kaggle/input/recipe-for-rating-predict-food-ratings-using-ml/train.csv')\n",
    "test_data = pd.read_csv('/kaggle/input/recipe-for-rating-predict-food-ratings-using-ml/test.csv')\"\"\""
   ]
  },
  {
   "cell_type": "code",
   "execution_count": 64,
   "id": "b6423143",
   "metadata": {
    "execution": {
     "iopub.execute_input": "2024-04-10T11:44:30.022561Z",
     "iopub.status.busy": "2024-04-10T11:44:30.021393Z",
     "iopub.status.idle": "2024-04-10T11:44:30.027263Z",
     "shell.execute_reply": "2024-04-10T11:44:30.026357Z"
    },
    "papermill": {
     "duration": 0.047884,
     "end_time": "2024-04-10T11:44:30.029376",
     "exception": false,
     "start_time": "2024-04-10T11:44:29.981492",
     "status": "completed"
    },
    "tags": []
   },
   "outputs": [
    {
     "data": {
      "text/plain": [
       "\"# Drop unnecessary columns\\ncolumns_to_drop = ['ID', 'RecipeNumber', 'CommentID', 'UserID', 'CreationTimestamp', 'RecipeCode', 'UserName', 'RecipeName']\\ntrain_data = train_data.drop(columns=columns_to_drop)\\ntest_data = test_data.drop(columns=columns_to_drop)\""
      ]
     },
     "execution_count": 64,
     "metadata": {},
     "output_type": "execute_result"
    }
   ],
   "source": [
    "\"\"\"# Drop unnecessary columns\n",
    "columns_to_drop = ['ID', 'RecipeNumber', 'CommentID', 'UserID', 'CreationTimestamp', 'RecipeCode', 'UserName', 'RecipeName']\n",
    "train_data = train_data.drop(columns=columns_to_drop)\n",
    "test_data = test_data.drop(columns=columns_to_drop)\"\"\""
   ]
  },
  {
   "cell_type": "code",
   "execution_count": 65,
   "id": "e2e41fba",
   "metadata": {
    "execution": {
     "iopub.execute_input": "2024-04-10T11:44:30.110027Z",
     "iopub.status.busy": "2024-04-10T11:44:30.109435Z",
     "iopub.status.idle": "2024-04-10T11:44:30.114257Z",
     "shell.execute_reply": "2024-04-10T11:44:30.113548Z"
    },
    "papermill": {
     "duration": 0.047222,
     "end_time": "2024-04-10T11:44:30.116149",
     "exception": false,
     "start_time": "2024-04-10T11:44:30.068927",
     "status": "completed"
    },
    "tags": []
   },
   "outputs": [
    {
     "data": {
      "text/plain": [
       "\"# Separate features and target\\nX_train = train_data.drop('Rating', axis=1)\\ny_train = train_data['Rating']\""
      ]
     },
     "execution_count": 65,
     "metadata": {},
     "output_type": "execute_result"
    }
   ],
   "source": [
    "\"\"\"# Separate features and target\n",
    "X_train = train_data.drop('Rating', axis=1)\n",
    "y_train = train_data['Rating']\"\"\""
   ]
  },
  {
   "cell_type": "code",
   "execution_count": 66,
   "id": "d2853344",
   "metadata": {
    "execution": {
     "iopub.execute_input": "2024-04-10T11:44:30.250129Z",
     "iopub.status.busy": "2024-04-10T11:44:30.249721Z",
     "iopub.status.idle": "2024-04-10T11:44:30.255564Z",
     "shell.execute_reply": "2024-04-10T11:44:30.254571Z"
    },
    "papermill": {
     "duration": 0.048136,
     "end_time": "2024-04-10T11:44:30.257609",
     "exception": false,
     "start_time": "2024-04-10T11:44:30.209473",
     "status": "completed"
    },
    "tags": []
   },
   "outputs": [
    {
     "data": {
      "text/plain": [
       "'# Split the training data into training and validation sets\\nX_train, X_val, y_train, y_val = train_test_split(X_train, y_train, test_size=0.2, random_state=42)'"
      ]
     },
     "execution_count": 66,
     "metadata": {},
     "output_type": "execute_result"
    }
   ],
   "source": [
    "\"\"\"# Split the training data into training and validation sets\n",
    "X_train, X_val, y_train, y_val = train_test_split(X_train, y_train, test_size=0.2, random_state=42)\"\"\""
   ]
  },
  {
   "cell_type": "code",
   "execution_count": 67,
   "id": "f3c6995d",
   "metadata": {
    "execution": {
     "iopub.execute_input": "2024-04-10T11:44:30.339099Z",
     "iopub.status.busy": "2024-04-10T11:44:30.338399Z",
     "iopub.status.idle": "2024-04-10T11:44:30.343579Z",
     "shell.execute_reply": "2024-04-10T11:44:30.342885Z"
    },
    "papermill": {
     "duration": 0.047523,
     "end_time": "2024-04-10T11:44:30.345403",
     "exception": false,
     "start_time": "2024-04-10T11:44:30.297880",
     "status": "completed"
    },
    "tags": []
   },
   "outputs": [
    {
     "data": {
      "text/plain": [
       "\"# Define the preprocessing steps\\nnumeric_transformer = StandardScaler()\\ncategorical_transformer = OneHotEncoder(handle_unknown='ignore')\\ntext_transformer = TfidfVectorizer()\""
      ]
     },
     "execution_count": 67,
     "metadata": {},
     "output_type": "execute_result"
    }
   ],
   "source": [
    "\"\"\"# Define the preprocessing steps\n",
    "numeric_transformer = StandardScaler()\n",
    "categorical_transformer = OneHotEncoder(handle_unknown='ignore')\n",
    "text_transformer = TfidfVectorizer()\"\"\""
   ]
  },
  {
   "cell_type": "code",
   "execution_count": 68,
   "id": "2649137d",
   "metadata": {
    "execution": {
     "iopub.execute_input": "2024-04-10T11:44:30.426719Z",
     "iopub.status.busy": "2024-04-10T11:44:30.426057Z",
     "iopub.status.idle": "2024-04-10T11:44:30.431354Z",
     "shell.execute_reply": "2024-04-10T11:44:30.430429Z"
    },
    "papermill": {
     "duration": 0.047942,
     "end_time": "2024-04-10T11:44:30.433313",
     "exception": false,
     "start_time": "2024-04-10T11:44:30.385371",
     "status": "completed"
    },
    "tags": []
   },
   "outputs": [
    {
     "data": {
      "text/plain": [
       "\"# Define the preprocessing pipeline\\nnumeric_categorical_pipe = Pipeline([\\n    ('numeric_transformer', numeric_transformer),\\n    ('categorical_transformer', categorical_transformer)\\n])\""
      ]
     },
     "execution_count": 68,
     "metadata": {},
     "output_type": "execute_result"
    }
   ],
   "source": [
    "\"\"\"# Define the preprocessing pipeline\n",
    "numeric_categorical_pipe = Pipeline([\n",
    "    ('numeric_transformer', numeric_transformer),\n",
    "    ('categorical_transformer', categorical_transformer)\n",
    "])\"\"\""
   ]
  },
  {
   "cell_type": "code",
   "execution_count": 69,
   "id": "02b1ff83",
   "metadata": {
    "execution": {
     "iopub.execute_input": "2024-04-10T11:44:30.514876Z",
     "iopub.status.busy": "2024-04-10T11:44:30.514204Z",
     "iopub.status.idle": "2024-04-10T11:44:30.519742Z",
     "shell.execute_reply": "2024-04-10T11:44:30.518962Z"
    },
    "papermill": {
     "duration": 0.048812,
     "end_time": "2024-04-10T11:44:30.521693",
     "exception": false,
     "start_time": "2024-04-10T11:44:30.472881",
     "status": "completed"
    },
    "tags": []
   },
   "outputs": [
    {
     "data": {
      "text/plain": [
       "\"# Create the full pipeline\\nfull_pipe = Pipeline([\\n    ('numeric_categorical_pipe', numeric_categorical_pipe),\\n    ('text_transformer', text_transformer),\\n    ('logistic_regression', LogisticRegression(max_iter=2000))\\n])\""
      ]
     },
     "execution_count": 69,
     "metadata": {},
     "output_type": "execute_result"
    }
   ],
   "source": [
    "\"\"\"# Create the full pipeline\n",
    "full_pipe = Pipeline([\n",
    "    ('numeric_categorical_pipe', numeric_categorical_pipe),\n",
    "    ('text_transformer', text_transformer),\n",
    "    ('logistic_regression', LogisticRegression(max_iter=2000))\n",
    "])\"\"\""
   ]
  },
  {
   "cell_type": "code",
   "execution_count": 70,
   "id": "35ca18fb",
   "metadata": {
    "execution": {
     "iopub.execute_input": "2024-04-10T11:44:30.605172Z",
     "iopub.status.busy": "2024-04-10T11:44:30.604438Z",
     "iopub.status.idle": "2024-04-10T11:44:30.611112Z",
     "shell.execute_reply": "2024-04-10T11:44:30.610156Z"
    },
    "papermill": {
     "duration": 0.050896,
     "end_time": "2024-04-10T11:44:30.613190",
     "exception": false,
     "start_time": "2024-04-10T11:44:30.562294",
     "status": "completed"
    },
    "tags": []
   },
   "outputs": [
    {
     "data": {
      "text/plain": [
       "\"# Define the hyperparameter grid\\nparam_grid = {\\n    'logistic_regression__C': [0.01, 0.1, 1, 10, 100],\\n    'logistic_regression__penalty': ['l1', 'l2'],\\n    'logistic_regression__class_weight': [None, 'balanced']\\n}\""
      ]
     },
     "execution_count": 70,
     "metadata": {},
     "output_type": "execute_result"
    }
   ],
   "source": [
    "\"\"\"# Define the hyperparameter grid\n",
    "param_grid = {\n",
    "    'logistic_regression__C': [0.01, 0.1, 1, 10, 100],\n",
    "    'logistic_regression__penalty': ['l1', 'l2'],\n",
    "    'logistic_regression__class_weight': [None, 'balanced']\n",
    "}\"\"\""
   ]
  },
  {
   "cell_type": "code",
   "execution_count": 71,
   "id": "3346ab86",
   "metadata": {
    "execution": {
     "iopub.execute_input": "2024-04-10T11:44:30.696322Z",
     "iopub.status.busy": "2024-04-10T11:44:30.695517Z",
     "iopub.status.idle": "2024-04-10T11:44:30.700964Z",
     "shell.execute_reply": "2024-04-10T11:44:30.700250Z"
    },
    "papermill": {
     "duration": 0.049062,
     "end_time": "2024-04-10T11:44:30.702854",
     "exception": false,
     "start_time": "2024-04-10T11:44:30.653792",
     "status": "completed"
    },
    "tags": []
   },
   "outputs": [
    {
     "data": {
      "text/plain": [
       "'# Create a scorer for F1-weighted\\nf1_weighted_scorer = make_scorer(f1_score, average=\\'weighted\\')\\n\\n# Perform grid search to find the best hyperparameters\\ngrid_search = GridSearchCV(full_pipe, param_grid, cv=5, scoring=f1_weighted_scorer)\\ngrid_search.fit(X_train, y_train)\\n\\n# Print the best hyperparameters found\\nprint(\"Best Hyperparameters:\", grid_search.best_params_)\\n\\n# Get the best model\\nbest_model = grid_search.best_estimator_\\n\\n# Evaluate the best model on the validation set\\ny_pred = best_model.predict(X_val)\\nf1 = f1_score(y_val, y_pred, average=\\'weighted\\')\\nprint(\"F1 Score on Validation Set:\", f1)'"
      ]
     },
     "execution_count": 71,
     "metadata": {},
     "output_type": "execute_result"
    }
   ],
   "source": [
    "\"\"\"# Create a scorer for F1-weighted\n",
    "f1_weighted_scorer = make_scorer(f1_score, average='weighted')\n",
    "\n",
    "# Perform grid search to find the best hyperparameters\n",
    "grid_search = GridSearchCV(full_pipe, param_grid, cv=5, scoring=f1_weighted_scorer)\n",
    "grid_search.fit(X_train, y_train)\n",
    "\n",
    "# Print the best hyperparameters found\n",
    "print(\"Best Hyperparameters:\", grid_search.best_params_)\n",
    "\n",
    "# Get the best model\n",
    "best_model = grid_search.best_estimator_\n",
    "\n",
    "# Evaluate the best model on the validation set\n",
    "y_pred = best_model.predict(X_val)\n",
    "f1 = f1_score(y_val, y_pred, average='weighted')\n",
    "print(\"F1 Score on Validation Set:\", f1)\"\"\""
   ]
  },
  {
   "cell_type": "code",
   "execution_count": 72,
   "id": "b0f55ce6",
   "metadata": {
    "execution": {
     "iopub.execute_input": "2024-04-10T11:44:30.786825Z",
     "iopub.status.busy": "2024-04-10T11:44:30.786162Z",
     "iopub.status.idle": "2024-04-10T11:44:30.792404Z",
     "shell.execute_reply": "2024-04-10T11:44:30.791313Z"
    },
    "papermill": {
     "duration": 0.050455,
     "end_time": "2024-04-10T11:44:30.794462",
     "exception": false,
     "start_time": "2024-04-10T11:44:30.744007",
     "status": "completed"
    },
    "tags": []
   },
   "outputs": [
    {
     "data": {
      "text/plain": [
       "\"# Preprocess the test data\\nX_test = test_data\\nX_test = best_model.named_steps['numeric_categorical_pipe'].transform(X_test)\\nX_test = best_model.named_steps['text_transformer'].transform(X_test)\""
      ]
     },
     "execution_count": 72,
     "metadata": {},
     "output_type": "execute_result"
    }
   ],
   "source": [
    "\"\"\"# Preprocess the test data\n",
    "X_test = test_data\n",
    "X_test = best_model.named_steps['numeric_categorical_pipe'].transform(X_test)\n",
    "X_test = best_model.named_steps['text_transformer'].transform(X_test)\"\"\""
   ]
  },
  {
   "cell_type": "code",
   "execution_count": 73,
   "id": "5244d046",
   "metadata": {
    "execution": {
     "iopub.execute_input": "2024-04-10T11:44:30.876649Z",
     "iopub.status.busy": "2024-04-10T11:44:30.875664Z",
     "iopub.status.idle": "2024-04-10T11:44:30.881568Z",
     "shell.execute_reply": "2024-04-10T11:44:30.880851Z"
    },
    "papermill": {
     "duration": 0.048896,
     "end_time": "2024-04-10T11:44:30.883425",
     "exception": false,
     "start_time": "2024-04-10T11:44:30.834529",
     "status": "completed"
    },
    "tags": []
   },
   "outputs": [
    {
     "data": {
      "text/plain": [
       "\"# Make predictions on the test set\\ny_test_pred = best_model.named_steps['logistic_regression'].predict(X_test)\""
      ]
     },
     "execution_count": 73,
     "metadata": {},
     "output_type": "execute_result"
    }
   ],
   "source": [
    "\"\"\"# Make predictions on the test set\n",
    "y_test_pred = best_model.named_steps['logistic_regression'].predict(X_test)\"\"\""
   ]
  },
  {
   "cell_type": "code",
   "execution_count": 74,
   "id": "ce4aafe3",
   "metadata": {
    "execution": {
     "iopub.execute_input": "2024-04-10T11:44:30.967622Z",
     "iopub.status.busy": "2024-04-10T11:44:30.966586Z",
     "iopub.status.idle": "2024-04-10T11:44:30.973072Z",
     "shell.execute_reply": "2024-04-10T11:44:30.971991Z"
    },
    "papermill": {
     "duration": 0.051591,
     "end_time": "2024-04-10T11:44:30.975191",
     "exception": false,
     "start_time": "2024-04-10T11:44:30.923600",
     "status": "completed"
    },
    "tags": []
   },
   "outputs": [
    {
     "data": {
      "text/plain": [
       "'# Create a submission DataFrame\\nsubmission = pd.DataFrame({\\n    \"ID\": range(1, len(test_data) + 1),\\n    \"Rating\": y_test_pred\\n})'"
      ]
     },
     "execution_count": 74,
     "metadata": {},
     "output_type": "execute_result"
    }
   ],
   "source": [
    "\"\"\"# Create a submission DataFrame\n",
    "submission = pd.DataFrame({\n",
    "    \"ID\": range(1, len(test_data) + 1),\n",
    "    \"Rating\": y_test_pred\n",
    "})\"\"\""
   ]
  },
  {
   "cell_type": "code",
   "execution_count": 75,
   "id": "c50926bd",
   "metadata": {
    "execution": {
     "iopub.execute_input": "2024-04-10T11:44:31.058025Z",
     "iopub.status.busy": "2024-04-10T11:44:31.057304Z",
     "iopub.status.idle": "2024-04-10T11:44:31.063076Z",
     "shell.execute_reply": "2024-04-10T11:44:31.062279Z"
    },
    "papermill": {
     "duration": 0.049772,
     "end_time": "2024-04-10T11:44:31.065431",
     "exception": false,
     "start_time": "2024-04-10T11:44:31.015659",
     "status": "completed"
    },
    "tags": []
   },
   "outputs": [
    {
     "data": {
      "text/plain": [
       "\"# Save the submission to a CSV file\\nsubmission.to_csv('submission.csv', index=False)\""
      ]
     },
     "execution_count": 75,
     "metadata": {},
     "output_type": "execute_result"
    }
   ],
   "source": [
    "\"\"\"# Save the submission to a CSV file\n",
    "submission.to_csv('submission.csv', index=False)\"\"\""
   ]
  },
  {
   "cell_type": "markdown",
   "id": "3d57fb5c",
   "metadata": {
    "papermill": {
     "duration": 0.04134,
     "end_time": "2024-04-10T11:44:31.148035",
     "exception": false,
     "start_time": "2024-04-10T11:44:31.106695",
     "status": "completed"
    },
    "tags": []
   },
   "source": [
    "# **New Approach - Final**"
   ]
  },
  {
   "cell_type": "markdown",
   "id": "41aa81cb",
   "metadata": {
    "papermill": {
     "duration": 0.040939,
     "end_time": "2024-04-10T11:44:31.229631",
     "exception": false,
     "start_time": "2024-04-10T11:44:31.188692",
     "status": "completed"
    },
    "tags": []
   },
   "source": [
    "## **Data Preprocessing**"
   ]
  },
  {
   "cell_type": "code",
   "execution_count": 76,
   "id": "3c20dd7c",
   "metadata": {
    "execution": {
     "iopub.execute_input": "2024-04-10T11:44:31.312860Z",
     "iopub.status.busy": "2024-04-10T11:44:31.312473Z",
     "iopub.status.idle": "2024-04-10T11:44:31.317068Z",
     "shell.execute_reply": "2024-04-10T11:44:31.316033Z"
    },
    "papermill": {
     "duration": 0.048553,
     "end_time": "2024-04-10T11:44:31.319235",
     "exception": false,
     "start_time": "2024-04-10T11:44:31.270682",
     "status": "completed"
    },
    "tags": []
   },
   "outputs": [],
   "source": [
    "import pandas as pd\n",
    "import numpy as np"
   ]
  },
  {
   "cell_type": "code",
   "execution_count": 77,
   "id": "80da7741",
   "metadata": {
    "execution": {
     "iopub.execute_input": "2024-04-10T11:44:31.403485Z",
     "iopub.status.busy": "2024-04-10T11:44:31.403112Z",
     "iopub.status.idle": "2024-04-10T11:44:31.551244Z",
     "shell.execute_reply": "2024-04-10T11:44:31.550417Z"
    },
    "papermill": {
     "duration": 0.193145,
     "end_time": "2024-04-10T11:44:31.553715",
     "exception": false,
     "start_time": "2024-04-10T11:44:31.360570",
     "status": "completed"
    },
    "tags": []
   },
   "outputs": [],
   "source": [
    "test_data = pd.read_csv('/kaggle/input/recipe-for-rating-predict-food-ratings-using-ml/test.csv')\n",
    "train_data = pd.read_csv('/kaggle/input/recipe-for-rating-predict-food-ratings-using-ml/train.csv')"
   ]
  },
  {
   "cell_type": "code",
   "execution_count": 78,
   "id": "3f368d42",
   "metadata": {
    "execution": {
     "iopub.execute_input": "2024-04-10T11:44:31.640198Z",
     "iopub.status.busy": "2024-04-10T11:44:31.639118Z",
     "iopub.status.idle": "2024-04-10T11:44:31.652281Z",
     "shell.execute_reply": "2024-04-10T11:44:31.651205Z"
    },
    "papermill": {
     "duration": 0.05883,
     "end_time": "2024-04-10T11:44:31.654501",
     "exception": false,
     "start_time": "2024-04-10T11:44:31.595671",
     "status": "completed"
    },
    "tags": []
   },
   "outputs": [
    {
     "data": {
      "text/plain": [
       "ID                   13636\n",
       "RecipeNumber         13636\n",
       "RecipeCode           13636\n",
       "RecipeName           13636\n",
       "CommentID            13636\n",
       "UserID               13636\n",
       "UserName             13636\n",
       "UserReputation       13636\n",
       "CreationTimestamp    13636\n",
       "ReplyCount           13636\n",
       "ThumbsUpCount        13636\n",
       "ThumbsDownCount      13636\n",
       "Rating               13636\n",
       "BestScore            13636\n",
       "Recipe_Review        13634\n",
       "dtype: int64"
      ]
     },
     "execution_count": 78,
     "metadata": {},
     "output_type": "execute_result"
    }
   ],
   "source": [
    "train_data.count()"
   ]
  },
  {
   "cell_type": "markdown",
   "id": "367cbc37",
   "metadata": {
    "papermill": {
     "duration": 0.040466,
     "end_time": "2024-04-10T11:44:31.735451",
     "exception": false,
     "start_time": "2024-04-10T11:44:31.694985",
     "status": "completed"
    },
    "tags": []
   },
   "source": [
    "Here we can see that in the Recipe_Review column we have 2 entries which are null."
   ]
  },
  {
   "cell_type": "code",
   "execution_count": 79,
   "id": "b4df2c8f",
   "metadata": {
    "execution": {
     "iopub.execute_input": "2024-04-10T11:44:31.818533Z",
     "iopub.status.busy": "2024-04-10T11:44:31.818145Z",
     "iopub.status.idle": "2024-04-10T11:44:31.828014Z",
     "shell.execute_reply": "2024-04-10T11:44:31.827002Z"
    },
    "papermill": {
     "duration": 0.054046,
     "end_time": "2024-04-10T11:44:31.830119",
     "exception": false,
     "start_time": "2024-04-10T11:44:31.776073",
     "status": "completed"
    },
    "tags": []
   },
   "outputs": [
    {
     "data": {
      "text/plain": [
       "ID                   4546\n",
       "RecipeNumber         4546\n",
       "RecipeCode           4546\n",
       "RecipeName           4546\n",
       "CommentID            4546\n",
       "UserID               4546\n",
       "UserName             4546\n",
       "UserReputation       4546\n",
       "CreationTimestamp    4546\n",
       "ReplyCount           4546\n",
       "ThumbsUpCount        4546\n",
       "ThumbsDownCount      4546\n",
       "BestScore            4546\n",
       "Recipe_Review        4546\n",
       "dtype: int64"
      ]
     },
     "execution_count": 79,
     "metadata": {},
     "output_type": "execute_result"
    }
   ],
   "source": [
    "test_data.count()"
   ]
  },
  {
   "cell_type": "markdown",
   "id": "3746a470",
   "metadata": {
    "papermill": {
     "duration": 0.0412,
     "end_time": "2024-04-10T11:44:31.912196",
     "exception": false,
     "start_time": "2024-04-10T11:44:31.870996",
     "status": "completed"
    },
    "tags": []
   },
   "source": [
    "Here all the deatures of all entries are not null which means overall it is a good dataset."
   ]
  },
  {
   "cell_type": "code",
   "execution_count": 80,
   "id": "f11af786",
   "metadata": {
    "execution": {
     "iopub.execute_input": "2024-04-10T11:44:31.998304Z",
     "iopub.status.busy": "2024-04-10T11:44:31.997909Z",
     "iopub.status.idle": "2024-04-10T11:44:32.010594Z",
     "shell.execute_reply": "2024-04-10T11:44:32.009503Z"
    },
    "papermill": {
     "duration": 0.059772,
     "end_time": "2024-04-10T11:44:32.013145",
     "exception": false,
     "start_time": "2024-04-10T11:44:31.953373",
     "status": "completed"
    },
    "tags": []
   },
   "outputs": [],
   "source": [
    "# Remove entries where any value is NaN across all columns\n",
    "train_data = train_data.dropna(how='any')"
   ]
  },
  {
   "cell_type": "code",
   "execution_count": 81,
   "id": "530f52e3",
   "metadata": {
    "execution": {
     "iopub.execute_input": "2024-04-10T11:44:32.098235Z",
     "iopub.status.busy": "2024-04-10T11:44:32.097789Z",
     "iopub.status.idle": "2024-04-10T11:44:32.102867Z",
     "shell.execute_reply": "2024-04-10T11:44:32.101826Z"
    },
    "papermill": {
     "duration": 0.050222,
     "end_time": "2024-04-10T11:44:32.105106",
     "exception": false,
     "start_time": "2024-04-10T11:44:32.054884",
     "status": "completed"
    },
    "tags": []
   },
   "outputs": [
    {
     "name": "stdout",
     "output_type": "stream",
     "text": [
      "Shape of cleaned DataFrame: (13634, 15)\n"
     ]
    }
   ],
   "source": [
    "# Print the shape of the cleaned DataFrame to compare with the original\n",
    "print(\"Shape of cleaned DataFrame:\", train_data.shape)"
   ]
  },
  {
   "cell_type": "markdown",
   "id": "b1488d65",
   "metadata": {
    "papermill": {
     "duration": 0.04087,
     "end_time": "2024-04-10T11:44:32.187031",
     "exception": false,
     "start_time": "2024-04-10T11:44:32.146161",
     "status": "completed"
    },
    "tags": []
   },
   "source": [
    "Dropped 2 entries out of 13k+"
   ]
  },
  {
   "cell_type": "code",
   "execution_count": 82,
   "id": "0b51aafe",
   "metadata": {
    "execution": {
     "iopub.execute_input": "2024-04-10T11:44:32.270963Z",
     "iopub.status.busy": "2024-04-10T11:44:32.270540Z",
     "iopub.status.idle": "2024-04-10T11:44:32.278058Z",
     "shell.execute_reply": "2024-04-10T11:44:32.277158Z"
    },
    "papermill": {
     "duration": 0.052051,
     "end_time": "2024-04-10T11:44:32.280077",
     "exception": false,
     "start_time": "2024-04-10T11:44:32.228026",
     "status": "completed"
    },
    "tags": []
   },
   "outputs": [],
   "source": [
    "# Remove entries where any value is NaN across all columns\n",
    "test_data = test_data.dropna(how='any')"
   ]
  },
  {
   "cell_type": "code",
   "execution_count": 83,
   "id": "86075425",
   "metadata": {
    "execution": {
     "iopub.execute_input": "2024-04-10T11:44:32.363708Z",
     "iopub.status.busy": "2024-04-10T11:44:32.363292Z",
     "iopub.status.idle": "2024-04-10T11:44:32.368280Z",
     "shell.execute_reply": "2024-04-10T11:44:32.367189Z"
    },
    "papermill": {
     "duration": 0.049958,
     "end_time": "2024-04-10T11:44:32.371099",
     "exception": false,
     "start_time": "2024-04-10T11:44:32.321141",
     "status": "completed"
    },
    "tags": []
   },
   "outputs": [
    {
     "name": "stdout",
     "output_type": "stream",
     "text": [
      "Shape of cleaned DataFrame: (4546, 14)\n"
     ]
    }
   ],
   "source": [
    "# Print the shape of the cleaned DataFrame to compare with the original\n",
    "print(\"Shape of cleaned DataFrame:\", test_data.shape)"
   ]
  },
  {
   "cell_type": "code",
   "execution_count": 84,
   "id": "a3f9e6b1",
   "metadata": {
    "execution": {
     "iopub.execute_input": "2024-04-10T11:44:32.455700Z",
     "iopub.status.busy": "2024-04-10T11:44:32.455284Z",
     "iopub.status.idle": "2024-04-10T11:44:32.460538Z",
     "shell.execute_reply": "2024-04-10T11:44:32.459114Z"
    },
    "papermill": {
     "duration": 0.050258,
     "end_time": "2024-04-10T11:44:32.463033",
     "exception": false,
     "start_time": "2024-04-10T11:44:32.412775",
     "status": "completed"
    },
    "tags": []
   },
   "outputs": [],
   "source": [
    "# Add a column to indicate whether it's train or test data\n",
    "#train_data['Data_Type'] = 'Train'\n",
    "#test_data['Data_Type'] = 'Test'"
   ]
  },
  {
   "cell_type": "markdown",
   "id": "230c6d9b",
   "metadata": {
    "papermill": {
     "duration": 0.041167,
     "end_time": "2024-04-10T11:44:32.546617",
     "exception": false,
     "start_time": "2024-04-10T11:44:32.505450",
     "status": "completed"
    },
    "tags": []
   },
   "source": [
    "Adding a new feature in the train_data dataset so that we can combine it with train_data for preprocessing together."
   ]
  },
  {
   "cell_type": "code",
   "execution_count": 85,
   "id": "cd936e99",
   "metadata": {
    "execution": {
     "iopub.execute_input": "2024-04-10T11:44:32.632838Z",
     "iopub.status.busy": "2024-04-10T11:44:32.632425Z",
     "iopub.status.idle": "2024-04-10T11:44:32.638425Z",
     "shell.execute_reply": "2024-04-10T11:44:32.637264Z"
    },
    "papermill": {
     "duration": 0.051347,
     "end_time": "2024-04-10T11:44:32.640566",
     "exception": false,
     "start_time": "2024-04-10T11:44:32.589219",
     "status": "completed"
    },
    "tags": []
   },
   "outputs": [],
   "source": [
    "# Add a column to test data to match the structure of train data\n",
    "test_data['Rating'] = np.nan"
   ]
  },
  {
   "cell_type": "code",
   "execution_count": 86,
   "id": "9c8574fa",
   "metadata": {
    "execution": {
     "iopub.execute_input": "2024-04-10T11:44:32.726148Z",
     "iopub.status.busy": "2024-04-10T11:44:32.725715Z",
     "iopub.status.idle": "2024-04-10T11:44:32.734521Z",
     "shell.execute_reply": "2024-04-10T11:44:32.733421Z"
    },
    "papermill": {
     "duration": 0.054356,
     "end_time": "2024-04-10T11:44:32.736761",
     "exception": false,
     "start_time": "2024-04-10T11:44:32.682405",
     "status": "completed"
    },
    "tags": []
   },
   "outputs": [],
   "source": [
    "# Concatenate train and test data\n",
    "combined_data = pd.concat([train_data, test_data], ignore_index=True)"
   ]
  },
  {
   "cell_type": "code",
   "execution_count": 87,
   "id": "d6ae33ba",
   "metadata": {
    "execution": {
     "iopub.execute_input": "2024-04-10T11:44:32.821396Z",
     "iopub.status.busy": "2024-04-10T11:44:32.820961Z",
     "iopub.status.idle": "2024-04-10T11:44:32.839828Z",
     "shell.execute_reply": "2024-04-10T11:44:32.838512Z"
    },
    "papermill": {
     "duration": 0.064282,
     "end_time": "2024-04-10T11:44:32.842335",
     "exception": false,
     "start_time": "2024-04-10T11:44:32.778053",
     "status": "completed"
    },
    "tags": []
   },
   "outputs": [
    {
     "name": "stdout",
     "output_type": "stream",
     "text": [
      "<class 'pandas.core.frame.DataFrame'>\n",
      "RangeIndex: 18180 entries, 0 to 18179\n",
      "Data columns (total 15 columns):\n",
      " #   Column             Non-Null Count  Dtype  \n",
      "---  ------             --------------  -----  \n",
      " 0   ID                 18180 non-null  int64  \n",
      " 1   RecipeNumber       18180 non-null  int64  \n",
      " 2   RecipeCode         18180 non-null  int64  \n",
      " 3   RecipeName         18180 non-null  object \n",
      " 4   CommentID          18180 non-null  object \n",
      " 5   UserID             18180 non-null  object \n",
      " 6   UserName           18180 non-null  object \n",
      " 7   UserReputation     18180 non-null  int64  \n",
      " 8   CreationTimestamp  18180 non-null  int64  \n",
      " 9   ReplyCount         18180 non-null  int64  \n",
      " 10  ThumbsUpCount      18180 non-null  int64  \n",
      " 11  ThumbsDownCount    18180 non-null  int64  \n",
      " 12  Rating             13634 non-null  float64\n",
      " 13  BestScore          18180 non-null  int64  \n",
      " 14  Recipe_Review      18180 non-null  object \n",
      "dtypes: float64(1), int64(9), object(5)\n",
      "memory usage: 2.1+ MB\n"
     ]
    }
   ],
   "source": [
    "combined_data.info()"
   ]
  },
  {
   "cell_type": "code",
   "execution_count": 88,
   "id": "ecdd1ae0",
   "metadata": {
    "execution": {
     "iopub.execute_input": "2024-04-10T11:44:32.927253Z",
     "iopub.status.busy": "2024-04-10T11:44:32.926858Z",
     "iopub.status.idle": "2024-04-10T11:44:32.935524Z",
     "shell.execute_reply": "2024-04-10T11:44:32.934449Z"
    },
    "papermill": {
     "duration": 0.053592,
     "end_time": "2024-04-10T11:44:32.937732",
     "exception": false,
     "start_time": "2024-04-10T11:44:32.884140",
     "status": "completed"
    },
    "tags": []
   },
   "outputs": [
    {
     "name": "stdout",
     "output_type": "stream",
     "text": [
      "{0.0: 1272, 1.0: 210, 2.0: 174, 3.0: 368, 4.0: 1241, 5.0: 10369, nan: 0}\n"
     ]
    }
   ],
   "source": [
    "counts = {value: np.sum(combined_data['Rating'] == value) for value in np.unique(combined_data['Rating'])}\n",
    "print(counts)"
   ]
  },
  {
   "cell_type": "markdown",
   "id": "f266c873",
   "metadata": {
    "papermill": {
     "duration": 0.04082,
     "end_time": "2024-04-10T11:44:33.020834",
     "exception": false,
     "start_time": "2024-04-10T11:44:32.980014",
     "status": "completed"
    },
    "tags": []
   },
   "source": [
    "About 77% of the ratings were 5"
   ]
  },
  {
   "cell_type": "code",
   "execution_count": 89,
   "id": "2e340e14",
   "metadata": {
    "execution": {
     "iopub.execute_input": "2024-04-10T11:44:33.104705Z",
     "iopub.status.busy": "2024-04-10T11:44:33.104336Z",
     "iopub.status.idle": "2024-04-10T11:44:33.110301Z",
     "shell.execute_reply": "2024-04-10T11:44:33.109408Z"
    },
    "papermill": {
     "duration": 0.050549,
     "end_time": "2024-04-10T11:44:33.112477",
     "exception": false,
     "start_time": "2024-04-10T11:44:33.061928",
     "status": "completed"
    },
    "tags": []
   },
   "outputs": [
    {
     "data": {
      "text/plain": [
       "Index(['ID', 'RecipeNumber', 'RecipeCode', 'RecipeName', 'CommentID', 'UserID',\n",
       "       'UserName', 'UserReputation', 'CreationTimestamp', 'ReplyCount',\n",
       "       'ThumbsUpCount', 'ThumbsDownCount', 'Rating', 'BestScore',\n",
       "       'Recipe_Review'],\n",
       "      dtype='object')"
      ]
     },
     "execution_count": 89,
     "metadata": {},
     "output_type": "execute_result"
    }
   ],
   "source": [
    "combined_data.columns"
   ]
  },
  {
   "cell_type": "code",
   "execution_count": 90,
   "id": "fc47a1ed",
   "metadata": {
    "execution": {
     "iopub.execute_input": "2024-04-10T11:44:33.199902Z",
     "iopub.status.busy": "2024-04-10T11:44:33.199115Z",
     "iopub.status.idle": "2024-04-10T11:44:33.216104Z",
     "shell.execute_reply": "2024-04-10T11:44:33.214843Z"
    },
    "papermill": {
     "duration": 0.06268,
     "end_time": "2024-04-10T11:44:33.218556",
     "exception": false,
     "start_time": "2024-04-10T11:44:33.155876",
     "status": "completed"
    },
    "tags": []
   },
   "outputs": [
    {
     "name": "stdout",
     "output_type": "stream",
     "text": [
      "<class 'pandas.core.frame.DataFrame'>\n",
      "RangeIndex: 18180 entries, 0 to 18179\n",
      "Data columns (total 15 columns):\n",
      " #   Column             Non-Null Count  Dtype  \n",
      "---  ------             --------------  -----  \n",
      " 0   ID                 18180 non-null  int64  \n",
      " 1   RecipeNumber       18180 non-null  int64  \n",
      " 2   RecipeCode         18180 non-null  int64  \n",
      " 3   RecipeName         18180 non-null  object \n",
      " 4   CommentID          18180 non-null  object \n",
      " 5   UserID             18180 non-null  object \n",
      " 6   UserName           18180 non-null  object \n",
      " 7   UserReputation     18180 non-null  int64  \n",
      " 8   CreationTimestamp  18180 non-null  int64  \n",
      " 9   ReplyCount         18180 non-null  int64  \n",
      " 10  ThumbsUpCount      18180 non-null  int64  \n",
      " 11  ThumbsDownCount    18180 non-null  int64  \n",
      " 12  Rating             13634 non-null  float64\n",
      " 13  BestScore          18180 non-null  int64  \n",
      " 14  Recipe_Review      18180 non-null  object \n",
      "dtypes: float64(1), int64(9), object(5)\n",
      "memory usage: 2.1+ MB\n"
     ]
    }
   ],
   "source": [
    "combined_data.info()"
   ]
  },
  {
   "cell_type": "code",
   "execution_count": 91,
   "id": "9b721f64",
   "metadata": {
    "execution": {
     "iopub.execute_input": "2024-04-10T11:44:33.306511Z",
     "iopub.status.busy": "2024-04-10T11:44:33.305490Z",
     "iopub.status.idle": "2024-04-10T11:44:33.323178Z",
     "shell.execute_reply": "2024-04-10T11:44:33.322061Z"
    },
    "papermill": {
     "duration": 0.06313,
     "end_time": "2024-04-10T11:44:33.325440",
     "exception": false,
     "start_time": "2024-04-10T11:44:33.262310",
     "status": "completed"
    },
    "tags": []
   },
   "outputs": [
    {
     "data": {
      "text/html": [
       "<div>\n",
       "<style scoped>\n",
       "    .dataframe tbody tr th:only-of-type {\n",
       "        vertical-align: middle;\n",
       "    }\n",
       "\n",
       "    .dataframe tbody tr th {\n",
       "        vertical-align: top;\n",
       "    }\n",
       "\n",
       "    .dataframe thead th {\n",
       "        text-align: right;\n",
       "    }\n",
       "</style>\n",
       "<table border=\"1\" class=\"dataframe\">\n",
       "  <thead>\n",
       "    <tr style=\"text-align: right;\">\n",
       "      <th></th>\n",
       "      <th>ID</th>\n",
       "      <th>RecipeNumber</th>\n",
       "      <th>RecipeCode</th>\n",
       "      <th>RecipeName</th>\n",
       "      <th>CommentID</th>\n",
       "      <th>UserID</th>\n",
       "      <th>UserName</th>\n",
       "      <th>UserReputation</th>\n",
       "      <th>CreationTimestamp</th>\n",
       "      <th>ReplyCount</th>\n",
       "      <th>ThumbsUpCount</th>\n",
       "      <th>ThumbsDownCount</th>\n",
       "      <th>Rating</th>\n",
       "      <th>BestScore</th>\n",
       "      <th>Recipe_Review</th>\n",
       "    </tr>\n",
       "  </thead>\n",
       "  <tbody>\n",
       "    <tr>\n",
       "      <th>0</th>\n",
       "      <td>70</td>\n",
       "      <td>71</td>\n",
       "      <td>12259</td>\n",
       "      <td>Banana Bars with Cream Cheese Frosting</td>\n",
       "      <td>sp_aUSaElGf_12259_c_149978</td>\n",
       "      <td>u_1oKVaBmiEKwAFyiHrDLoWpbel0J</td>\n",
       "      <td>misscoffeepot</td>\n",
       "      <td>20</td>\n",
       "      <td>1622717078</td>\n",
       "      <td>0</td>\n",
       "      <td>0</td>\n",
       "      <td>0</td>\n",
       "      <td>5.0</td>\n",
       "      <td>100</td>\n",
       "      <td>great recipe! I have made them just as written...</td>\n",
       "    </tr>\n",
       "    <tr>\n",
       "      <th>1</th>\n",
       "      <td>72</td>\n",
       "      <td>88</td>\n",
       "      <td>8202</td>\n",
       "      <td>Simple Taco Soup</td>\n",
       "      <td>sp_aUSaElGf_8202_c_310332</td>\n",
       "      <td>u_1oKZeRIXYzGNhGW8OMR3O4lX1ih</td>\n",
       "      <td>MichelleMalone</td>\n",
       "      <td>1</td>\n",
       "      <td>1622717852</td>\n",
       "      <td>0</td>\n",
       "      <td>0</td>\n",
       "      <td>1</td>\n",
       "      <td>5.0</td>\n",
       "      <td>100</td>\n",
       "      <td>This is an easy and quick recipe that is great...</td>\n",
       "    </tr>\n",
       "    <tr>\n",
       "      <th>2</th>\n",
       "      <td>458</td>\n",
       "      <td>3</td>\n",
       "      <td>2832</td>\n",
       "      <td>Cheeseburger Soup</td>\n",
       "      <td>sp_aUSaElGf_2832_c_206522</td>\n",
       "      <td>u_1oKYHUtdaD48KJCDYq5wfpAUxWz</td>\n",
       "      <td>jeannem32</td>\n",
       "      <td>1</td>\n",
       "      <td>1622717357</td>\n",
       "      <td>0</td>\n",
       "      <td>0</td>\n",
       "      <td>0</td>\n",
       "      <td>3.0</td>\n",
       "      <td>100</td>\n",
       "      <td>I think I was looking for something extra spec...</td>\n",
       "    </tr>\n",
       "    <tr>\n",
       "      <th>3</th>\n",
       "      <td>7</td>\n",
       "      <td>50</td>\n",
       "      <td>100276</td>\n",
       "      <td>Grilled Huli Huli Chicken</td>\n",
       "      <td>sp_aUSaElGf_100276_c_434088</td>\n",
       "      <td>u_1oKZCQcKQZdQhDVBS7oISc216VA</td>\n",
       "      <td>ds422</td>\n",
       "      <td>1</td>\n",
       "      <td>1622648899</td>\n",
       "      <td>0</td>\n",
       "      <td>0</td>\n",
       "      <td>0</td>\n",
       "      <td>5.0</td>\n",
       "      <td>100</td>\n",
       "      <td>This is our favorite grilled chicken recipe.  ...</td>\n",
       "    </tr>\n",
       "    <tr>\n",
       "      <th>4</th>\n",
       "      <td>60</td>\n",
       "      <td>12</td>\n",
       "      <td>19731</td>\n",
       "      <td>Cauliflower Soup</td>\n",
       "      <td>sp_aUSaElGf_19731_c_387011</td>\n",
       "      <td>u_1oKd4sudZQPgu6YALiC7bW7mKMs</td>\n",
       "      <td>SusanHoward</td>\n",
       "      <td>1</td>\n",
       "      <td>1622718260</td>\n",
       "      <td>0</td>\n",
       "      <td>0</td>\n",
       "      <td>0</td>\n",
       "      <td>4.0</td>\n",
       "      <td>100</td>\n",
       "      <td>Great basic recipe. I added 2 teaspoons Tuscan...</td>\n",
       "    </tr>\n",
       "  </tbody>\n",
       "</table>\n",
       "</div>"
      ],
      "text/plain": [
       "    ID  RecipeNumber  RecipeCode                              RecipeName  \\\n",
       "0   70            71       12259  Banana Bars with Cream Cheese Frosting   \n",
       "1   72            88        8202                        Simple Taco Soup   \n",
       "2  458             3        2832                       Cheeseburger Soup   \n",
       "3    7            50      100276               Grilled Huli Huli Chicken   \n",
       "4   60            12       19731                        Cauliflower Soup   \n",
       "\n",
       "                     CommentID                         UserID        UserName  \\\n",
       "0   sp_aUSaElGf_12259_c_149978  u_1oKVaBmiEKwAFyiHrDLoWpbel0J   misscoffeepot   \n",
       "1    sp_aUSaElGf_8202_c_310332  u_1oKZeRIXYzGNhGW8OMR3O4lX1ih  MichelleMalone   \n",
       "2    sp_aUSaElGf_2832_c_206522  u_1oKYHUtdaD48KJCDYq5wfpAUxWz       jeannem32   \n",
       "3  sp_aUSaElGf_100276_c_434088  u_1oKZCQcKQZdQhDVBS7oISc216VA           ds422   \n",
       "4   sp_aUSaElGf_19731_c_387011  u_1oKd4sudZQPgu6YALiC7bW7mKMs     SusanHoward   \n",
       "\n",
       "   UserReputation  CreationTimestamp  ReplyCount  ThumbsUpCount  \\\n",
       "0              20         1622717078           0              0   \n",
       "1               1         1622717852           0              0   \n",
       "2               1         1622717357           0              0   \n",
       "3               1         1622648899           0              0   \n",
       "4               1         1622718260           0              0   \n",
       "\n",
       "   ThumbsDownCount  Rating  BestScore  \\\n",
       "0                0     5.0        100   \n",
       "1                1     5.0        100   \n",
       "2                0     3.0        100   \n",
       "3                0     5.0        100   \n",
       "4                0     4.0        100   \n",
       "\n",
       "                                       Recipe_Review  \n",
       "0  great recipe! I have made them just as written...  \n",
       "1  This is an easy and quick recipe that is great...  \n",
       "2  I think I was looking for something extra spec...  \n",
       "3  This is our favorite grilled chicken recipe.  ...  \n",
       "4  Great basic recipe. I added 2 teaspoons Tuscan...  "
      ]
     },
     "execution_count": 91,
     "metadata": {},
     "output_type": "execute_result"
    }
   ],
   "source": [
    "combined_data.head()"
   ]
  },
  {
   "cell_type": "markdown",
   "id": "72de3033",
   "metadata": {
    "papermill": {
     "duration": 0.04179,
     "end_time": "2024-04-10T11:44:33.411509",
     "exception": false,
     "start_time": "2024-04-10T11:44:33.369719",
     "status": "completed"
    },
    "tags": []
   },
   "source": [
    "### **Finding correlation between features**"
   ]
  },
  {
   "cell_type": "code",
   "execution_count": 92,
   "id": "5fb36ef7",
   "metadata": {
    "execution": {
     "iopub.execute_input": "2024-04-10T11:44:33.500036Z",
     "iopub.status.busy": "2024-04-10T11:44:33.499265Z",
     "iopub.status.idle": "2024-04-10T11:44:33.507020Z",
     "shell.execute_reply": "2024-04-10T11:44:33.506056Z"
    },
    "papermill": {
     "duration": 0.053899,
     "end_time": "2024-04-10T11:44:33.509508",
     "exception": false,
     "start_time": "2024-04-10T11:44:33.455609",
     "status": "completed"
    },
    "tags": []
   },
   "outputs": [],
   "source": [
    "temp_df = combined_data[['ID', 'RecipeNumber', 'RecipeCode', 'RecipeName',\n",
    "                      'UserName', 'UserReputation', 'CreationTimestamp',\n",
    "                      'ReplyCount', 'ThumbsUpCount', 'ThumbsDownCount',\n",
    "                      'BestScore','Rating']]"
   ]
  },
  {
   "cell_type": "code",
   "execution_count": 93,
   "id": "28f0d53a",
   "metadata": {
    "execution": {
     "iopub.execute_input": "2024-04-10T11:44:33.597326Z",
     "iopub.status.busy": "2024-04-10T11:44:33.596556Z",
     "iopub.status.idle": "2024-04-10T11:44:33.611083Z",
     "shell.execute_reply": "2024-04-10T11:44:33.610143Z"
    },
    "papermill": {
     "duration": 0.061065,
     "end_time": "2024-04-10T11:44:33.613650",
     "exception": false,
     "start_time": "2024-04-10T11:44:33.552585",
     "status": "completed"
    },
    "tags": []
   },
   "outputs": [
    {
     "name": "stdout",
     "output_type": "stream",
     "text": [
      "<class 'pandas.core.frame.DataFrame'>\n",
      "RangeIndex: 18180 entries, 0 to 18179\n",
      "Data columns (total 12 columns):\n",
      " #   Column             Non-Null Count  Dtype  \n",
      "---  ------             --------------  -----  \n",
      " 0   ID                 18180 non-null  int64  \n",
      " 1   RecipeNumber       18180 non-null  int64  \n",
      " 2   RecipeCode         18180 non-null  int64  \n",
      " 3   RecipeName         18180 non-null  object \n",
      " 4   UserName           18180 non-null  object \n",
      " 5   UserReputation     18180 non-null  int64  \n",
      " 6   CreationTimestamp  18180 non-null  int64  \n",
      " 7   ReplyCount         18180 non-null  int64  \n",
      " 8   ThumbsUpCount      18180 non-null  int64  \n",
      " 9   ThumbsDownCount    18180 non-null  int64  \n",
      " 10  BestScore          18180 non-null  int64  \n",
      " 11  Rating             13634 non-null  float64\n",
      "dtypes: float64(1), int64(9), object(2)\n",
      "memory usage: 1.7+ MB\n"
     ]
    }
   ],
   "source": [
    "temp_df.info()"
   ]
  },
  {
   "cell_type": "code",
   "execution_count": 94,
   "id": "7018150f",
   "metadata": {
    "execution": {
     "iopub.execute_input": "2024-04-10T11:44:33.702765Z",
     "iopub.status.busy": "2024-04-10T11:44:33.701728Z",
     "iopub.status.idle": "2024-04-10T11:44:33.717284Z",
     "shell.execute_reply": "2024-04-10T11:44:33.716355Z"
    },
    "papermill": {
     "duration": 0.062118,
     "end_time": "2024-04-10T11:44:33.719380",
     "exception": false,
     "start_time": "2024-04-10T11:44:33.657262",
     "status": "completed"
    },
    "tags": []
   },
   "outputs": [
    {
     "data": {
      "text/html": [
       "<div>\n",
       "<style scoped>\n",
       "    .dataframe tbody tr th:only-of-type {\n",
       "        vertical-align: middle;\n",
       "    }\n",
       "\n",
       "    .dataframe tbody tr th {\n",
       "        vertical-align: top;\n",
       "    }\n",
       "\n",
       "    .dataframe thead th {\n",
       "        text-align: right;\n",
       "    }\n",
       "</style>\n",
       "<table border=\"1\" class=\"dataframe\">\n",
       "  <thead>\n",
       "    <tr style=\"text-align: right;\">\n",
       "      <th></th>\n",
       "      <th>ID</th>\n",
       "      <th>RecipeNumber</th>\n",
       "      <th>RecipeCode</th>\n",
       "      <th>RecipeName</th>\n",
       "      <th>UserName</th>\n",
       "      <th>UserReputation</th>\n",
       "      <th>CreationTimestamp</th>\n",
       "      <th>ReplyCount</th>\n",
       "      <th>ThumbsUpCount</th>\n",
       "      <th>ThumbsDownCount</th>\n",
       "      <th>BestScore</th>\n",
       "      <th>Rating</th>\n",
       "    </tr>\n",
       "  </thead>\n",
       "  <tbody>\n",
       "    <tr>\n",
       "      <th>0</th>\n",
       "      <td>70</td>\n",
       "      <td>71</td>\n",
       "      <td>12259</td>\n",
       "      <td>Banana Bars with Cream Cheese Frosting</td>\n",
       "      <td>misscoffeepot</td>\n",
       "      <td>20</td>\n",
       "      <td>1622717078</td>\n",
       "      <td>0</td>\n",
       "      <td>0</td>\n",
       "      <td>0</td>\n",
       "      <td>100</td>\n",
       "      <td>5.0</td>\n",
       "    </tr>\n",
       "    <tr>\n",
       "      <th>1</th>\n",
       "      <td>72</td>\n",
       "      <td>88</td>\n",
       "      <td>8202</td>\n",
       "      <td>Simple Taco Soup</td>\n",
       "      <td>MichelleMalone</td>\n",
       "      <td>1</td>\n",
       "      <td>1622717852</td>\n",
       "      <td>0</td>\n",
       "      <td>0</td>\n",
       "      <td>1</td>\n",
       "      <td>100</td>\n",
       "      <td>5.0</td>\n",
       "    </tr>\n",
       "    <tr>\n",
       "      <th>2</th>\n",
       "      <td>458</td>\n",
       "      <td>3</td>\n",
       "      <td>2832</td>\n",
       "      <td>Cheeseburger Soup</td>\n",
       "      <td>jeannem32</td>\n",
       "      <td>1</td>\n",
       "      <td>1622717357</td>\n",
       "      <td>0</td>\n",
       "      <td>0</td>\n",
       "      <td>0</td>\n",
       "      <td>100</td>\n",
       "      <td>3.0</td>\n",
       "    </tr>\n",
       "    <tr>\n",
       "      <th>3</th>\n",
       "      <td>7</td>\n",
       "      <td>50</td>\n",
       "      <td>100276</td>\n",
       "      <td>Grilled Huli Huli Chicken</td>\n",
       "      <td>ds422</td>\n",
       "      <td>1</td>\n",
       "      <td>1622648899</td>\n",
       "      <td>0</td>\n",
       "      <td>0</td>\n",
       "      <td>0</td>\n",
       "      <td>100</td>\n",
       "      <td>5.0</td>\n",
       "    </tr>\n",
       "    <tr>\n",
       "      <th>4</th>\n",
       "      <td>60</td>\n",
       "      <td>12</td>\n",
       "      <td>19731</td>\n",
       "      <td>Cauliflower Soup</td>\n",
       "      <td>SusanHoward</td>\n",
       "      <td>1</td>\n",
       "      <td>1622718260</td>\n",
       "      <td>0</td>\n",
       "      <td>0</td>\n",
       "      <td>0</td>\n",
       "      <td>100</td>\n",
       "      <td>4.0</td>\n",
       "    </tr>\n",
       "  </tbody>\n",
       "</table>\n",
       "</div>"
      ],
      "text/plain": [
       "    ID  RecipeNumber  RecipeCode                              RecipeName  \\\n",
       "0   70            71       12259  Banana Bars with Cream Cheese Frosting   \n",
       "1   72            88        8202                        Simple Taco Soup   \n",
       "2  458             3        2832                       Cheeseburger Soup   \n",
       "3    7            50      100276               Grilled Huli Huli Chicken   \n",
       "4   60            12       19731                        Cauliflower Soup   \n",
       "\n",
       "         UserName  UserReputation  CreationTimestamp  ReplyCount  \\\n",
       "0   misscoffeepot              20         1622717078           0   \n",
       "1  MichelleMalone               1         1622717852           0   \n",
       "2       jeannem32               1         1622717357           0   \n",
       "3           ds422               1         1622648899           0   \n",
       "4     SusanHoward               1         1622718260           0   \n",
       "\n",
       "   ThumbsUpCount  ThumbsDownCount  BestScore  Rating  \n",
       "0              0                0        100     5.0  \n",
       "1              0                1        100     5.0  \n",
       "2              0                0        100     3.0  \n",
       "3              0                0        100     5.0  \n",
       "4              0                0        100     4.0  "
      ]
     },
     "execution_count": 94,
     "metadata": {},
     "output_type": "execute_result"
    }
   ],
   "source": [
    "temp_df.head()"
   ]
  },
  {
   "cell_type": "code",
   "execution_count": 95,
   "id": "f5d190f9",
   "metadata": {
    "execution": {
     "iopub.execute_input": "2024-04-10T11:44:33.809126Z",
     "iopub.status.busy": "2024-04-10T11:44:33.808160Z",
     "iopub.status.idle": "2024-04-10T11:44:35.058364Z",
     "shell.execute_reply": "2024-04-10T11:44:35.057176Z"
    },
    "papermill": {
     "duration": 1.299106,
     "end_time": "2024-04-10T11:44:35.062372",
     "exception": false,
     "start_time": "2024-04-10T11:44:33.763266",
     "status": "completed"
    },
    "tags": []
   },
   "outputs": [
    {
     "data": {
      "image/png": "[encoded data removed]",
      "text/plain": [
       "<Figure size 1200x1000 with 2 Axes>"
      ]
     },
     "metadata": {},
     "output_type": "display_data"
    }
   ],
   "source": [
    "import pandas as pd\n",
    "import matplotlib.pyplot as plt\n",
    "import seaborn as sns\n",
    "\n",
    "# Convert object columns to numerical values\n",
    "from sklearn.preprocessing import LabelEncoder\n",
    "le = LabelEncoder()\n",
    "temp_df.loc[:, 'RecipeName'] = le.fit_transform(temp_df['RecipeName'])\n",
    "temp_df.loc[:, 'UserName'] = le.fit_transform(temp_df['UserName'])\n",
    "\n",
    "# Calculate the correlation matrix\n",
    "corr_matrix = temp_df.corr()\n",
    "\n",
    "# Create the correlation heatmap\n",
    "plt.figure(figsize=(12, 10))\n",
    "sns.heatmap(corr_matrix, annot=True, cmap='YlOrRd')\n",
    "plt.title('Correlation Heatmap')\n",
    "plt.show()"
   ]
  },
  {
   "cell_type": "markdown",
   "id": "277ef4a6",
   "metadata": {
    "papermill": {
     "duration": 0.044953,
     "end_time": "2024-04-10T11:44:35.151978",
     "exception": false,
     "start_time": "2024-04-10T11:44:35.107025",
     "status": "completed"
    },
    "tags": []
   },
   "source": [
    "This heatmap gives us visuals, so that we can see if any features are highly correlated. \n",
    "\n",
    "Another focus was on the features 'RecipeNumber', 'RecipeCode' and 'RecipeName'. As all the three features point to the same object, I wanted to see if they were correlated. Although in real world they would be highly correlated but in the socpe of this dataset they are not."
   ]
  },
  {
   "cell_type": "markdown",
   "id": "4f219264",
   "metadata": {
    "papermill": {
     "duration": 0.045472,
     "end_time": "2024-04-10T11:44:35.243101",
     "exception": false,
     "start_time": "2024-04-10T11:44:35.197629",
     "status": "completed"
    },
    "tags": []
   },
   "source": [
    "### **Drop Columns of lesser relevence**"
   ]
  },
  {
   "cell_type": "code",
   "execution_count": 96,
   "id": "1954c71e",
   "metadata": {
    "execution": {
     "iopub.execute_input": "2024-04-10T11:44:35.335354Z",
     "iopub.status.busy": "2024-04-10T11:44:35.334925Z",
     "iopub.status.idle": "2024-04-10T11:44:35.343223Z",
     "shell.execute_reply": "2024-04-10T11:44:35.342071Z"
    },
    "papermill": {
     "duration": 0.057043,
     "end_time": "2024-04-10T11:44:35.345579",
     "exception": false,
     "start_time": "2024-04-10T11:44:35.288536",
     "status": "completed"
    },
    "tags": []
   },
   "outputs": [],
   "source": [
    "columns_to_drop = ['ID', 'CommentID', 'UserID','UserName','RecipeName','RecipeNumber', 'CreationTimestamp'] #, 'BestScore', 'RecipieCode','Recipe_Name_New','RecipeName'\n",
    "combined_data = combined_data.drop(columns=columns_to_drop)"
   ]
  },
  {
   "cell_type": "markdown",
   "id": "30424e6e",
   "metadata": {
    "papermill": {
     "duration": 0.045863,
     "end_time": "2024-04-10T11:44:35.436126",
     "exception": false,
     "start_time": "2024-04-10T11:44:35.390263",
     "status": "completed"
    },
    "tags": []
   },
   "source": [
    "Between the features 'RecipeName', 'RecipeNumber' and 'RecipeCode', the later gave the highest accuracy and since all the three things point to the same object it only made sense to include just one and drop the others."
   ]
  },
  {
   "cell_type": "code",
   "execution_count": 97,
   "id": "9f8d5203",
   "metadata": {
    "execution": {
     "iopub.execute_input": "2024-04-10T11:44:35.528251Z",
     "iopub.status.busy": "2024-04-10T11:44:35.527258Z",
     "iopub.status.idle": "2024-04-10T11:44:35.534694Z",
     "shell.execute_reply": "2024-04-10T11:44:35.533302Z"
    },
    "papermill": {
     "duration": 0.055445,
     "end_time": "2024-04-10T11:44:35.536770",
     "exception": false,
     "start_time": "2024-04-10T11:44:35.481325",
     "status": "completed"
    },
    "tags": []
   },
   "outputs": [
    {
     "data": {
      "text/plain": [
       "Index(['RecipeCode', 'UserReputation', 'ReplyCount', 'ThumbsUpCount',\n",
       "       'ThumbsDownCount', 'Rating', 'BestScore', 'Recipe_Review'],\n",
       "      dtype='object')"
      ]
     },
     "execution_count": 97,
     "metadata": {},
     "output_type": "execute_result"
    }
   ],
   "source": [
    "combined_data.columns"
   ]
  },
  {
   "cell_type": "code",
   "execution_count": 98,
   "id": "87067fc7",
   "metadata": {
    "execution": {
     "iopub.execute_input": "2024-04-10T11:44:35.629101Z",
     "iopub.status.busy": "2024-04-10T11:44:35.628101Z",
     "iopub.status.idle": "2024-04-10T11:44:35.632828Z",
     "shell.execute_reply": "2024-04-10T11:44:35.631904Z"
    },
    "papermill": {
     "duration": 0.054007,
     "end_time": "2024-04-10T11:44:35.635576",
     "exception": false,
     "start_time": "2024-04-10T11:44:35.581569",
     "status": "completed"
    },
    "tags": []
   },
   "outputs": [],
   "source": [
    "X=combined_data"
   ]
  },
  {
   "cell_type": "code",
   "execution_count": 99,
   "id": "e1063f89",
   "metadata": {
    "execution": {
     "iopub.execute_input": "2024-04-10T11:44:35.730319Z",
     "iopub.status.busy": "2024-04-10T11:44:35.729919Z",
     "iopub.status.idle": "2024-04-10T11:44:35.743275Z",
     "shell.execute_reply": "2024-04-10T11:44:35.742110Z"
    },
    "papermill": {
     "duration": 0.06321,
     "end_time": "2024-04-10T11:44:35.745642",
     "exception": false,
     "start_time": "2024-04-10T11:44:35.682432",
     "status": "completed"
    },
    "tags": []
   },
   "outputs": [
    {
     "name": "stdout",
     "output_type": "stream",
     "text": [
      "<class 'pandas.core.frame.DataFrame'>\n",
      "RangeIndex: 18180 entries, 0 to 18179\n",
      "Data columns (total 8 columns):\n",
      " #   Column           Non-Null Count  Dtype  \n",
      "---  ------           --------------  -----  \n",
      " 0   RecipeCode       18180 non-null  int64  \n",
      " 1   UserReputation   18180 non-null  int64  \n",
      " 2   ReplyCount       18180 non-null  int64  \n",
      " 3   ThumbsUpCount    18180 non-null  int64  \n",
      " 4   ThumbsDownCount  18180 non-null  int64  \n",
      " 5   Rating           13634 non-null  float64\n",
      " 6   BestScore        18180 non-null  int64  \n",
      " 7   Recipe_Review    18180 non-null  object \n",
      "dtypes: float64(1), int64(6), object(1)\n",
      "memory usage: 1.1+ MB\n"
     ]
    }
   ],
   "source": [
    "X.info()"
   ]
  },
  {
   "cell_type": "code",
   "execution_count": 100,
   "id": "f9a2e059",
   "metadata": {
    "execution": {
     "iopub.execute_input": "2024-04-10T11:44:35.839861Z",
     "iopub.status.busy": "2024-04-10T11:44:35.839212Z",
     "iopub.status.idle": "2024-04-10T11:44:35.880254Z",
     "shell.execute_reply": "2024-04-10T11:44:35.878870Z"
    },
    "papermill": {
     "duration": 0.089567,
     "end_time": "2024-04-10T11:44:35.882584",
     "exception": false,
     "start_time": "2024-04-10T11:44:35.793017",
     "status": "completed"
    },
    "tags": []
   },
   "outputs": [
    {
     "data": {
      "text/html": [
       "<div>\n",
       "<style scoped>\n",
       "    .dataframe tbody tr th:only-of-type {\n",
       "        vertical-align: middle;\n",
       "    }\n",
       "\n",
       "    .dataframe tbody tr th {\n",
       "        vertical-align: top;\n",
       "    }\n",
       "\n",
       "    .dataframe thead th {\n",
       "        text-align: right;\n",
       "    }\n",
       "</style>\n",
       "<table border=\"1\" class=\"dataframe\">\n",
       "  <thead>\n",
       "    <tr style=\"text-align: right;\">\n",
       "      <th></th>\n",
       "      <th>RecipeCode</th>\n",
       "      <th>UserReputation</th>\n",
       "      <th>ReplyCount</th>\n",
       "      <th>ThumbsUpCount</th>\n",
       "      <th>ThumbsDownCount</th>\n",
       "      <th>Rating</th>\n",
       "      <th>BestScore</th>\n",
       "    </tr>\n",
       "  </thead>\n",
       "  <tbody>\n",
       "    <tr>\n",
       "      <th>count</th>\n",
       "      <td>18180.000000</td>\n",
       "      <td>18180.000000</td>\n",
       "      <td>18180.000000</td>\n",
       "      <td>18180.000000</td>\n",
       "      <td>18180.000000</td>\n",
       "      <td>13634.000000</td>\n",
       "      <td>18180.000000</td>\n",
       "    </tr>\n",
       "    <tr>\n",
       "      <th>mean</th>\n",
       "      <td>21774.727283</td>\n",
       "      <td>2.159736</td>\n",
       "      <td>0.014631</td>\n",
       "      <td>1.089384</td>\n",
       "      <td>0.549395</td>\n",
       "      <td>4.288617</td>\n",
       "      <td>153.167987</td>\n",
       "    </tr>\n",
       "    <tr>\n",
       "      <th>std</th>\n",
       "      <td>23966.015985</td>\n",
       "      <td>10.015210</td>\n",
       "      <td>0.137981</td>\n",
       "      <td>4.201219</td>\n",
       "      <td>3.470310</td>\n",
       "      <td>1.544928</td>\n",
       "      <td>141.081974</td>\n",
       "    </tr>\n",
       "    <tr>\n",
       "      <th>min</th>\n",
       "      <td>386.000000</td>\n",
       "      <td>0.000000</td>\n",
       "      <td>0.000000</td>\n",
       "      <td>0.000000</td>\n",
       "      <td>0.000000</td>\n",
       "      <td>0.000000</td>\n",
       "      <td>0.000000</td>\n",
       "    </tr>\n",
       "    <tr>\n",
       "      <th>25%</th>\n",
       "      <td>6086.000000</td>\n",
       "      <td>1.000000</td>\n",
       "      <td>0.000000</td>\n",
       "      <td>0.000000</td>\n",
       "      <td>0.000000</td>\n",
       "      <td>5.000000</td>\n",
       "      <td>100.000000</td>\n",
       "    </tr>\n",
       "    <tr>\n",
       "      <th>50%</th>\n",
       "      <td>14600.000000</td>\n",
       "      <td>1.000000</td>\n",
       "      <td>0.000000</td>\n",
       "      <td>0.000000</td>\n",
       "      <td>0.000000</td>\n",
       "      <td>5.000000</td>\n",
       "      <td>100.000000</td>\n",
       "    </tr>\n",
       "    <tr>\n",
       "      <th>75%</th>\n",
       "      <td>33121.000000</td>\n",
       "      <td>1.000000</td>\n",
       "      <td>0.000000</td>\n",
       "      <td>0.000000</td>\n",
       "      <td>0.000000</td>\n",
       "      <td>5.000000</td>\n",
       "      <td>100.000000</td>\n",
       "    </tr>\n",
       "    <tr>\n",
       "      <th>max</th>\n",
       "      <td>191775.000000</td>\n",
       "      <td>520.000000</td>\n",
       "      <td>3.000000</td>\n",
       "      <td>106.000000</td>\n",
       "      <td>126.000000</td>\n",
       "      <td>5.000000</td>\n",
       "      <td>946.000000</td>\n",
       "    </tr>\n",
       "  </tbody>\n",
       "</table>\n",
       "</div>"
      ],
      "text/plain": [
       "          RecipeCode  UserReputation    ReplyCount  ThumbsUpCount  \\\n",
       "count   18180.000000    18180.000000  18180.000000   18180.000000   \n",
       "mean    21774.727283        2.159736      0.014631       1.089384   \n",
       "std     23966.015985       10.015210      0.137981       4.201219   \n",
       "min       386.000000        0.000000      0.000000       0.000000   \n",
       "25%      6086.000000        1.000000      0.000000       0.000000   \n",
       "50%     14600.000000        1.000000      0.000000       0.000000   \n",
       "75%     33121.000000        1.000000      0.000000       0.000000   \n",
       "max    191775.000000      520.000000      3.000000     106.000000   \n",
       "\n",
       "       ThumbsDownCount        Rating     BestScore  \n",
       "count     18180.000000  13634.000000  18180.000000  \n",
       "mean          0.549395      4.288617    153.167987  \n",
       "std           3.470310      1.544928    141.081974  \n",
       "min           0.000000      0.000000      0.000000  \n",
       "25%           0.000000      5.000000    100.000000  \n",
       "50%           0.000000      5.000000    100.000000  \n",
       "75%           0.000000      5.000000    100.000000  \n",
       "max         126.000000      5.000000    946.000000  "
      ]
     },
     "execution_count": 100,
     "metadata": {},
     "output_type": "execute_result"
    }
   ],
   "source": [
    "X.describe()"
   ]
  },
  {
   "cell_type": "code",
   "execution_count": 101,
   "id": "377d9c27",
   "metadata": {
    "execution": {
     "iopub.execute_input": "2024-04-10T11:44:35.979556Z",
     "iopub.status.busy": "2024-04-10T11:44:35.978842Z",
     "iopub.status.idle": "2024-04-10T11:44:35.986772Z",
     "shell.execute_reply": "2024-04-10T11:44:35.986009Z"
    },
    "papermill": {
     "duration": 0.057138,
     "end_time": "2024-04-10T11:44:35.988795",
     "exception": false,
     "start_time": "2024-04-10T11:44:35.931657",
     "status": "completed"
    },
    "tags": []
   },
   "outputs": [
    {
     "data": {
      "text/plain": [
       "array([ 20,   1,  10,  80,  30,   0,  60,  90, 160,  40, 510, 100,  50,\n",
       "       140,  70, 220, 110, 130, 150, 300, 170, 520])"
      ]
     },
     "execution_count": 101,
     "metadata": {},
     "output_type": "execute_result"
    }
   ],
   "source": [
    "X['UserReputation'].unique()"
   ]
  },
  {
   "cell_type": "code",
   "execution_count": 102,
   "id": "8140b43d",
   "metadata": {
    "execution": {
     "iopub.execute_input": "2024-04-10T11:44:36.085499Z",
     "iopub.status.busy": "2024-04-10T11:44:36.084752Z",
     "iopub.status.idle": "2024-04-10T11:44:36.094305Z",
     "shell.execute_reply": "2024-04-10T11:44:36.093213Z"
    },
    "papermill": {
     "duration": 0.06117,
     "end_time": "2024-04-10T11:44:36.097192",
     "exception": false,
     "start_time": "2024-04-10T11:44:36.036022",
     "status": "completed"
    },
    "tags": []
   },
   "outputs": [
    {
     "data": {
      "text/plain": [
       "ReplyCount\n",
       "0    17950\n",
       "1      200\n",
       "2       24\n",
       "3        6\n",
       "Name: count, dtype: int64"
      ]
     },
     "execution_count": 102,
     "metadata": {},
     "output_type": "execute_result"
    }
   ],
   "source": [
    "X['ReplyCount'].value_counts()"
   ]
  },
  {
   "cell_type": "markdown",
   "id": "ed453948",
   "metadata": {
    "papermill": {
     "duration": 0.044927,
     "end_time": "2024-04-10T11:44:36.201744",
     "exception": false,
     "start_time": "2024-04-10T11:44:36.156817",
     "status": "completed"
    },
    "tags": []
   },
   "source": [
    "### **One Hot Encoding - ReplyCount**"
   ]
  },
  {
   "cell_type": "code",
   "execution_count": 103,
   "id": "ad264008",
   "metadata": {
    "execution": {
     "iopub.execute_input": "2024-04-10T11:44:36.293837Z",
     "iopub.status.busy": "2024-04-10T11:44:36.293135Z",
     "iopub.status.idle": "2024-04-10T11:44:36.310609Z",
     "shell.execute_reply": "2024-04-10T11:44:36.308821Z"
    },
    "papermill": {
     "duration": 0.066341,
     "end_time": "2024-04-10T11:44:36.313055",
     "exception": false,
     "start_time": "2024-04-10T11:44:36.246714",
     "status": "completed"
    },
    "tags": []
   },
   "outputs": [
    {
     "name": "stdout",
     "output_type": "stream",
     "text": [
      "   RecipeCode  UserReputation  ThumbsUpCount  ThumbsDownCount  Rating  \\\n",
      "0       12259              20              0                0     5.0   \n",
      "1        8202               1              0                1     5.0   \n",
      "2        2832               1              0                0     3.0   \n",
      "3      100276               1              0                0     5.0   \n",
      "4       19731               1              0                0     4.0   \n",
      "\n",
      "   BestScore                                      Recipe_Review  ReplyCount_0  \\\n",
      "0        100  great recipe! I have made them just as written...          True   \n",
      "1        100  This is an easy and quick recipe that is great...          True   \n",
      "2        100  I think I was looking for something extra spec...          True   \n",
      "3        100  This is our favorite grilled chicken recipe.  ...          True   \n",
      "4        100  Great basic recipe. I added 2 teaspoons Tuscan...          True   \n",
      "\n",
      "   ReplyCount_1  ReplyCount_2  ReplyCount_3  \n",
      "0         False         False         False  \n",
      "1         False         False         False  \n",
      "2         False         False         False  \n",
      "3         False         False         False  \n",
      "4         False         False         False  \n"
     ]
    }
   ],
   "source": [
    "#**One Hot Encoding**\n",
    "\n",
    "import pandas as pd\n",
    "\n",
    "# Assuming X is your dataset\n",
    "# Perform one-hot encoding on ReplyCount\n",
    "X = pd.get_dummies(X, columns=['ReplyCount'], prefix='ReplyCount')\n",
    "\n",
    "# Check the modified dataset\n",
    "print(X.head())"
   ]
  },
  {
   "cell_type": "code",
   "execution_count": 104,
   "id": "1858a646",
   "metadata": {
    "execution": {
     "iopub.execute_input": "2024-04-10T11:44:36.407803Z",
     "iopub.status.busy": "2024-04-10T11:44:36.407404Z",
     "iopub.status.idle": "2024-04-10T11:44:36.414026Z",
     "shell.execute_reply": "2024-04-10T11:44:36.413260Z"
    },
    "papermill": {
     "duration": 0.056012,
     "end_time": "2024-04-10T11:44:36.415846",
     "exception": false,
     "start_time": "2024-04-10T11:44:36.359834",
     "status": "completed"
    },
    "tags": []
   },
   "outputs": [
    {
     "data": {
      "text/plain": [
       "Index(['RecipeCode', 'UserReputation', 'ThumbsUpCount', 'ThumbsDownCount',\n",
       "       'Rating', 'BestScore', 'Recipe_Review', 'ReplyCount_0', 'ReplyCount_1',\n",
       "       'ReplyCount_2', 'ReplyCount_3'],\n",
       "      dtype='object')"
      ]
     },
     "execution_count": 104,
     "metadata": {},
     "output_type": "execute_result"
    }
   ],
   "source": [
    "X.columns"
   ]
  },
  {
   "cell_type": "code",
   "execution_count": null,
   "id": "abab9029",
   "metadata": {
    "papermill": {
     "duration": 0.04524,
     "end_time": "2024-04-10T11:44:36.506136",
     "exception": false,
     "start_time": "2024-04-10T11:44:36.460896",
     "status": "completed"
    },
    "tags": []
   },
   "outputs": [],
   "source": []
  },
  {
   "cell_type": "markdown",
   "id": "15390bac",
   "metadata": {
    "papermill": {
     "duration": 0.04576,
     "end_time": "2024-04-10T11:44:36.597044",
     "exception": false,
     "start_time": "2024-04-10T11:44:36.551284",
     "status": "completed"
    },
    "tags": []
   },
   "source": [
    "### **Standard Scalar**"
   ]
  },
  {
   "cell_type": "code",
   "execution_count": 105,
   "id": "b7b4c577",
   "metadata": {
    "execution": {
     "iopub.execute_input": "2024-04-10T11:44:36.694961Z",
     "iopub.status.busy": "2024-04-10T11:44:36.694586Z",
     "iopub.status.idle": "2024-04-10T11:44:36.723446Z",
     "shell.execute_reply": "2024-04-10T11:44:36.722512Z"
    },
    "papermill": {
     "duration": 0.077885,
     "end_time": "2024-04-10T11:44:36.725889",
     "exception": false,
     "start_time": "2024-04-10T11:44:36.648004",
     "status": "completed"
    },
    "tags": []
   },
   "outputs": [],
   "source": [
    "from sklearn.preprocessing import StandardScaler\n",
    "\n",
    "# Select numerical columns for scaling\n",
    "numerical_columns = ['UserReputation', 'ThumbsUpCount', 'ThumbsDownCount', 'BestScore']\n",
    "\n",
    "# Initialize StandardScaler\n",
    "scaler = StandardScaler()\n",
    "\n",
    "X_scaled = X.copy()\n",
    "\n",
    "# Fit and transform the selected columns\n",
    "X_scaled[numerical_columns] = scaler.fit_transform(X[numerical_columns])\n",
    "\n",
    "# Print the scaled DataFrame\n",
    "X_scaled.describe()\n",
    "\n",
    "X = X_scaled"
   ]
  },
  {
   "cell_type": "code",
   "execution_count": 106,
   "id": "97f07800",
   "metadata": {
    "execution": {
     "iopub.execute_input": "2024-04-10T11:44:36.819783Z",
     "iopub.status.busy": "2024-04-10T11:44:36.819418Z",
     "iopub.status.idle": "2024-04-10T11:44:36.848803Z",
     "shell.execute_reply": "2024-04-10T11:44:36.847704Z"
    },
    "papermill": {
     "duration": 0.078485,
     "end_time": "2024-04-10T11:44:36.851100",
     "exception": false,
     "start_time": "2024-04-10T11:44:36.772615",
     "status": "completed"
    },
    "tags": []
   },
   "outputs": [
    {
     "data": {
      "text/html": [
       "<div>\n",
       "<style scoped>\n",
       "    .dataframe tbody tr th:only-of-type {\n",
       "        vertical-align: middle;\n",
       "    }\n",
       "\n",
       "    .dataframe tbody tr th {\n",
       "        vertical-align: top;\n",
       "    }\n",
       "\n",
       "    .dataframe thead th {\n",
       "        text-align: right;\n",
       "    }\n",
       "</style>\n",
       "<table border=\"1\" class=\"dataframe\">\n",
       "  <thead>\n",
       "    <tr style=\"text-align: right;\">\n",
       "      <th></th>\n",
       "      <th>RecipeCode</th>\n",
       "      <th>UserReputation</th>\n",
       "      <th>ThumbsUpCount</th>\n",
       "      <th>ThumbsDownCount</th>\n",
       "      <th>Rating</th>\n",
       "      <th>BestScore</th>\n",
       "    </tr>\n",
       "  </thead>\n",
       "  <tbody>\n",
       "    <tr>\n",
       "      <th>count</th>\n",
       "      <td>18180.000000</td>\n",
       "      <td>1.818000e+04</td>\n",
       "      <td>1.818000e+04</td>\n",
       "      <td>1.818000e+04</td>\n",
       "      <td>13634.000000</td>\n",
       "      <td>1.818000e+04</td>\n",
       "    </tr>\n",
       "    <tr>\n",
       "      <th>mean</th>\n",
       "      <td>21774.727283</td>\n",
       "      <td>2.970366e-17</td>\n",
       "      <td>6.253401e-17</td>\n",
       "      <td>1.836937e-17</td>\n",
       "      <td>4.288617</td>\n",
       "      <td>3.361203e-17</td>\n",
       "    </tr>\n",
       "    <tr>\n",
       "      <th>std</th>\n",
       "      <td>23966.015985</td>\n",
       "      <td>1.000028e+00</td>\n",
       "      <td>1.000028e+00</td>\n",
       "      <td>1.000028e+00</td>\n",
       "      <td>1.544928</td>\n",
       "      <td>1.000028e+00</td>\n",
       "    </tr>\n",
       "    <tr>\n",
       "      <th>min</th>\n",
       "      <td>386.000000</td>\n",
       "      <td>-2.156515e-01</td>\n",
       "      <td>-2.593090e-01</td>\n",
       "      <td>-1.583173e-01</td>\n",
       "      <td>0.000000</td>\n",
       "      <td>-1.085696e+00</td>\n",
       "    </tr>\n",
       "    <tr>\n",
       "      <th>25%</th>\n",
       "      <td>6086.000000</td>\n",
       "      <td>-1.158007e-01</td>\n",
       "      <td>-2.593090e-01</td>\n",
       "      <td>-1.583173e-01</td>\n",
       "      <td>5.000000</td>\n",
       "      <td>-3.768692e-01</td>\n",
       "    </tr>\n",
       "    <tr>\n",
       "      <th>50%</th>\n",
       "      <td>14600.000000</td>\n",
       "      <td>-1.158007e-01</td>\n",
       "      <td>-2.593090e-01</td>\n",
       "      <td>-1.583173e-01</td>\n",
       "      <td>5.000000</td>\n",
       "      <td>-3.768692e-01</td>\n",
       "    </tr>\n",
       "    <tr>\n",
       "      <th>75%</th>\n",
       "      <td>33121.000000</td>\n",
       "      <td>-1.158007e-01</td>\n",
       "      <td>-2.593090e-01</td>\n",
       "      <td>-1.583173e-01</td>\n",
       "      <td>5.000000</td>\n",
       "      <td>-3.768692e-01</td>\n",
       "    </tr>\n",
       "    <tr>\n",
       "      <th>max</th>\n",
       "      <td>191775.000000</td>\n",
       "      <td>5.170681e+01</td>\n",
       "      <td>2.497216e+01</td>\n",
       "      <td>3.615068e+01</td>\n",
       "      <td>5.000000</td>\n",
       "      <td>5.619809e+00</td>\n",
       "    </tr>\n",
       "  </tbody>\n",
       "</table>\n",
       "</div>"
      ],
      "text/plain": [
       "          RecipeCode  UserReputation  ThumbsUpCount  ThumbsDownCount  \\\n",
       "count   18180.000000    1.818000e+04   1.818000e+04     1.818000e+04   \n",
       "mean    21774.727283    2.970366e-17   6.253401e-17     1.836937e-17   \n",
       "std     23966.015985    1.000028e+00   1.000028e+00     1.000028e+00   \n",
       "min       386.000000   -2.156515e-01  -2.593090e-01    -1.583173e-01   \n",
       "25%      6086.000000   -1.158007e-01  -2.593090e-01    -1.583173e-01   \n",
       "50%     14600.000000   -1.158007e-01  -2.593090e-01    -1.583173e-01   \n",
       "75%     33121.000000   -1.158007e-01  -2.593090e-01    -1.583173e-01   \n",
       "max    191775.000000    5.170681e+01   2.497216e+01     3.615068e+01   \n",
       "\n",
       "             Rating     BestScore  \n",
       "count  13634.000000  1.818000e+04  \n",
       "mean       4.288617  3.361203e-17  \n",
       "std        1.544928  1.000028e+00  \n",
       "min        0.000000 -1.085696e+00  \n",
       "25%        5.000000 -3.768692e-01  \n",
       "50%        5.000000 -3.768692e-01  \n",
       "75%        5.000000 -3.768692e-01  \n",
       "max        5.000000  5.619809e+00  "
      ]
     },
     "execution_count": 106,
     "metadata": {},
     "output_type": "execute_result"
    }
   ],
   "source": [
    "X.describe()"
   ]
  },
  {
   "cell_type": "markdown",
   "id": "fd256321",
   "metadata": {
    "papermill": {
     "duration": 0.04538,
     "end_time": "2024-04-10T11:44:36.941905",
     "exception": false,
     "start_time": "2024-04-10T11:44:36.896525",
     "status": "completed"
    },
    "tags": []
   },
   "source": [
    "### **Vectorization**"
   ]
  },
  {
   "cell_type": "code",
   "execution_count": 107,
   "id": "26988cf6",
   "metadata": {
    "execution": {
     "iopub.execute_input": "2024-04-10T11:44:37.036511Z",
     "iopub.status.busy": "2024-04-10T11:44:37.035748Z",
     "iopub.status.idle": "2024-04-10T11:44:37.203348Z",
     "shell.execute_reply": "2024-04-10T11:44:37.202283Z"
    },
    "papermill": {
     "duration": 0.217296,
     "end_time": "2024-04-10T11:44:37.206041",
     "exception": false,
     "start_time": "2024-04-10T11:44:36.988745",
     "status": "completed"
    },
    "tags": []
   },
   "outputs": [
    {
     "name": "stdout",
     "output_type": "stream",
     "text": [
      "       RecipeCode  UserReputation  ThumbsUpCount  ThumbsDownCount  Rating  \\\n",
      "0           12259        1.781366      -0.259309        -0.158317     5.0   \n",
      "1            8202       -0.115801      -0.259309         0.129849     5.0   \n",
      "2            2832       -0.115801      -0.259309        -0.158317     3.0   \n",
      "3          100276       -0.115801      -0.259309        -0.158317     5.0   \n",
      "4           19731       -0.115801      -0.259309        -0.158317     4.0   \n",
      "...           ...             ...            ...              ...     ...   \n",
      "18175       17310       -0.115801      -0.259309        -0.158317     NaN   \n",
      "18176       26937       -0.115801      -0.259309        -0.158317     NaN   \n",
      "18177       41095       -0.115801      -0.259309        -0.158317     NaN   \n",
      "18178       19731       -0.115801      -0.259309         0.129849     NaN   \n",
      "18179       42873       -0.115801      -0.259309        -0.158317     NaN   \n",
      "\n",
      "       BestScore                                      Recipe_Review  \\\n",
      "0      -0.376869  great recipe I have made them just as written ...   \n",
      "1      -0.376869  This is an easy and quick recipe that is great...   \n",
      "2      -0.376869  I think I was looking for something extra spec...   \n",
      "3      -0.376869  This is our favorite grilled chicken recipe  G...   \n",
      "4      -0.376869  Great basic recipe I added 2 teaspoons Tuscan ...   \n",
      "...          ...                                                ...   \n",
      "18175  -0.376869  This is an absolutely wonderful seafood recipe...   \n",
      "18176  -0.376869  This us a definite 34OMG34  Tastes sinful and ...   \n",
      "18177  -0.376869  absolutely greateven husband and grandson love...   \n",
      "18178  -0.376869  I followed directions It tastes very bland Ver...   \n",
      "18179  -0.376869  After reading the amazing reviews I decided to...   \n",
      "\n",
      "       ReplyCount_0  ReplyCount_1  ReplyCount_2  ReplyCount_3  \n",
      "0              True         False         False         False  \n",
      "1              True         False         False         False  \n",
      "2              True         False         False         False  \n",
      "3              True         False         False         False  \n",
      "4              True         False         False         False  \n",
      "...             ...           ...           ...           ...  \n",
      "18175          True         False         False         False  \n",
      "18176          True         False         False         False  \n",
      "18177          True         False         False         False  \n",
      "18178          True         False         False         False  \n",
      "18179          True         False         False         False  \n",
      "\n",
      "[18180 rows x 11 columns]\n"
     ]
    }
   ],
   "source": [
    "#**Vectorization**\n",
    "\n",
    "import pandas as pd\n",
    "import string\n",
    "\n",
    "# Function to remove punctuation\n",
    "def remove_punctuation(text):\n",
    "    translator = str.maketrans('', '', string.punctuation)\n",
    "    return text.translate(translator)\n",
    "\n",
    "# Apply the function to the RecipeReview column\n",
    "X['Recipe_Review'] = X['Recipe_Review'].apply(remove_punctuation)\n",
    "test_data['Recipe_Review'] = test_data['Recipe_Review'].apply(remove_punctuation)\n",
    "\n",
    "print(X)"
   ]
  },
  {
   "cell_type": "code",
   "execution_count": 108,
   "id": "24051d94",
   "metadata": {
    "execution": {
     "iopub.execute_input": "2024-04-10T11:44:37.299761Z",
     "iopub.status.busy": "2024-04-10T11:44:37.299360Z",
     "iopub.status.idle": "2024-04-10T11:44:37.312639Z",
     "shell.execute_reply": "2024-04-10T11:44:37.311295Z"
    },
    "papermill": {
     "duration": 0.062649,
     "end_time": "2024-04-10T11:44:37.315017",
     "exception": false,
     "start_time": "2024-04-10T11:44:37.252368",
     "status": "completed"
    },
    "tags": []
   },
   "outputs": [
    {
     "name": "stdout",
     "output_type": "stream",
     "text": [
      "<class 'pandas.core.frame.DataFrame'>\n",
      "RangeIndex: 18180 entries, 0 to 18179\n",
      "Data columns (total 11 columns):\n",
      " #   Column           Non-Null Count  Dtype  \n",
      "---  ------           --------------  -----  \n",
      " 0   RecipeCode       18180 non-null  int64  \n",
      " 1   UserReputation   18180 non-null  float64\n",
      " 2   ThumbsUpCount    18180 non-null  float64\n",
      " 3   ThumbsDownCount  18180 non-null  float64\n",
      " 4   Rating           13634 non-null  float64\n",
      " 5   BestScore        18180 non-null  float64\n",
      " 6   Recipe_Review    18180 non-null  object \n",
      " 7   ReplyCount_0     18180 non-null  bool   \n",
      " 8   ReplyCount_1     18180 non-null  bool   \n",
      " 9   ReplyCount_2     18180 non-null  bool   \n",
      " 10  ReplyCount_3     18180 non-null  bool   \n",
      "dtypes: bool(4), float64(5), int64(1), object(1)\n",
      "memory usage: 1.0+ MB\n"
     ]
    }
   ],
   "source": [
    "X.info()"
   ]
  },
  {
   "cell_type": "code",
   "execution_count": 109,
   "id": "4b4fb4b3",
   "metadata": {
    "execution": {
     "iopub.execute_input": "2024-04-10T11:44:37.408692Z",
     "iopub.status.busy": "2024-04-10T11:44:37.408322Z",
     "iopub.status.idle": "2024-04-10T11:44:39.731797Z",
     "shell.execute_reply": "2024-04-10T11:44:39.730713Z"
    },
    "papermill": {
     "duration": 2.373654,
     "end_time": "2024-04-10T11:44:39.734475",
     "exception": false,
     "start_time": "2024-04-10T11:44:37.360821",
     "status": "completed"
    },
    "tags": []
   },
   "outputs": [
    {
     "name": "stdout",
     "output_type": "stream",
     "text": [
      "   RecipeCode  UserReputation  ThumbsUpCount  ThumbsDownCount  Rating  \\\n",
      "0       12259        1.781366      -0.259309        -0.158317     5.0   \n",
      "1        8202       -0.115801      -0.259309         0.129849     5.0   \n",
      "2        2832       -0.115801      -0.259309        -0.158317     3.0   \n",
      "3      100276       -0.115801      -0.259309        -0.158317     5.0   \n",
      "4       19731       -0.115801      -0.259309        -0.158317     4.0   \n",
      "\n",
      "   BestScore  ReplyCount_0  ReplyCount_1  ReplyCount_2  ReplyCount_3  ...  \\\n",
      "0  -0.376869          True         False         False         False  ...   \n",
      "1  -0.376869          True         False         False         False  ...   \n",
      "2  -0.376869          True         False         False         False  ...   \n",
      "3  -0.376869          True         False         False         False  ...   \n",
      "4  -0.376869          True         False         False         False  ...   \n",
      "\n",
      "   yummy  zero  zest  zesty  zing  zip  ziplock  zippy  zucchini  zuchinni  \n",
      "0    0.0   0.0   0.0    0.0   0.0  0.0      0.0    0.0       0.0       0.0  \n",
      "1    0.0   0.0   0.0    0.0   0.0  0.0      0.0    0.0       0.0       0.0  \n",
      "2    0.0   0.0   0.0    0.0   0.0  0.0      0.0    0.0       0.0       0.0  \n",
      "3    0.0   0.0   0.0    0.0   0.0  0.0      0.0    0.0       0.0       0.0  \n",
      "4    0.0   0.0   0.0    0.0   0.0  0.0      0.0    0.0       0.0       0.0  \n",
      "\n",
      "[5 rows x 3649 columns]\n"
     ]
    }
   ],
   "source": [
    "from sklearn.feature_extraction.text import TfidfVectorizer\n",
    "import pandas as pd\n",
    "\n",
    "# Assuming df is your DataFrame and 'RecipeReview' is the column you want to vectorize\n",
    "corpus = X['Recipe_Review'].tolist()\n",
    "\n",
    "# Initialize the TfidfVectorizer\n",
    "tfidf_vectorizer = TfidfVectorizer(stop_words='english',           # Ignore common English stop words\n",
    "    analyzer='word',                # Tokenize by word\n",
    "    min_df=5,                       # Ignore terms that have a document frequency strictly lower than 5\n",
    "    max_df=0.7,)\n",
    "\n",
    "# Fit and transform the 'RecipeReview' column to TF-IDF vectors\n",
    "tfidf_matrix = tfidf_vectorizer.fit_transform(corpus)\n",
    "\n",
    "# Convert the TF-IDF matrix to a DataFrame\n",
    "tfidf_df = pd.DataFrame(tfidf_matrix.toarray(), columns=tfidf_vectorizer.get_feature_names_out())\n",
    "\n",
    "# Concatenate the TF-IDF DataFrame with the original DataFrame\n",
    "X = pd.concat([X.drop(columns=['Recipe_Review']), tfidf_df], axis=1)\n",
    "\n",
    "# Optionally, drop the 'RecipeReview' column if you no longer need it\n",
    "# df_concatenated.drop(columns=['RecipeReview'], inplace=True)\n",
    "\n",
    "# Print the updated DataFrame\n",
    "print(X.head())"
   ]
  },
  {
   "cell_type": "code",
   "execution_count": 110,
   "id": "7139390e",
   "metadata": {
    "execution": {
     "iopub.execute_input": "2024-04-10T11:44:39.829612Z",
     "iopub.status.busy": "2024-04-10T11:44:39.828723Z",
     "iopub.status.idle": "2024-04-10T11:44:48.416264Z",
     "shell.execute_reply": "2024-04-10T11:44:48.414943Z"
    },
    "papermill": {
     "duration": 8.638212,
     "end_time": "2024-04-10T11:44:48.418931",
     "exception": false,
     "start_time": "2024-04-10T11:44:39.780719",
     "status": "completed"
    },
    "tags": []
   },
   "outputs": [
    {
     "data": {
      "text/html": [
       "<div>\n",
       "<style scoped>\n",
       "    .dataframe tbody tr th:only-of-type {\n",
       "        vertical-align: middle;\n",
       "    }\n",
       "\n",
       "    .dataframe tbody tr th {\n",
       "        vertical-align: top;\n",
       "    }\n",
       "\n",
       "    .dataframe thead th {\n",
       "        text-align: right;\n",
       "    }\n",
       "</style>\n",
       "<table border=\"1\" class=\"dataframe\">\n",
       "  <thead>\n",
       "    <tr style=\"text-align: right;\">\n",
       "      <th></th>\n",
       "      <th>RecipeCode</th>\n",
       "      <th>UserReputation</th>\n",
       "      <th>ThumbsUpCount</th>\n",
       "      <th>ThumbsDownCount</th>\n",
       "      <th>Rating</th>\n",
       "      <th>BestScore</th>\n",
       "      <th>10</th>\n",
       "      <th>100</th>\n",
       "      <th>1010</th>\n",
       "      <th>1015</th>\n",
       "      <th>...</th>\n",
       "      <th>yummy</th>\n",
       "      <th>zero</th>\n",
       "      <th>zest</th>\n",
       "      <th>zesty</th>\n",
       "      <th>zing</th>\n",
       "      <th>zip</th>\n",
       "      <th>ziplock</th>\n",
       "      <th>zippy</th>\n",
       "      <th>zucchini</th>\n",
       "      <th>zuchinni</th>\n",
       "    </tr>\n",
       "  </thead>\n",
       "  <tbody>\n",
       "    <tr>\n",
       "      <th>count</th>\n",
       "      <td>18180.000000</td>\n",
       "      <td>1.818000e+04</td>\n",
       "      <td>1.818000e+04</td>\n",
       "      <td>1.818000e+04</td>\n",
       "      <td>13634.000000</td>\n",
       "      <td>1.818000e+04</td>\n",
       "      <td>18180.000000</td>\n",
       "      <td>18180.000000</td>\n",
       "      <td>18180.000000</td>\n",
       "      <td>18180.000000</td>\n",
       "      <td>...</td>\n",
       "      <td>18180.000000</td>\n",
       "      <td>18180.000000</td>\n",
       "      <td>18180.000000</td>\n",
       "      <td>18180.000000</td>\n",
       "      <td>18180.000000</td>\n",
       "      <td>18180.000000</td>\n",
       "      <td>18180.000000</td>\n",
       "      <td>18180.000000</td>\n",
       "      <td>18180.000000</td>\n",
       "      <td>18180.000000</td>\n",
       "    </tr>\n",
       "    <tr>\n",
       "      <th>mean</th>\n",
       "      <td>21774.727283</td>\n",
       "      <td>2.970366e-17</td>\n",
       "      <td>6.253401e-17</td>\n",
       "      <td>1.836937e-17</td>\n",
       "      <td>4.288617</td>\n",
       "      <td>3.361203e-17</td>\n",
       "      <td>0.002618</td>\n",
       "      <td>0.000365</td>\n",
       "      <td>0.000141</td>\n",
       "      <td>0.000090</td>\n",
       "      <td>...</td>\n",
       "      <td>0.010082</td>\n",
       "      <td>0.000100</td>\n",
       "      <td>0.000447</td>\n",
       "      <td>0.000164</td>\n",
       "      <td>0.000251</td>\n",
       "      <td>0.000335</td>\n",
       "      <td>0.000086</td>\n",
       "      <td>0.000174</td>\n",
       "      <td>0.003711</td>\n",
       "      <td>0.000134</td>\n",
       "    </tr>\n",
       "    <tr>\n",
       "      <th>std</th>\n",
       "      <td>23966.015985</td>\n",
       "      <td>1.000028e+00</td>\n",
       "      <td>1.000028e+00</td>\n",
       "      <td>1.000028e+00</td>\n",
       "      <td>1.544928</td>\n",
       "      <td>1.000028e+00</td>\n",
       "      <td>0.026300</td>\n",
       "      <td>0.011713</td>\n",
       "      <td>0.007614</td>\n",
       "      <td>0.004793</td>\n",
       "      <td>...</td>\n",
       "      <td>0.063807</td>\n",
       "      <td>0.005670</td>\n",
       "      <td>0.012570</td>\n",
       "      <td>0.007017</td>\n",
       "      <td>0.009962</td>\n",
       "      <td>0.011508</td>\n",
       "      <td>0.004884</td>\n",
       "      <td>0.008642</td>\n",
       "      <td>0.035079</td>\n",
       "      <td>0.008602</td>\n",
       "    </tr>\n",
       "    <tr>\n",
       "      <th>min</th>\n",
       "      <td>386.000000</td>\n",
       "      <td>-2.156515e-01</td>\n",
       "      <td>-2.593090e-01</td>\n",
       "      <td>-1.583173e-01</td>\n",
       "      <td>0.000000</td>\n",
       "      <td>-1.085696e+00</td>\n",
       "      <td>0.000000</td>\n",
       "      <td>0.000000</td>\n",
       "      <td>0.000000</td>\n",
       "      <td>0.000000</td>\n",
       "      <td>...</td>\n",
       "      <td>0.000000</td>\n",
       "      <td>0.000000</td>\n",
       "      <td>0.000000</td>\n",
       "      <td>0.000000</td>\n",
       "      <td>0.000000</td>\n",
       "      <td>0.000000</td>\n",
       "      <td>0.000000</td>\n",
       "      <td>0.000000</td>\n",
       "      <td>0.000000</td>\n",
       "      <td>0.000000</td>\n",
       "    </tr>\n",
       "    <tr>\n",
       "      <th>25%</th>\n",
       "      <td>6086.000000</td>\n",
       "      <td>-1.158007e-01</td>\n",
       "      <td>-2.593090e-01</td>\n",
       "      <td>-1.583173e-01</td>\n",
       "      <td>5.000000</td>\n",
       "      <td>-3.768692e-01</td>\n",
       "      <td>0.000000</td>\n",
       "      <td>0.000000</td>\n",
       "      <td>0.000000</td>\n",
       "      <td>0.000000</td>\n",
       "      <td>...</td>\n",
       "      <td>0.000000</td>\n",
       "      <td>0.000000</td>\n",
       "      <td>0.000000</td>\n",
       "      <td>0.000000</td>\n",
       "      <td>0.000000</td>\n",
       "      <td>0.000000</td>\n",
       "      <td>0.000000</td>\n",
       "      <td>0.000000</td>\n",
       "      <td>0.000000</td>\n",
       "      <td>0.000000</td>\n",
       "    </tr>\n",
       "    <tr>\n",
       "      <th>50%</th>\n",
       "      <td>14600.000000</td>\n",
       "      <td>-1.158007e-01</td>\n",
       "      <td>-2.593090e-01</td>\n",
       "      <td>-1.583173e-01</td>\n",
       "      <td>5.000000</td>\n",
       "      <td>-3.768692e-01</td>\n",
       "      <td>0.000000</td>\n",
       "      <td>0.000000</td>\n",
       "      <td>0.000000</td>\n",
       "      <td>0.000000</td>\n",
       "      <td>...</td>\n",
       "      <td>0.000000</td>\n",
       "      <td>0.000000</td>\n",
       "      <td>0.000000</td>\n",
       "      <td>0.000000</td>\n",
       "      <td>0.000000</td>\n",
       "      <td>0.000000</td>\n",
       "      <td>0.000000</td>\n",
       "      <td>0.000000</td>\n",
       "      <td>0.000000</td>\n",
       "      <td>0.000000</td>\n",
       "    </tr>\n",
       "    <tr>\n",
       "      <th>75%</th>\n",
       "      <td>33121.000000</td>\n",
       "      <td>-1.158007e-01</td>\n",
       "      <td>-2.593090e-01</td>\n",
       "      <td>-1.583173e-01</td>\n",
       "      <td>5.000000</td>\n",
       "      <td>-3.768692e-01</td>\n",
       "      <td>0.000000</td>\n",
       "      <td>0.000000</td>\n",
       "      <td>0.000000</td>\n",
       "      <td>0.000000</td>\n",
       "      <td>...</td>\n",
       "      <td>0.000000</td>\n",
       "      <td>0.000000</td>\n",
       "      <td>0.000000</td>\n",
       "      <td>0.000000</td>\n",
       "      <td>0.000000</td>\n",
       "      <td>0.000000</td>\n",
       "      <td>0.000000</td>\n",
       "      <td>0.000000</td>\n",
       "      <td>0.000000</td>\n",
       "      <td>0.000000</td>\n",
       "    </tr>\n",
       "    <tr>\n",
       "      <th>max</th>\n",
       "      <td>191775.000000</td>\n",
       "      <td>5.170681e+01</td>\n",
       "      <td>2.497216e+01</td>\n",
       "      <td>3.615068e+01</td>\n",
       "      <td>5.000000</td>\n",
       "      <td>5.619809e+00</td>\n",
       "      <td>0.849526</td>\n",
       "      <td>0.597752</td>\n",
       "      <td>0.527703</td>\n",
       "      <td>0.315212</td>\n",
       "      <td>...</td>\n",
       "      <td>1.000000</td>\n",
       "      <td>0.424408</td>\n",
       "      <td>0.584451</td>\n",
       "      <td>0.598835</td>\n",
       "      <td>0.652438</td>\n",
       "      <td>0.729899</td>\n",
       "      <td>0.413557</td>\n",
       "      <td>0.584681</td>\n",
       "      <td>0.717074</td>\n",
       "      <td>0.712372</td>\n",
       "    </tr>\n",
       "  </tbody>\n",
       "</table>\n",
       "<p>8 rows × 3645 columns</p>\n",
       "</div>"
      ],
      "text/plain": [
       "          RecipeCode  UserReputation  ThumbsUpCount  ThumbsDownCount  \\\n",
       "count   18180.000000    1.818000e+04   1.818000e+04     1.818000e+04   \n",
       "mean    21774.727283    2.970366e-17   6.253401e-17     1.836937e-17   \n",
       "std     23966.015985    1.000028e+00   1.000028e+00     1.000028e+00   \n",
       "min       386.000000   -2.156515e-01  -2.593090e-01    -1.583173e-01   \n",
       "25%      6086.000000   -1.158007e-01  -2.593090e-01    -1.583173e-01   \n",
       "50%     14600.000000   -1.158007e-01  -2.593090e-01    -1.583173e-01   \n",
       "75%     33121.000000   -1.158007e-01  -2.593090e-01    -1.583173e-01   \n",
       "max    191775.000000    5.170681e+01   2.497216e+01     3.615068e+01   \n",
       "\n",
       "             Rating     BestScore            10           100          1010  \\\n",
       "count  13634.000000  1.818000e+04  18180.000000  18180.000000  18180.000000   \n",
       "mean       4.288617  3.361203e-17      0.002618      0.000365      0.000141   \n",
       "std        1.544928  1.000028e+00      0.026300      0.011713      0.007614   \n",
       "min        0.000000 -1.085696e+00      0.000000      0.000000      0.000000   \n",
       "25%        5.000000 -3.768692e-01      0.000000      0.000000      0.000000   \n",
       "50%        5.000000 -3.768692e-01      0.000000      0.000000      0.000000   \n",
       "75%        5.000000 -3.768692e-01      0.000000      0.000000      0.000000   \n",
       "max        5.000000  5.619809e+00      0.849526      0.597752      0.527703   \n",
       "\n",
       "               1015  ...         yummy          zero          zest  \\\n",
       "count  18180.000000  ...  18180.000000  18180.000000  18180.000000   \n",
       "mean       0.000090  ...      0.010082      0.000100      0.000447   \n",
       "std        0.004793  ...      0.063807      0.005670      0.012570   \n",
       "min        0.000000  ...      0.000000      0.000000      0.000000   \n",
       "25%        0.000000  ...      0.000000      0.000000      0.000000   \n",
       "50%        0.000000  ...      0.000000      0.000000      0.000000   \n",
       "75%        0.000000  ...      0.000000      0.000000      0.000000   \n",
       "max        0.315212  ...      1.000000      0.424408      0.584451   \n",
       "\n",
       "              zesty          zing           zip       ziplock         zippy  \\\n",
       "count  18180.000000  18180.000000  18180.000000  18180.000000  18180.000000   \n",
       "mean       0.000164      0.000251      0.000335      0.000086      0.000174   \n",
       "std        0.007017      0.009962      0.011508      0.004884      0.008642   \n",
       "min        0.000000      0.000000      0.000000      0.000000      0.000000   \n",
       "25%        0.000000      0.000000      0.000000      0.000000      0.000000   \n",
       "50%        0.000000      0.000000      0.000000      0.000000      0.000000   \n",
       "75%        0.000000      0.000000      0.000000      0.000000      0.000000   \n",
       "max        0.598835      0.652438      0.729899      0.413557      0.584681   \n",
       "\n",
       "           zucchini      zuchinni  \n",
       "count  18180.000000  18180.000000  \n",
       "mean       0.003711      0.000134  \n",
       "std        0.035079      0.008602  \n",
       "min        0.000000      0.000000  \n",
       "25%        0.000000      0.000000  \n",
       "50%        0.000000      0.000000  \n",
       "75%        0.000000      0.000000  \n",
       "max        0.717074      0.712372  \n",
       "\n",
       "[8 rows x 3645 columns]"
      ]
     },
     "execution_count": 110,
     "metadata": {},
     "output_type": "execute_result"
    }
   ],
   "source": [
    "X.describe()"
   ]
  },
  {
   "cell_type": "code",
   "execution_count": 111,
   "id": "b1c6153f",
   "metadata": {
    "execution": {
     "iopub.execute_input": "2024-04-10T11:44:48.516209Z",
     "iopub.status.busy": "2024-04-10T11:44:48.515772Z",
     "iopub.status.idle": "2024-04-10T11:44:48.526197Z",
     "shell.execute_reply": "2024-04-10T11:44:48.525285Z"
    },
    "papermill": {
     "duration": 0.061689,
     "end_time": "2024-04-10T11:44:48.528577",
     "exception": false,
     "start_time": "2024-04-10T11:44:48.466888",
     "status": "completed"
    },
    "tags": []
   },
   "outputs": [
    {
     "name": "stdout",
     "output_type": "stream",
     "text": [
      "<class 'pandas.core.series.Series'>\n",
      "RangeIndex: 18180 entries, 0 to 18179\n",
      "Series name: Rating\n",
      "Non-Null Count  Dtype  \n",
      "--------------  -----  \n",
      "13634 non-null  float64\n",
      "dtypes: float64(1)\n",
      "memory usage: 142.2 KB\n"
     ]
    }
   ],
   "source": [
    "X['Rating'].info()"
   ]
  },
  {
   "cell_type": "markdown",
   "id": "0092a5c5",
   "metadata": {
    "papermill": {
     "duration": 0.047907,
     "end_time": "2024-04-10T11:44:48.624319",
     "exception": false,
     "start_time": "2024-04-10T11:44:48.576412",
     "status": "completed"
    },
    "tags": []
   },
   "source": [
    "### **One Hot Encoding - RecipeCode**"
   ]
  },
  {
   "cell_type": "code",
   "execution_count": 112,
   "id": "b918b0ba",
   "metadata": {
    "execution": {
     "iopub.execute_input": "2024-04-10T11:44:48.726773Z",
     "iopub.status.busy": "2024-04-10T11:44:48.726369Z",
     "iopub.status.idle": "2024-04-10T11:44:49.457934Z",
     "shell.execute_reply": "2024-04-10T11:44:49.456847Z"
    },
    "papermill": {
     "duration": 0.786029,
     "end_time": "2024-04-10T11:44:49.460628",
     "exception": false,
     "start_time": "2024-04-10T11:44:48.674599",
     "status": "completed"
    },
    "tags": []
   },
   "outputs": [],
   "source": [
    "import pandas as pd\n",
    "\n",
    "# Define the columns to be one-hot encoded\n",
    "columns_to_encode = ['RecipeCode']\n",
    "\n",
    "# Perform one-hot encoding for each column\n",
    "encoded_dfs = []\n",
    "for column in columns_to_encode:\n",
    "    encoded_df = pd.get_dummies(X[column], prefix=column)\n",
    "    encoded_dfs.append(encoded_df)\n",
    "\n",
    "# Concatenate the encoded dataframes along axis 1\n",
    "X = pd.concat([X] + encoded_dfs, axis=1)\n",
    "\n",
    "# Drop the original categorical columns if needed\n",
    "X.drop(columns=columns_to_encode, inplace=True)"
   ]
  },
  {
   "cell_type": "code",
   "execution_count": 113,
   "id": "ef31de68",
   "metadata": {
    "execution": {
     "iopub.execute_input": "2024-04-10T11:44:49.556802Z",
     "iopub.status.busy": "2024-04-10T11:44:49.556424Z",
     "iopub.status.idle": "2024-04-10T11:44:49.698422Z",
     "shell.execute_reply": "2024-04-10T11:44:49.697145Z"
    },
    "papermill": {
     "duration": 0.193057,
     "end_time": "2024-04-10T11:44:49.700794",
     "exception": false,
     "start_time": "2024-04-10T11:44:49.507737",
     "status": "completed"
    },
    "tags": []
   },
   "outputs": [
    {
     "name": "stdout",
     "output_type": "stream",
     "text": [
      "<class 'pandas.core.frame.DataFrame'>\n",
      "RangeIndex: 18180 entries, 0 to 18179\n",
      "Columns: 3748 entries, UserReputation to RecipeCode_191775\n",
      "dtypes: bool(104), float64(3644)\n",
      "memory usage: 507.2 MB\n"
     ]
    }
   ],
   "source": [
    "X.info()"
   ]
  },
  {
   "cell_type": "code",
   "execution_count": 114,
   "id": "c8670194",
   "metadata": {
    "execution": {
     "iopub.execute_input": "2024-04-10T11:44:49.799237Z",
     "iopub.status.busy": "2024-04-10T11:44:49.798834Z",
     "iopub.status.idle": "2024-04-10T11:44:49.810341Z",
     "shell.execute_reply": "2024-04-10T11:44:49.809268Z"
    },
    "papermill": {
     "duration": 0.063207,
     "end_time": "2024-04-10T11:44:49.813049",
     "exception": false,
     "start_time": "2024-04-10T11:44:49.749842",
     "status": "completed"
    },
    "tags": []
   },
   "outputs": [
    {
     "name": "stdout",
     "output_type": "stream",
     "text": [
      "Shape of X: (13634, 3748)\n",
      "Shape of test_data_ori: (4546, 3748)\n"
     ]
    }
   ],
   "source": [
    "import pandas as pd\n",
    "\n",
    "# Assuming X is your DataFrame containing the data\n",
    "# Remove the last 4546 rows and store them in test_data_ori\n",
    "test_data_ori = X.iloc[-4546:]\n",
    "\n",
    "# Remove the last 4546 rows from X\n",
    "X = X.iloc[:-4546]\n",
    "\n",
    "# Print the shapes of X and test_data_ori to verify\n",
    "print(\"Shape of X:\", X.shape)\n",
    "print(\"Shape of test_data_ori:\", test_data_ori.shape)"
   ]
  },
  {
   "cell_type": "code",
   "execution_count": 115,
   "id": "4aaa0461",
   "metadata": {
    "execution": {
     "iopub.execute_input": "2024-04-10T11:44:49.910255Z",
     "iopub.status.busy": "2024-04-10T11:44:49.909464Z",
     "iopub.status.idle": "2024-04-10T11:44:49.915602Z",
     "shell.execute_reply": "2024-04-10T11:44:49.914601Z"
    },
    "papermill": {
     "duration": 0.057543,
     "end_time": "2024-04-10T11:44:49.917885",
     "exception": false,
     "start_time": "2024-04-10T11:44:49.860342",
     "status": "completed"
    },
    "tags": []
   },
   "outputs": [
    {
     "name": "stdout",
     "output_type": "stream",
     "text": [
      "Number of entries with NaN values in the 'Rating' column: 0\n"
     ]
    }
   ],
   "source": [
    "# Count the number of entries with NaN values in the 'Rating' column of DataFrame X\n",
    "nan_count_rating = X['Rating'].isna().sum()\n",
    "\n",
    "# Print the count of NaN values in the 'Rating' column\n",
    "print(\"Number of entries with NaN values in the 'Rating' column:\", nan_count_rating)"
   ]
  },
  {
   "cell_type": "code",
   "execution_count": 116,
   "id": "fe9f60b3",
   "metadata": {
    "execution": {
     "iopub.execute_input": "2024-04-10T11:44:50.014688Z",
     "iopub.status.busy": "2024-04-10T11:44:50.014324Z",
     "iopub.status.idle": "2024-04-10T11:44:50.421046Z",
     "shell.execute_reply": "2024-04-10T11:44:50.419913Z"
    },
    "papermill": {
     "duration": 0.457974,
     "end_time": "2024-04-10T11:44:50.423756",
     "exception": false,
     "start_time": "2024-04-10T11:44:49.965782",
     "status": "completed"
    },
    "tags": []
   },
   "outputs": [
    {
     "name": "stdout",
     "output_type": "stream",
     "text": [
      "Number of entries with NaN values in X_train: 0\n"
     ]
    }
   ],
   "source": [
    "# Drop rows with NaN values in the 'Rating' column of DataFrame X\n",
    "X.dropna(subset=['Rating'], inplace=True)\n",
    "\n",
    "# Count the number of entries with NaN values in X_train\n",
    "nan_entries_count = X.isna().any(axis=1).sum()\n",
    "\n",
    "# Print the count of entries with NaN values\n",
    "print(\"Number of entries with NaN values in X_train:\", nan_entries_count)\n",
    "\n",
    "# Drop rows with any NaN values in X_train\n",
    "X.dropna(inplace=True)"
   ]
  },
  {
   "cell_type": "code",
   "execution_count": 117,
   "id": "d34af9b6",
   "metadata": {
    "execution": {
     "iopub.execute_input": "2024-04-10T11:44:50.523081Z",
     "iopub.status.busy": "2024-04-10T11:44:50.522671Z",
     "iopub.status.idle": "2024-04-10T11:44:50.533970Z",
     "shell.execute_reply": "2024-04-10T11:44:50.533010Z"
    },
    "papermill": {
     "duration": 0.063795,
     "end_time": "2024-04-10T11:44:50.536258",
     "exception": false,
     "start_time": "2024-04-10T11:44:50.472463",
     "status": "completed"
    },
    "tags": []
   },
   "outputs": [
    {
     "data": {
      "text/plain": [
       "count    13634.000000\n",
       "mean         4.288617\n",
       "std          1.544928\n",
       "min          0.000000\n",
       "25%          5.000000\n",
       "50%          5.000000\n",
       "75%          5.000000\n",
       "max          5.000000\n",
       "Name: Rating, dtype: float64"
      ]
     },
     "execution_count": 117,
     "metadata": {},
     "output_type": "execute_result"
    }
   ],
   "source": [
    "X['Rating'].describe()"
   ]
  },
  {
   "cell_type": "code",
   "execution_count": 118,
   "id": "417a5d20",
   "metadata": {
    "execution": {
     "iopub.execute_input": "2024-04-10T11:44:50.633808Z",
     "iopub.status.busy": "2024-04-10T11:44:50.633431Z",
     "iopub.status.idle": "2024-04-10T11:44:50.638957Z",
     "shell.execute_reply": "2024-04-10T11:44:50.637897Z"
    },
    "papermill": {
     "duration": 0.056846,
     "end_time": "2024-04-10T11:44:50.641336",
     "exception": false,
     "start_time": "2024-04-10T11:44:50.584490",
     "status": "completed"
    },
    "tags": []
   },
   "outputs": [],
   "source": [
    "y=X.pop('Rating')"
   ]
  },
  {
   "cell_type": "markdown",
   "id": "1ffa5599",
   "metadata": {
    "papermill": {
     "duration": 0.047481,
     "end_time": "2024-04-10T11:44:50.737623",
     "exception": false,
     "start_time": "2024-04-10T11:44:50.690142",
     "status": "completed"
    },
    "tags": []
   },
   "source": [
    "### **Splitting Dataset in Train and Test**"
   ]
  },
  {
   "cell_type": "code",
   "execution_count": 119,
   "id": "c53a8a2c",
   "metadata": {
    "execution": {
     "iopub.execute_input": "2024-04-10T11:44:50.834874Z",
     "iopub.status.busy": "2024-04-10T11:44:50.834471Z",
     "iopub.status.idle": "2024-04-10T11:44:51.079319Z",
     "shell.execute_reply": "2024-04-10T11:44:51.077923Z"
    },
    "papermill": {
     "duration": 0.296365,
     "end_time": "2024-04-10T11:44:51.081854",
     "exception": false,
     "start_time": "2024-04-10T11:44:50.785489",
     "status": "completed"
    },
    "tags": []
   },
   "outputs": [
    {
     "name": "stdout",
     "output_type": "stream",
     "text": [
      "Training set shape (X, y): (10907, 3747) (10907,)\n",
      "Validation set shape (X, y): (2727, 3747) (2727,)\n"
     ]
    }
   ],
   "source": [
    "#**Split train_data into train and validation set**\n",
    "\n",
    "from sklearn.model_selection import train_test_split\n",
    "\n",
    "X_train, X_val, y_train, y_val = train_test_split(X, y, test_size=0.2, random_state=42)\n",
    "\n",
    "# Print the shapes of the training and validation sets to verify the split\n",
    "print(\"Training set shape (X, y):\", X_train.shape, y_train.shape)\n",
    "print(\"Validation set shape (X, y):\", X_val.shape, y_val.shape)"
   ]
  },
  {
   "cell_type": "code",
   "execution_count": 120,
   "id": "0b03adef",
   "metadata": {
    "execution": {
     "iopub.execute_input": "2024-04-10T11:44:51.179268Z",
     "iopub.status.busy": "2024-04-10T11:44:51.178849Z",
     "iopub.status.idle": "2024-04-10T11:44:51.184589Z",
     "shell.execute_reply": "2024-04-10T11:44:51.183487Z"
    },
    "papermill": {
     "duration": 0.056804,
     "end_time": "2024-04-10T11:44:51.186894",
     "exception": false,
     "start_time": "2024-04-10T11:44:51.130090",
     "status": "completed"
    },
    "tags": []
   },
   "outputs": [
    {
     "name": "stdout",
     "output_type": "stream",
     "text": [
      "Count of NaN values in y_train: 0\n"
     ]
    }
   ],
   "source": [
    "# Count the number of NaN values in y_train\n",
    "nan_count_y_train = y_train.isna().sum()\n",
    "\n",
    "# Print the count of NaN values in y_train\n",
    "print(\"Count of NaN values in y_train:\", nan_count_y_train)"
   ]
  },
  {
   "cell_type": "markdown",
   "id": "664ae8ed",
   "metadata": {
    "papermill": {
     "duration": 0.047322,
     "end_time": "2024-04-10T11:44:51.281925",
     "exception": false,
     "start_time": "2024-04-10T11:44:51.234603",
     "status": "completed"
    },
    "tags": []
   },
   "source": [
    "# **Model Creation**"
   ]
  },
  {
   "cell_type": "markdown",
   "id": "e270ac47",
   "metadata": {
    "papermill": {
     "duration": 0.047129,
     "end_time": "2024-04-10T11:44:51.376268",
     "exception": false,
     "start_time": "2024-04-10T11:44:51.329139",
     "status": "completed"
    },
    "tags": []
   },
   "source": [
    "#### **Baseline Logistic Regression Model**"
   ]
  },
  {
   "cell_type": "code",
   "execution_count": 121,
   "id": "187e8757",
   "metadata": {
    "execution": {
     "iopub.execute_input": "2024-04-10T11:44:51.472592Z",
     "iopub.status.busy": "2024-04-10T11:44:51.472193Z",
     "iopub.status.idle": "2024-04-10T11:44:51.479086Z",
     "shell.execute_reply": "2024-04-10T11:44:51.477994Z"
    },
    "papermill": {
     "duration": 0.057492,
     "end_time": "2024-04-10T11:44:51.481228",
     "exception": false,
     "start_time": "2024-04-10T11:44:51.423736",
     "status": "completed"
    },
    "tags": []
   },
   "outputs": [
    {
     "data": {
      "text/plain": [
       "'from sklearn.linear_model import LogisticRegression\\nfrom sklearn.model_selection import cross_val_score\\n\\n# Initialize the Logistic Regression model\\nlog_reg_model = LogisticRegression(max_iter=2000)\\n\\n# Perform cross-validation\\ncv_scores = cross_val_score(log_reg_model, X_train, y_train, cv=5, scoring=\\'accuracy\\')\\n\\n# Print the cross-validation scores\\nprint(\"Cross-validation scores:\", cv_scores)\\nprint(\"Mean CV Accuracy:\", cv_scores.mean())'"
      ]
     },
     "execution_count": 121,
     "metadata": {},
     "output_type": "execute_result"
    }
   ],
   "source": [
    "\"\"\"from sklearn.linear_model import LogisticRegression\n",
    "from sklearn.model_selection import cross_val_score\n",
    "\n",
    "# Initialize the Logistic Regression model\n",
    "log_reg_model = LogisticRegression(max_iter=2000)\n",
    "\n",
    "# Perform cross-validation\n",
    "cv_scores = cross_val_score(log_reg_model, X_train, y_train, cv=5, scoring='accuracy')\n",
    "\n",
    "# Print the cross-validation scores\n",
    "print(\"Cross-validation scores:\", cv_scores)\n",
    "print(\"Mean CV Accuracy:\", cv_scores.mean())\"\"\""
   ]
  },
  {
   "cell_type": "markdown",
   "id": "887a149c",
   "metadata": {
    "papermill": {
     "duration": 0.047316,
     "end_time": "2024-04-10T11:44:51.575724",
     "exception": false,
     "start_time": "2024-04-10T11:44:51.528408",
     "status": "completed"
    },
    "tags": []
   },
   "source": [
    "Cross-validation scores: [0.76676245 0.76569238 0.76904648 0.76808816 0.77000479]\n",
    "Mean CV Accuracy: 0.7679188536222226\n",
    "\n",
    "Cross-validation scores: [0.76878889 0.7683102  0.77022499 0.76867816 0.76772031]\n",
    "Mean CV Accuracy: 0.7687445091878826\n",
    "\n",
    "RecipeCode = Cross-validation scores: [0.7683102  0.76926759 0.76878889 0.76819923 0.7658046 ]\n",
    "Mean CV Accuracy: 0.7680741028081778\n",
    "\n",
    "RecipeNumber = Cross-validation scores: [0.7683102  0.76926759 0.76878889 0.76867816 0.7658046 ]\n",
    "Mean CV Accuracy: 0.768169888248791\n",
    "\n",
    "RecipeName = Cross-validation scores: [0.76878889 0.7683102  0.77022499 0.76867816 0.76772031]\n",
    "Mean CV Accuracy: 0.7687445091878826\n",
    "\n",
    "All = Cross-validation scores: [0.7683102  0.76926759 0.76878889 0.76915709 0.7658046 ]\n",
    "Mean CV Accuracy: 0.7682656736894039\n",
    "\n",
    "OHE RecipeName = Cross-validation scores: [0.76878889 0.76926759 0.7678315  0.76867816 0.76772031]\n",
    "Mean CV Accuracy: 0.7684572904229232\n",
    "\n",
    "Time = Cross-validation scores: [0.76856095 0.77176902 0.76386978 0.7734984  0.77258138]\n",
    "Mean CV Accuracy: 0.7700559073844564"
   ]
  },
  {
   "cell_type": "code",
   "execution_count": 122,
   "id": "18b91890",
   "metadata": {
    "execution": {
     "iopub.execute_input": "2024-04-10T11:44:51.671757Z",
     "iopub.status.busy": "2024-04-10T11:44:51.671409Z",
     "iopub.status.idle": "2024-04-10T11:44:51.677492Z",
     "shell.execute_reply": "2024-04-10T11:44:51.676676Z"
    },
    "papermill": {
     "duration": 0.056597,
     "end_time": "2024-04-10T11:44:51.679529",
     "exception": false,
     "start_time": "2024-04-10T11:44:51.622932",
     "status": "completed"
    },
    "tags": []
   },
   "outputs": [
    {
     "data": {
      "text/plain": [
       "\"import matplotlib.pyplot as plt\\nfrom sklearn.linear_model import LogisticRegression\\nfrom sklearn.model_selection import cross_val_score\\n\\n# Initialize lists to store mean scores and number of folds\\nmean_scores = []\\nnum_folds = list(range(4, 15))\\n\\n# Iterate over different number of folds\\nfor folds in num_folds:\\n    # Initialize the Logistic Regression model\\n    logistic_model = LogisticRegression(max_iter=2000)\\n    \\n    # Perform cross-validation\\n    scores = cross_val_score(logistic_model, X_train, y_train, cv=folds, scoring='accuracy')\\n    \\n    # Calculate mean score and append to list\\n    mean_scores.append(scores.mean())\\n    \\n    print([folds,scores.mean()])\\n\\n# Plot the graph\\nplt.plot(num_folds, mean_scores, marker='o')\\nplt.title('Cross-Validation Score vs. Number of Folds')\\nplt.xlabel('Number of Folds')\\nplt.ylabel('Accuracy')\\nplt.grid(True)\\nplt.show()\""
      ]
     },
     "execution_count": 122,
     "metadata": {},
     "output_type": "execute_result"
    }
   ],
   "source": [
    "\"\"\"import matplotlib.pyplot as plt\n",
    "from sklearn.linear_model import LogisticRegression\n",
    "from sklearn.model_selection import cross_val_score\n",
    "\n",
    "# Initialize lists to store mean scores and number of folds\n",
    "mean_scores = []\n",
    "num_folds = list(range(4, 15))\n",
    "\n",
    "# Iterate over different number of folds\n",
    "for folds in num_folds:\n",
    "    # Initialize the Logistic Regression model\n",
    "    logistic_model = LogisticRegression(max_iter=2000)\n",
    "    \n",
    "    # Perform cross-validation\n",
    "    scores = cross_val_score(logistic_model, X_train, y_train, cv=folds, scoring='accuracy')\n",
    "    \n",
    "    # Calculate mean score and append to list\n",
    "    mean_scores.append(scores.mean())\n",
    "    \n",
    "    print([folds,scores.mean()])\n",
    "\n",
    "# Plot the graph\n",
    "plt.plot(num_folds, mean_scores, marker='o')\n",
    "plt.title('Cross-Validation Score vs. Number of Folds')\n",
    "plt.xlabel('Number of Folds')\n",
    "plt.ylabel('Accuracy')\n",
    "plt.grid(True)\n",
    "plt.show()\"\"\""
   ]
  },
  {
   "cell_type": "code",
   "execution_count": 123,
   "id": "43541d77",
   "metadata": {
    "execution": {
     "iopub.execute_input": "2024-04-10T11:44:51.776281Z",
     "iopub.status.busy": "2024-04-10T11:44:51.775880Z",
     "iopub.status.idle": "2024-04-10T11:44:51.782964Z",
     "shell.execute_reply": "2024-04-10T11:44:51.781890Z"
    },
    "papermill": {
     "duration": 0.058008,
     "end_time": "2024-04-10T11:44:51.785399",
     "exception": false,
     "start_time": "2024-04-10T11:44:51.727391",
     "status": "completed"
    },
    "tags": []
   },
   "outputs": [
    {
     "data": {
      "text/plain": [
       "'from sklearn.linear_model import LogisticRegression\\nfrom sklearn.model_selection import cross_val_score\\n\\n# Initialize the Logistic Regression model\\nlog_reg_model = LogisticRegression(max_iter=2000)\\n\\n# Perform cross-validation\\ncv_scores = cross_val_score(log_reg_model, X_train, y_train, cv=13, scoring=\\'accuracy\\')\\n\\n# Print the cross-validation scores\\nprint(\"Cross-validation scores:\", cv_scores)\\nprint(\"Mean CV Score:\", cv_scores.mean())'"
      ]
     },
     "execution_count": 123,
     "metadata": {},
     "output_type": "execute_result"
    }
   ],
   "source": [
    "\"\"\"from sklearn.linear_model import LogisticRegression\n",
    "from sklearn.model_selection import cross_val_score\n",
    "\n",
    "# Initialize the Logistic Regression model\n",
    "log_reg_model = LogisticRegression(max_iter=2000)\n",
    "\n",
    "# Perform cross-validation\n",
    "cv_scores = cross_val_score(log_reg_model, X_train, y_train, cv=13, scoring='accuracy')\n",
    "\n",
    "# Print the cross-validation scores\n",
    "print(\"Cross-validation scores:\", cv_scores)\n",
    "print(\"Mean CV Score:\", cv_scores.mean())\"\"\""
   ]
  },
  {
   "cell_type": "markdown",
   "id": "bc158d98",
   "metadata": {
    "papermill": {
     "duration": 0.0477,
     "end_time": "2024-04-10T11:44:51.882064",
     "exception": false,
     "start_time": "2024-04-10T11:44:51.834364",
     "status": "completed"
    },
    "tags": []
   },
   "source": [
    "### **Hyperparameter tuning**"
   ]
  },
  {
   "cell_type": "code",
   "execution_count": 124,
   "id": "08584103",
   "metadata": {
    "execution": {
     "iopub.execute_input": "2024-04-10T11:44:51.979390Z",
     "iopub.status.busy": "2024-04-10T11:44:51.978921Z",
     "iopub.status.idle": "2024-04-10T11:44:51.985985Z",
     "shell.execute_reply": "2024-04-10T11:44:51.984926Z"
    },
    "papermill": {
     "duration": 0.058585,
     "end_time": "2024-04-10T11:44:51.988346",
     "exception": false,
     "start_time": "2024-04-10T11:44:51.929761",
     "status": "completed"
    },
    "tags": []
   },
   "outputs": [
    {
     "data": {
      "text/plain": [
       "'from sklearn.model_selection import GridSearchCV\\nfrom sklearn.linear_model import LogisticRegression\\nfrom sklearn.metrics import accuracy_score\\n\\n# Define the hyperparameters grid\\nparam_grid = {\\n    \\'C\\': [0.1, 1, 10],  # Regularization parameter\\n    \\'penalty\\': [ \\'l2\\'],  \\n    \\'solver\\': [\\'newton-cg\\'],  # Choose compatible solvers\\n    \\'max_iter\\': [200,300,400],  # Reduce maximum iterations\\n    \\'class_weight\\': [None, \\'balanced\\']\\n}\\n\\n# Initialize the Logistic Regression model\\nlogistic_model = LogisticRegression()\\n\\n# Initialize GridSearchCV with n-fold cross-validation\\ngrid_search = GridSearchCV(logistic_model, param_grid, cv=10, scoring=\\'accuracy\\')\\n\\n# Perform grid search to find the best hyperparameters\\ngrid_search.fit(X_train, y_train)\\n\\n# Print the best hyperparameters found\\nprint(\"Best Hyperparameters:\", grid_search.best_params_)\\n\\n# Get the best model\\nbest_model = grid_search.best_estimator_\\n\\n# Evaluate the best model on the validation set\\ny_pred = best_model.predict(X_val)\\n\\n# Calculate accuracy\\naccuracy = accuracy_score(y_val, y_pred)\\nprint(\"Accuracy on Validation Set:\", accuracy)'"
      ]
     },
     "execution_count": 124,
     "metadata": {},
     "output_type": "execute_result"
    }
   ],
   "source": [
    "\"\"\"from sklearn.model_selection import GridSearchCV\n",
    "from sklearn.linear_model import LogisticRegression\n",
    "from sklearn.metrics import accuracy_score\n",
    "\n",
    "# Define the hyperparameters grid\n",
    "param_grid = {\n",
    "    'C': [0.1, 1, 10],  # Regularization parameter\n",
    "    'penalty': [ 'l2'],  \n",
    "    'solver': ['newton-cg'],  # Choose compatible solvers\n",
    "    'max_iter': [200,300,400],  # Reduce maximum iterations\n",
    "    'class_weight': [None, 'balanced']\n",
    "}\n",
    "\n",
    "# Initialize the Logistic Regression model\n",
    "logistic_model = LogisticRegression()\n",
    "\n",
    "# Initialize GridSearchCV with n-fold cross-validation\n",
    "grid_search = GridSearchCV(logistic_model, param_grid, cv=10, scoring='accuracy')\n",
    "\n",
    "# Perform grid search to find the best hyperparameters\n",
    "grid_search.fit(X_train, y_train)\n",
    "\n",
    "# Print the best hyperparameters found\n",
    "print(\"Best Hyperparameters:\", grid_search.best_params_)\n",
    "\n",
    "# Get the best model\n",
    "best_model = grid_search.best_estimator_\n",
    "\n",
    "# Evaluate the best model on the validation set\n",
    "y_pred = best_model.predict(X_val)\n",
    "\n",
    "# Calculate accuracy\n",
    "accuracy = accuracy_score(y_val, y_pred)\n",
    "print(\"Accuracy on Validation Set:\", accuracy)\"\"\""
   ]
  },
  {
   "cell_type": "code",
   "execution_count": 125,
   "id": "fefe25e3",
   "metadata": {
    "execution": {
     "iopub.execute_input": "2024-04-10T11:44:52.088999Z",
     "iopub.status.busy": "2024-04-10T11:44:52.088573Z",
     "iopub.status.idle": "2024-04-10T11:44:52.096039Z",
     "shell.execute_reply": "2024-04-10T11:44:52.094886Z"
    },
    "papermill": {
     "duration": 0.061089,
     "end_time": "2024-04-10T11:44:52.098252",
     "exception": false,
     "start_time": "2024-04-10T11:44:52.037163",
     "status": "completed"
    },
    "tags": []
   },
   "outputs": [
    {
     "data": {
      "text/plain": [
       "'from sklearn.model_selection import GridSearchCV\\nfrom sklearn.linear_model import LogisticRegression\\nfrom sklearn.metrics import accuracy_score\\n\\n# Define the hyperparameters grid\\nparam_grid = {\\n    \\'C\\': [1],  # Regularization parameter\\n    \\'penalty\\': [\\'l1\\', \\'l2\\'],  \\n    \\'solver\\': [\\'liblinear\\'],  # Choose compatible solvers\\n    \\'max_iter\\': [200],  # Reduce maximum iterations\\n    \\'class_weight\\': [None, \\'balanced\\']\\n}\\n\\n# Initialize the Logistic Regression model\\nlogistic_model = LogisticRegression()\\n\\n# Initialize GridSearchCV with n-fold cross-validation\\ngrid_search = GridSearchCV(logistic_model, param_grid, cv=10, scoring=\\'accuracy\\')\\n\\n# Perform grid search to find the best hyperparameters\\ngrid_search.fit(X_train, y_train)\\n\\n# Print the best hyperparameters found\\nprint(\"Best Hyperparameters:\", grid_search.best_params_)\\n\\n# Get the best model\\nbest_model = grid_search.best_estimator_\\n\\n# Evaluate the best model on the validation set\\ny_pred = best_model.predict(X_val)\\n\\n# Calculate accuracy\\naccuracy = accuracy_score(y_val, y_pred)\\nprint(\"Accuracy on Validation Set:\", accuracy)'"
      ]
     },
     "execution_count": 125,
     "metadata": {},
     "output_type": "execute_result"
    }
   ],
   "source": [
    "\"\"\"from sklearn.model_selection import GridSearchCV\n",
    "from sklearn.linear_model import LogisticRegression\n",
    "from sklearn.metrics import accuracy_score\n",
    "\n",
    "# Define the hyperparameters grid\n",
    "param_grid = {\n",
    "    'C': [1],  # Regularization parameter\n",
    "    'penalty': ['l1', 'l2'],  \n",
    "    'solver': ['liblinear'],  # Choose compatible solvers\n",
    "    'max_iter': [200],  # Reduce maximum iterations\n",
    "    'class_weight': [None, 'balanced']\n",
    "}\n",
    "\n",
    "# Initialize the Logistic Regression model\n",
    "logistic_model = LogisticRegression()\n",
    "\n",
    "# Initialize GridSearchCV with n-fold cross-validation\n",
    "grid_search = GridSearchCV(logistic_model, param_grid, cv=10, scoring='accuracy')\n",
    "\n",
    "# Perform grid search to find the best hyperparameters\n",
    "grid_search.fit(X_train, y_train)\n",
    "\n",
    "# Print the best hyperparameters found\n",
    "print(\"Best Hyperparameters:\", grid_search.best_params_)\n",
    "\n",
    "# Get the best model\n",
    "best_model = grid_search.best_estimator_\n",
    "\n",
    "# Evaluate the best model on the validation set\n",
    "y_pred = best_model.predict(X_val)\n",
    "\n",
    "# Calculate accuracy\n",
    "accuracy = accuracy_score(y_val, y_pred)\n",
    "print(\"Accuracy on Validation Set:\", accuracy)\"\"\""
   ]
  },
  {
   "cell_type": "markdown",
   "id": "8b1b9c55",
   "metadata": {
    "papermill": {
     "duration": 0.047715,
     "end_time": "2024-04-10T11:44:52.193760",
     "exception": false,
     "start_time": "2024-04-10T11:44:52.146045",
     "status": "completed"
    },
    "tags": []
   },
   "source": [
    "Best Hyperparameters: {'C': 1, 'penalty': 'l2', 'solver': 'liblinear'}\n",
    "Accuracy on Validation Set: 0.766043270993766\n",
    "\n",
    "Best Hyperparameters: {'C': 1, 'class_weight': None, 'max_iter': 200, 'penalty': 'l2', 'solver': 'liblinear'}\n",
    "Accuracy on Validation Set: 0.766043270993766\n",
    "\n",
    "Best Hyperparameters: {'C': 1, 'class_weight': None, 'max_iter': 300, 'penalty': 'l2', 'solver': 'liblinear'}\n",
    "Accuracy on Validation Set: 0.7748441510817748"
   ]
  },
  {
   "cell_type": "markdown",
   "id": "1b3f4499",
   "metadata": {
    "papermill": {
     "duration": 0.047669,
     "end_time": "2024-04-10T11:44:52.289413",
     "exception": false,
     "start_time": "2024-04-10T11:44:52.241744",
     "status": "completed"
    },
    "tags": []
   },
   "source": []
  },
  {
   "cell_type": "code",
   "execution_count": 126,
   "id": "32cde6e2",
   "metadata": {
    "execution": {
     "iopub.execute_input": "2024-04-10T11:44:52.388059Z",
     "iopub.status.busy": "2024-04-10T11:44:52.387644Z",
     "iopub.status.idle": "2024-04-10T11:44:52.395470Z",
     "shell.execute_reply": "2024-04-10T11:44:52.394337Z"
    },
    "papermill": {
     "duration": 0.059905,
     "end_time": "2024-04-10T11:44:52.397684",
     "exception": false,
     "start_time": "2024-04-10T11:44:52.337779",
     "status": "completed"
    },
    "tags": []
   },
   "outputs": [
    {
     "data": {
      "text/plain": [
       "'from sklearn.model_selection import GridSearchCV\\nfrom sklearn.linear_model import LogisticRegression\\nfrom sklearn.metrics import accuracy_score\\n\\n# Define the hyperparameters grid\\nparam_grid = {\\n    \\'C\\': [0.001, 0.01, 0.1, 1, 10, 100],  # Regularization strength\\n    \\'penalty\\': [\\'l2\\'],  # Type of penalty (L2 regularization) compatible with Newton-CG solver\\n    \\'solver\\': [\\'newton-cg\\'],  # Solver algorithm for optimization\\n    \\'max_iter\\': [100, 200, 300],  # Maximum number of iterations for optimization\\n    \\'fit_intercept\\': [True, False],  # Whether to calculate the intercept for this model\\n    \\'class_weight\\': [None, \\'balanced\\'],  # Weights associated with classes\\n    \\'warm_start\\': [True, False],  # Whether to reuse the solution of the previous call to fit as initialization\\n    \\'tol\\': [1e-3, 1e-4, 1e-5]  # Tolerance for stopping criteria\\n}\\n\\n\\n# Initialize the Logistic Regression model\\nlogistic_model = LogisticRegression()\\n\\n# Initialize GridSearchCV with n-fold cross-validation\\ngrid_search = GridSearchCV(logistic_model, param_grid, cv=8, scoring=\\'accuracy\\')\\n\\n# Perform grid search to find the best hyperparameters\\ngrid_search.fit(X_train, y_train)\\n\\n# Print the best hyperparameters found\\nprint(\"Best Hyperparameters:\", grid_search.best_params_)\\n\\n# Get the best model\\nbest_model = grid_search.best_estimator_\\n\\n# Evaluate the best model on the validation set\\ny_pred = best_model.predict(X_val)\\n\\n# Calculate accuracy\\naccuracy = accuracy_score(y_val, y_pred)\\nprint(\"Accuracy on Validation Set:\", accuracy)'"
      ]
     },
     "execution_count": 126,
     "metadata": {},
     "output_type": "execute_result"
    }
   ],
   "source": [
    "\"\"\"from sklearn.model_selection import GridSearchCV\n",
    "from sklearn.linear_model import LogisticRegression\n",
    "from sklearn.metrics import accuracy_score\n",
    "\n",
    "# Define the hyperparameters grid\n",
    "param_grid = {\n",
    "    'C': [0.001, 0.01, 0.1, 1, 10, 100],  # Regularization strength\n",
    "    'penalty': ['l2'],  # Type of penalty (L2 regularization) compatible with Newton-CG solver\n",
    "    'solver': ['newton-cg'],  # Solver algorithm for optimization\n",
    "    'max_iter': [100, 200, 300],  # Maximum number of iterations for optimization\n",
    "    'fit_intercept': [True, False],  # Whether to calculate the intercept for this model\n",
    "    'class_weight': [None, 'balanced'],  # Weights associated with classes\n",
    "    'warm_start': [True, False],  # Whether to reuse the solution of the previous call to fit as initialization\n",
    "    'tol': [1e-3, 1e-4, 1e-5]  # Tolerance for stopping criteria\n",
    "}\n",
    "\n",
    "\n",
    "# Initialize the Logistic Regression model\n",
    "logistic_model = LogisticRegression()\n",
    "\n",
    "# Initialize GridSearchCV with n-fold cross-validation\n",
    "grid_search = GridSearchCV(logistic_model, param_grid, cv=8, scoring='accuracy')\n",
    "\n",
    "# Perform grid search to find the best hyperparameters\n",
    "grid_search.fit(X_train, y_train)\n",
    "\n",
    "# Print the best hyperparameters found\n",
    "print(\"Best Hyperparameters:\", grid_search.best_params_)\n",
    "\n",
    "# Get the best model\n",
    "best_model = grid_search.best_estimator_\n",
    "\n",
    "# Evaluate the best model on the validation set\n",
    "y_pred = best_model.predict(X_val)\n",
    "\n",
    "# Calculate accuracy\n",
    "accuracy = accuracy_score(y_val, y_pred)\n",
    "print(\"Accuracy on Validation Set:\", accuracy)\"\"\""
   ]
  },
  {
   "cell_type": "markdown",
   "id": "f9d0bc17",
   "metadata": {
    "papermill": {
     "duration": 0.047599,
     "end_time": "2024-04-10T11:44:52.495379",
     "exception": false,
     "start_time": "2024-04-10T11:44:52.447780",
     "status": "completed"
    },
    "tags": []
   },
   "source": [
    "RecipeCode - Best Hyperparameters: {'C': 1, 'class_weight': None, 'max_iter': 300, 'penalty': 'l1', 'solver': 'liblinear'}\n",
    "Accuracy on Validation Set: 0.7571811566449637\n",
    "\n",
    "RecipeNumber - Best Hyperparameters: {'C': 1, 'class_weight': None, 'max_iter': 300, 'penalty': 'l1', 'solver': 'liblinear'}\n",
    "Accuracy on Validation Set: 0.7571811566449637\n",
    "\n",
    "RecipeName - Best Hyperparameters: {'C': 100, 'class_weight': None, 'max_iter': 300, 'penalty': 'l2', 'solver': 'liblinear'}\n",
    "Accuracy on Validation Set: 0.7556491765607047"
   ]
  },
  {
   "cell_type": "code",
   "execution_count": 127,
   "id": "9e6ddc90",
   "metadata": {
    "execution": {
     "iopub.execute_input": "2024-04-10T11:44:52.593702Z",
     "iopub.status.busy": "2024-04-10T11:44:52.593331Z",
     "iopub.status.idle": "2024-04-10T11:44:52.599682Z",
     "shell.execute_reply": "2024-04-10T11:44:52.598579Z"
    },
    "papermill": {
     "duration": 0.058669,
     "end_time": "2024-04-10T11:44:52.601869",
     "exception": false,
     "start_time": "2024-04-10T11:44:52.543200",
     "status": "completed"
    },
    "tags": []
   },
   "outputs": [
    {
     "data": {
      "text/plain": [
       "'from sklearn.linear_model import LogisticRegression\\nfrom sklearn.model_selection import cross_val_score\\n\\n# Initialize the Logistic Regression model with selected hyperparameters\\nlog_reg_model = LogisticRegression(C=1, penalty=\\'l2\\', solver=\\'liblinear\\', max_iter=100, class_weight=None)\\n\\n# Perform cross-validation\\ncv_scores = cross_val_score(log_reg_model, X_train, y_train, cv=8, scoring=\\'accuracy\\')\\n\\n# Print the cross-validation scores\\nprint(\"Cross-validation scores:\", cv_scores)\\nprint(\"Mean CV Accuracy:\", cv_scores.mean())'"
      ]
     },
     "execution_count": 127,
     "metadata": {},
     "output_type": "execute_result"
    }
   ],
   "source": [
    "\"\"\"from sklearn.linear_model import LogisticRegression\n",
    "from sklearn.model_selection import cross_val_score\n",
    "\n",
    "# Initialize the Logistic Regression model with selected hyperparameters\n",
    "log_reg_model = LogisticRegression(C=1, penalty='l2', solver='liblinear', max_iter=100, class_weight=None)\n",
    "\n",
    "# Perform cross-validation\n",
    "cv_scores = cross_val_score(log_reg_model, X_train, y_train, cv=8, scoring='accuracy')\n",
    "\n",
    "# Print the cross-validation scores\n",
    "print(\"Cross-validation scores:\", cv_scores)\n",
    "print(\"Mean CV Accuracy:\", cv_scores.mean())\"\"\""
   ]
  },
  {
   "cell_type": "markdown",
   "id": "7ef9d780",
   "metadata": {
    "papermill": {
     "duration": 0.049177,
     "end_time": "2024-04-10T11:44:52.700072",
     "exception": false,
     "start_time": "2024-04-10T11:44:52.650895",
     "status": "completed"
    },
    "tags": []
   },
   "source": [
    "Cross-validation scores: [0.76739356 0.76531672 0.76531672 0.76531672 0.76323988 0.76635514\n",
    " 0.76220145 0.76739356 0.76739356 0.7642783  0.76611227]\n",
    "Mean CV Accuracy: 0.7654834430535367\n",
    "\n",
    "Cross-validation scores: [0.76712329 0.77133825 0.76501581 0.76606955 0.76923077 0.76923077\n",
    " 0.76712329 0.77028451 0.76898734 0.7721519  0.77109705]\n",
    "Mean CV Accuracy: 0.7688775013207126\n",
    "\n",
    "Cross-validation scores: [0.77263158 0.76842105 0.76947368 0.76947368 0.77344573 0.77239199\n",
    " 0.76817703 0.77028451 0.76606955 0.77133825 0.76817703]\n",
    "Mean CV Accuracy: 0.7699894625922024"
   ]
  },
  {
   "cell_type": "markdown",
   "id": "f81abe1a",
   "metadata": {
    "papermill": {
     "duration": 0.049597,
     "end_time": "2024-04-10T11:44:52.798770",
     "exception": false,
     "start_time": "2024-04-10T11:44:52.749173",
     "status": "completed"
    },
    "tags": []
   },
   "source": [
    "### **Final Model Creation**"
   ]
  },
  {
   "cell_type": "code",
   "execution_count": 128,
   "id": "e0f561d7",
   "metadata": {
    "execution": {
     "iopub.execute_input": "2024-04-10T11:44:52.898565Z",
     "iopub.status.busy": "2024-04-10T11:44:52.898156Z",
     "iopub.status.idle": "2024-04-10T11:44:55.113467Z",
     "shell.execute_reply": "2024-04-10T11:44:55.112007Z"
    },
    "papermill": {
     "duration": 2.268222,
     "end_time": "2024-04-10T11:44:55.115918",
     "exception": false,
     "start_time": "2024-04-10T11:44:52.847696",
     "status": "completed"
    },
    "tags": []
   },
   "outputs": [
    {
     "data": {
      "text/html": [
       "<style>#sk-container-id-1 {color: black;background-color: white;}#sk-container-id-1 pre{padding: 0;}#sk-container-id-1 div.sk-toggleable {background-color: white;}#sk-container-id-1 label.sk-toggleable__label {cursor: pointer;display: block;width: 100%;margin-bottom: 0;padding: 0.3em;box-sizing: border-box;text-align: center;}#sk-container-id-1 label.sk-toggleable__label-arrow:before {content: \"▸\";float: left;margin-right: 0.25em;color: #696969;}#sk-container-id-1 label.sk-toggleable__label-arrow:hover:before {color: black;}#sk-container-id-1 div.sk-estimator:hover label.sk-toggleable__label-arrow:before {color: black;}#sk-container-id-1 div.sk-toggleable__content {max-height: 0;max-width: 0;overflow: hidden;text-align: left;background-color: #f0f8ff;}#sk-container-id-1 div.sk-toggleable__content pre {margin: 0.2em;color: black;border-radius: 0.25em;background-color: #f0f8ff;}#sk-container-id-1 input.sk-toggleable__control:checked~div.sk-toggleable__content {max-height: 200px;max-width: 100%;overflow: auto;}#sk-container-id-1 input.sk-toggleable__control:checked~label.sk-toggleable__label-arrow:before {content: \"▾\";}#sk-container-id-1 div.sk-estimator input.sk-toggleable__control:checked~label.sk-toggleable__label {background-color: #d4ebff;}#sk-container-id-1 div.sk-label input.sk-toggleable__control:checked~label.sk-toggleable__label {background-color: #d4ebff;}#sk-container-id-1 input.sk-hidden--visually {border: 0;clip: rect(1px 1px 1px 1px);clip: rect(1px, 1px, 1px, 1px);height: 1px;margin: -1px;overflow: hidden;padding: 0;position: absolute;width: 1px;}#sk-container-id-1 div.sk-estimator {font-family: monospace;background-color: #f0f8ff;border: 1px dotted black;border-radius: 0.25em;box-sizing: border-box;margin-bottom: 0.5em;}#sk-container-id-1 div.sk-estimator:hover {background-color: #d4ebff;}#sk-container-id-1 div.sk-parallel-item::after {content: \"\";width: 100%;border-bottom: 1px solid gray;flex-grow: 1;}#sk-container-id-1 div.sk-label:hover label.sk-toggleable__label {background-color: #d4ebff;}#sk-container-id-1 div.sk-serial::before {content: \"\";position: absolute;border-left: 1px solid gray;box-sizing: border-box;top: 0;bottom: 0;left: 50%;z-index: 0;}#sk-container-id-1 div.sk-serial {display: flex;flex-direction: column;align-items: center;background-color: white;padding-right: 0.2em;padding-left: 0.2em;position: relative;}#sk-container-id-1 div.sk-item {position: relative;z-index: 1;}#sk-container-id-1 div.sk-parallel {display: flex;align-items: stretch;justify-content: center;background-color: white;position: relative;}#sk-container-id-1 div.sk-item::before, #sk-container-id-1 div.sk-parallel-item::before {content: \"\";position: absolute;border-left: 1px solid gray;box-sizing: border-box;top: 0;bottom: 0;left: 50%;z-index: -1;}#sk-container-id-1 div.sk-parallel-item {display: flex;flex-direction: column;z-index: 1;position: relative;background-color: white;}#sk-container-id-1 div.sk-parallel-item:first-child::after {align-self: flex-end;width: 50%;}#sk-container-id-1 div.sk-parallel-item:last-child::after {align-self: flex-start;width: 50%;}#sk-container-id-1 div.sk-parallel-item:only-child::after {width: 0;}#sk-container-id-1 div.sk-dashed-wrapped {border: 1px dashed gray;margin: 0 0.4em 0.5em 0.4em;box-sizing: border-box;padding-bottom: 0.4em;background-color: white;}#sk-container-id-1 div.sk-label label {font-family: monospace;font-weight: bold;display: inline-block;line-height: 1.2em;}#sk-container-id-1 div.sk-label-container {text-align: center;}#sk-container-id-1 div.sk-container {/* jupyter's `normalize.less` sets `[hidden] { display: none; }` but bootstrap.min.css set `[hidden] { display: none !important; }` so we also need the `!important` here to be able to override the default hidden behavior on the sphinx rendered scikit-learn.org. See: https://github.com/scikit-learn/scikit-learn/issues/21755 */display: inline-block !important;position: relative;}#sk-container-id-1 div.sk-text-repr-fallback {display: none;}</style><div id=\"sk-container-id-1\" class=\"sk-top-container\"><div class=\"sk-text-repr-fallback\"><pre>LogisticRegression(C=1, max_iter=200, solver=&#x27;liblinear&#x27;)</pre><b>In a Jupyter environment, please rerun this cell to show the HTML representation or trust the notebook. <br />On GitHub, the HTML representation is unable to render, please try loading this page with nbviewer.org.</b></div><div class=\"sk-container\" hidden><div class=\"sk-item\"><div class=\"sk-estimator sk-toggleable\"><input class=\"sk-toggleable__control sk-hidden--visually\" id=\"sk-estimator-id-1\" type=\"checkbox\" checked><label for=\"sk-estimator-id-1\" class=\"sk-toggleable__label sk-toggleable__label-arrow\">LogisticRegression</label><div class=\"sk-toggleable__content\"><pre>LogisticRegression(C=1, max_iter=200, solver=&#x27;liblinear&#x27;)</pre></div></div></div></div></div>"
      ],
      "text/plain": [
       "LogisticRegression(C=1, max_iter=200, solver='liblinear')"
      ]
     },
     "execution_count": 128,
     "metadata": {},
     "output_type": "execute_result"
    }
   ],
   "source": [
    "from sklearn.linear_model import LogisticRegression\n",
    "\n",
    "# Initialize the Logistic Regression model with selected hyperparameters\n",
    "log_reg_model = LogisticRegression(C=1, penalty='l2', solver='liblinear', max_iter=200, class_weight=None)\n",
    "\n",
    "# Train the model on the training data\n",
    "log_reg_model.fit(X_train, y_train)"
   ]
  },
  {
   "cell_type": "markdown",
   "id": "26fbbc9c",
   "metadata": {
    "papermill": {
     "duration": 0.048473,
     "end_time": "2024-04-10T11:44:55.213357",
     "exception": false,
     "start_time": "2024-04-10T11:44:55.164884",
     "status": "completed"
    },
    "tags": []
   },
   "source": [
    "# **Prediction and storing**"
   ]
  },
  {
   "cell_type": "code",
   "execution_count": 129,
   "id": "ae4a7276",
   "metadata": {
    "execution": {
     "iopub.execute_input": "2024-04-10T11:44:55.312678Z",
     "iopub.status.busy": "2024-04-10T11:44:55.311764Z",
     "iopub.status.idle": "2024-04-10T11:44:55.360896Z",
     "shell.execute_reply": "2024-04-10T11:44:55.359800Z"
    },
    "papermill": {
     "duration": 0.101901,
     "end_time": "2024-04-10T11:44:55.363772",
     "exception": false,
     "start_time": "2024-04-10T11:44:55.261871",
     "status": "completed"
    },
    "tags": []
   },
   "outputs": [],
   "source": [
    "# Assuming test_data_ori is your DataFrame\n",
    "test_data_ori = test_data_ori.drop(columns=['Rating'])"
   ]
  },
  {
   "cell_type": "code",
   "execution_count": 130,
   "id": "aab58f1a",
   "metadata": {
    "execution": {
     "iopub.execute_input": "2024-04-10T11:44:55.521900Z",
     "iopub.status.busy": "2024-04-10T11:44:55.520529Z",
     "iopub.status.idle": "2024-04-10T11:44:55.684442Z",
     "shell.execute_reply": "2024-04-10T11:44:55.683106Z"
    },
    "papermill": {
     "duration": 0.275429,
     "end_time": "2024-04-10T11:44:55.687831",
     "exception": false,
     "start_time": "2024-04-10T11:44:55.412402",
     "status": "completed"
    },
    "tags": []
   },
   "outputs": [],
   "source": [
    "# Predict ratings for the test data\n",
    "y_pred = log_reg_model.predict(test_data_ori)"
   ]
  },
  {
   "cell_type": "code",
   "execution_count": 131,
   "id": "8ab5bdb7",
   "metadata": {
    "execution": {
     "iopub.execute_input": "2024-04-10T11:44:55.838597Z",
     "iopub.status.busy": "2024-04-10T11:44:55.838184Z",
     "iopub.status.idle": "2024-04-10T11:44:55.843694Z",
     "shell.execute_reply": "2024-04-10T11:44:55.842677Z"
    },
    "papermill": {
     "duration": 0.06805,
     "end_time": "2024-04-10T11:44:55.845868",
     "exception": false,
     "start_time": "2024-04-10T11:44:55.777818",
     "status": "completed"
    },
    "tags": []
   },
   "outputs": [
    {
     "name": "stdout",
     "output_type": "stream",
     "text": [
      "[5. 5. 5. ... 5. 1. 5.]\n"
     ]
    }
   ],
   "source": [
    "print(y_pred)"
   ]
  },
  {
   "cell_type": "code",
   "execution_count": 132,
   "id": "46fc22eb",
   "metadata": {
    "execution": {
     "iopub.execute_input": "2024-04-10T11:44:55.949864Z",
     "iopub.status.busy": "2024-04-10T11:44:55.949460Z",
     "iopub.status.idle": "2024-04-10T11:44:55.956229Z",
     "shell.execute_reply": "2024-04-10T11:44:55.955448Z"
    },
    "papermill": {
     "duration": 0.060872,
     "end_time": "2024-04-10T11:44:55.958446",
     "exception": false,
     "start_time": "2024-04-10T11:44:55.897574",
     "status": "completed"
    },
    "tags": []
   },
   "outputs": [
    {
     "name": "stdout",
     "output_type": "stream",
     "text": [
      "Rating: 0.0, Count: 105\n",
      "Rating: 1.0, Count: 19\n",
      "Rating: 3.0, Count: 9\n",
      "Rating: 4.0, Count: 77\n",
      "Rating: 5.0, Count: 4336\n"
     ]
    }
   ],
   "source": [
    "import numpy as np\n",
    "\n",
    "# Get the unique values and their counts\n",
    "unique_values, counts = np.unique(y_pred, return_counts=True)\n",
    "\n",
    "# Print the unique values and their counts\n",
    "for value, count in zip(unique_values, counts):\n",
    "    print(f\"Rating: {value}, Count: {count}\")"
   ]
  },
  {
   "cell_type": "code",
   "execution_count": 133,
   "id": "95b64955",
   "metadata": {
    "execution": {
     "iopub.execute_input": "2024-04-10T11:44:56.059212Z",
     "iopub.status.busy": "2024-04-10T11:44:56.058589Z",
     "iopub.status.idle": "2024-04-10T11:44:56.075628Z",
     "shell.execute_reply": "2024-04-10T11:44:56.074177Z"
    },
    "papermill": {
     "duration": 0.071276,
     "end_time": "2024-04-10T11:44:56.078975",
     "exception": false,
     "start_time": "2024-04-10T11:44:56.007699",
     "status": "completed"
    },
    "tags": []
   },
   "outputs": [],
   "source": [
    "submission = pd.DataFrame({\n",
    "    \"ID\": range(1,4547),\n",
    "    \"Rating\":y_pred\n",
    "})\n",
    "submission.to_csv('submission.csv',index=False)"
   ]
  },
  {
   "cell_type": "code",
   "execution_count": null,
   "id": "3999caaa",
   "metadata": {
    "papermill": {
     "duration": 0.050265,
     "end_time": "2024-04-10T11:44:56.192094",
     "exception": false,
     "start_time": "2024-04-10T11:44:56.141829",
     "status": "completed"
    },
    "tags": []
   },
   "outputs": [],
   "source": []
  }
 ],
 "metadata": {
  "kaggle": {
   "accelerator": "none",
   "dataSources": [
    {
     "databundleVersionId": 7452256,
     "sourceId": 67079,
     "sourceType": "competition"
    }
   ],
   "dockerImageVersionId": 30673,
   "isGpuEnabled": false,
   "isInternetEnabled": true,
   "language": "python",
   "sourceType": "notebook"
  },
  "kernelspec": {
   "display_name": "Python 3",
   "language": "python",
   "name": "python3"
  },
  "language_info": {
   "codemirror_mode": {
    "name": "ipython",
    "version": 3
   },
   "file_extension": ".py",
   "mimetype": "text/x-python",
   "name": "python",
   "nbconvert_exporter": "python",
   "pygments_lexer": "ipython3",
   "version": "3.10.13"
  },
  "papermill": {
   "default_parameters": {},
   "duration": 38.502464,
   "end_time": "2024-04-10T11:44:56.965184",
   "environment_variables": {},
   "exception": null,
   "input_path": "__notebook__.ipynb",
   "output_path": "__notebook__.ipynb",
   "parameters": {},
   "start_time": "2024-04-10T11:44:18.462720",
   "version": "2.5.0"
  }
 },
 "nbformat": 4,
 "nbformat_minor": 5
}
